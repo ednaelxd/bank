{
  "cells": [
    {
      "cell_type": "code",
      "execution_count": 4,
      "metadata": {},
      "outputs": [
        {
          "name": "stdout",
          "output_type": "stream",
          "text": [
            "Mean ROC AUC: 0.932\n"
          ]
        }
      ],
      "source": [
        "from utils import train_and_search, plot_results, handle_param_names, show_value_counts, plot_grid, plot_cf_matrix\n",
        "import pandas as pd\n",
        "from sklearn.model_selection import train_test_split, StratifiedKFold, cross_val_score\n",
        "from sklearn.metrics import f1_score\n",
        "\n",
        "from imblearn.under_sampling import RandomUnderSampler\n",
        "\n",
        "from sklearn.ensemble import AdaBoostClassifier\n",
        "from sklearn.ensemble import ExtraTreesClassifier\n",
        "from sklearn.ensemble import GradientBoostingClassifier\n",
        "from sklearn.ensemble import HistGradientBoostingClassifier\n",
        "from sklearn.ensemble import VotingClassifier\n",
        "\n",
        "from sklearn.neural_network import MLPClassifier\n"
      ]
    },
    {
      "cell_type": "code",
      "execution_count": 5,
      "metadata": {},
      "outputs": [],
      "source": [
        "SEED = 42"
      ]
    },
    {
      "cell_type": "code",
      "execution_count": 6,
      "metadata": {
        "colab": {
          "base_uri": "https://localhost:8080/"
        },
        "id": "KL5nJSwRb29e",
        "outputId": "b20177bb-bbe7-44ef-a1a5-9806f1554e96"
      },
      "outputs": [
        {
          "name": "stdout",
          "output_type": "stream",
          "text": [
            "(43294, 46)\n"
          ]
        }
      ],
      "source": [
        "\n",
        "# loading data\n",
        "df = pd.read_csv('../dataset/bank-preprocessed.csv')\n",
        "\n",
        "# dimensions of the datase\n",
        "print(df.shape)\n",
        "\n",
        "# converting data\n",
        "X = df.drop(columns=['y', 'duration'], axis=1)\n",
        "y = df['y']\n",
        "\n",
        "# seed for reproducibility\n",
        "seed = 7\n",
        "\n",
        "X_train, X_test, y_train, y_test = train_test_split(X, y, test_size = 0.20, random_state = SEED)"
      ]
    },
    {
      "cell_type": "code",
      "execution_count": 7,
      "metadata": {},
      "outputs": [
        {
          "data": {
            "image/png": "[encoded data removed]",
            "text/plain": [
              "<Figure size 1008x72 with 2 Axes>"
            ]
          },
          "metadata": {
            "needs_background": "light"
          },
          "output_type": "display_data"
        },
        {
          "data": {
            "text/plain": [
              "<Figure size 360x720 with 0 Axes>"
            ]
          },
          "metadata": {},
          "output_type": "display_data"
        },
        {
          "data": {
            "text/plain": [
              "<Figure size 360x720 with 0 Axes>"
            ]
          },
          "metadata": {},
          "output_type": "display_data"
        }
      ],
      "source": [
        "train_plotting_infos = [{'serie': y_train, 'title': 'Records by class in train set'},\n",
        "                        {'serie': y_test, 'title': 'Records by class in test set'}]\n",
        "plot_grid([[show_value_counts, plotting_info] for plotting_info in train_plotting_infos], \n",
        "            n_cols=2, width_scale=7, height_scale=1)"
      ]
    },
    {
      "cell_type": "code",
      "execution_count": 12,
      "metadata": {},
      "outputs": [],
      "source": [
        "import pandas as pd\n",
        "\n",
        "from imblearn.over_sampling import SMOTE\n",
        "\n",
        "from sklearn.model_selection import StratifiedKFold, KFold\n",
        "\n",
        "def cross_val_imbalanced(model, X_train, y_train, params={}, cv=None, sampler=None):\n",
        "    X_train = X_train.values\n",
        "    y_train = y_train.values\n",
        "    if cv is None:\n",
        "        cv = KFold(n_splits=10, random_state=seed, shuffle=True)\n",
        "\n",
        "    if sampler is None:\n",
        "        sampler = SMOTE(random_state=seed)\n",
        "    \n",
        "    results = pd.DataFrame([])\n",
        "    print(f\"Params: {params}\")\n",
        "    for kf_index, (train_ix, valid_ix) in enumerate(cv.split(X_train, y_train)):\n",
        "        model_obj = model(random_state=SEED, **params)\n",
        "        X_train_fold, X_val_fold = X_train[train_ix], X_train[valid_ix]\n",
        "        y_train_fold, y_val_fold = y_train[train_ix], y_train[valid_ix]\n",
        "        # summarize train and test composition\n",
        "        train_0, train_1 = len(y_train_fold[y_train_fold==0]), len(y_train_fold[y_train_fold==1])\n",
        "        val_0, val_1 = len(y_val_fold[y_val_fold==0]), len(y_val_fold[y_val_fold==1])\n",
        "        print('K-fold (%d) >Before resampler - Train: 0=%d, 1=%d, Val: 0=%d, 1=%d' % (kf_index, train_0, train_1, val_0, val_1))\n",
        "        X_train_fold_resampled, y_train_fold_resampled = sampler.fit_resample(X_train_fold, y_train_fold)\n",
        "        train_0_resampled, train_1_resampled = len(y_train_fold_resampled[y_train_fold_resampled==0]), len(y_train_fold_resampled[y_train_fold_resampled==1])\n",
        "        print('K-fold (%d) >After resampler - Train: 0=%d, 1=%d, Val: 0=%d, 1=%d' % (kf_index, train_0_resampled, train_1_resampled, val_0, val_1))\n",
        "        model_obj.fit(X_train_fold_resampled, y_train_fold_resampled)\n",
        "        train_score = f1_score(y_train_fold_resampled, model_obj.predict(X_train_fold_resampled))\n",
        "        val_score = f1_score(y_val_fold, model_obj.predict(X_val_fold))\n",
        "        print(f'Train Score: {train_score:.3f}, Val Score: {val_score:.3f}')\n",
        "        results = results.append({\"params\": params, \"kfold\": kf_index, \"train_score\": train_score, \"val_score\": val_score}, ignore_index=True)\n",
        "    return model_obj, results"
      ]
    },
    {
      "cell_type": "code",
      "execution_count": 9,
      "metadata": {},
      "outputs": [],
      "source": [
        "def run_experiment(model_class=MLPClassifier, params={}):\n",
        "    trained_model, results = cross_val_imbalanced(model_class, X_train, y_train, params=params)\n",
        "    print(\"Média de Treino: \", results['train_score'].mean())\n",
        "    print(\"Média de Validação: \", results['val_score'].mean())\n",
        "    print(\"Média de Teste: \", f1_score(y_test, trained_model.predict(X_test)))\n",
        "    results = results.sort_values('val_score', ascending=False)\n",
        "    return {'trained_model': trained_model, 'params': params, 'results': results}"
      ]
    },
    {
      "cell_type": "code",
      "execution_count": 10,
      "metadata": {},
      "outputs": [],
      "source": [
        "classifiers = []"
      ]
    },
    {
      "cell_type": "code",
      "execution_count": 11,
      "metadata": {},
      "outputs": [
        {
          "name": "stdout",
          "output_type": "stream",
          "text": [
            "Params: {}\n",
            "K-fold (0) >Before resampler - Train: 0=27514, 1=3657, Val: 0=3042, 1=422\n",
            "K-fold (0) >After resampler - Train: 0=27514, 1=27514, Val: 0=3042, 1=422\n",
            "Train Score: 0.897, Val Score: 0.264\n",
            "K-fold (1) >Before resampler - Train: 0=27528, 1=3643, Val: 0=3028, 1=436\n",
            "K-fold (1) >After resampler - Train: 0=27528, 1=27528, Val: 0=3028, 1=436\n",
            "Train Score: 0.929, Val Score: 0.303\n",
            "K-fold (2) >Before resampler - Train: 0=27506, 1=3665, Val: 0=3050, 1=414\n",
            "K-fold (2) >After resampler - Train: 0=27506, 1=27506, Val: 0=3050, 1=414\n",
            "Train Score: 0.811, Val Score: 0.094\n",
            "K-fold (3) >Before resampler - Train: 0=27531, 1=3640, Val: 0=3025, 1=439\n",
            "K-fold (3) >After resampler - Train: 0=27531, 1=27531, Val: 0=3025, 1=439\n",
            "Train Score: 0.911, Val Score: 0.267\n",
            "K-fold (4) >Before resampler - Train: 0=27476, 1=3695, Val: 0=3080, 1=384\n",
            "K-fold (4) >After resampler - Train: 0=27476, 1=27476, Val: 0=3080, 1=384\n",
            "Train Score: 0.907, Val Score: 0.352\n",
            "K-fold (5) >Before resampler - Train: 0=27508, 1=3664, Val: 0=3048, 1=415\n",
            "K-fold (5) >After resampler - Train: 0=27508, 1=27508, Val: 0=3048, 1=415\n",
            "Train Score: 0.923, Val Score: 0.383\n",
            "K-fold (6) >Before resampler - Train: 0=27449, 1=3723, Val: 0=3107, 1=356\n",
            "K-fold (6) >After resampler - Train: 0=27449, 1=27449, Val: 0=3107, 1=356\n",
            "Train Score: 0.877, Val Score: 0.296\n",
            "K-fold (7) >Before resampler - Train: 0=27485, 1=3687, Val: 0=3071, 1=392\n",
            "K-fold (7) >After resampler - Train: 0=27485, 1=27485, Val: 0=3071, 1=392\n",
            "Train Score: 0.880, Val Score: 0.141\n",
            "K-fold (8) >Before resampler - Train: 0=27523, 1=3649, Val: 0=3033, 1=430\n",
            "K-fold (8) >After resampler - Train: 0=27523, 1=27523, Val: 0=3033, 1=430\n",
            "Train Score: 0.914, Val Score: 0.363\n",
            "K-fold (9) >Before resampler - Train: 0=27484, 1=3688, Val: 0=3072, 1=391\n",
            "K-fold (9) >After resampler - Train: 0=27484, 1=27484, Val: 0=3072, 1=391\n",
            "Train Score: 0.873, Val Score: 0.184\n",
            "Max Val Score: 0.383\n",
            "Média de Treino:  0.8921140424465863\n",
            "Média de Validação:  0.2647291554564654\n",
            "Média de Teste:  0.17967332123411978\n"
          ]
        },
        {
          "name": "stderr",
          "output_type": "stream",
          "text": [
            "d:\\Users\\dav\\anaconda3\\envs\\pos\\lib\\site-packages\\sklearn\\base.py:443: UserWarning: X has feature names, but MLPClassifier was fitted without feature names\n",
            "  warnings.warn(\n"
          ]
        }
      ],
      "source": [
        "# treinamento do MLP sem parâmetros\n",
        "params = {}\n",
        "classifiers.append(run_experiment(MLPClassifier, params))\n"
      ]
    },
    {
      "cell_type": "markdown",
      "metadata": {},
      "source": [
        "## Testando uma rede neural com parâmetros com SMOTE oversampling"
      ]
    },
    {
      "cell_type": "code",
      "execution_count": 13,
      "metadata": {},
      "outputs": [
        {
          "name": "stdout",
          "output_type": "stream",
          "text": [
            "Params: {'hidden_layer_sizes': (50, 50, 50), 'activation': 'relu', 'solver': 'adam', 'alpha': 0.001, 'learning_rate': 'adaptive'}\n",
            "K-fold (0) >Before resampler - Train: 0=27514, 1=3657, Val: 0=3042, 1=422\n",
            "K-fold (0) >After resampler - Train: 0=27514, 1=27514, Val: 0=3042, 1=422\n",
            "Train Score: 0.929, Val Score: 0.301\n",
            "K-fold (1) >Before resampler - Train: 0=27528, 1=3643, Val: 0=3028, 1=436\n",
            "K-fold (1) >After resampler - Train: 0=27528, 1=27528, Val: 0=3028, 1=436\n",
            "Train Score: 0.920, Val Score: 0.255\n",
            "K-fold (2) >Before resampler - Train: 0=27506, 1=3665, Val: 0=3050, 1=414\n",
            "K-fold (2) >After resampler - Train: 0=27506, 1=27506, Val: 0=3050, 1=414\n",
            "Train Score: 0.926, Val Score: 0.225\n",
            "K-fold (3) >Before resampler - Train: 0=27531, 1=3640, Val: 0=3025, 1=439\n",
            "K-fold (3) >After resampler - Train: 0=27531, 1=27531, Val: 0=3025, 1=439\n",
            "Train Score: 0.936, Val Score: 0.372\n",
            "K-fold (4) >Before resampler - Train: 0=27476, 1=3695, Val: 0=3080, 1=384\n",
            "K-fold (4) >After resampler - Train: 0=27476, 1=27476, Val: 0=3080, 1=384\n",
            "Train Score: 0.916, Val Score: 0.379\n",
            "K-fold (5) >Before resampler - Train: 0=27508, 1=3664, Val: 0=3048, 1=415\n",
            "K-fold (5) >After resampler - Train: 0=27508, 1=27508, Val: 0=3048, 1=415\n",
            "Train Score: 0.930, Val Score: 0.315\n",
            "K-fold (6) >Before resampler - Train: 0=27449, 1=3723, Val: 0=3107, 1=356\n",
            "K-fold (6) >After resampler - Train: 0=27449, 1=27449, Val: 0=3107, 1=356\n",
            "Train Score: 0.910, Val Score: 0.288\n",
            "K-fold (7) >Before resampler - Train: 0=27485, 1=3687, Val: 0=3071, 1=392\n",
            "K-fold (7) >After resampler - Train: 0=27485, 1=27485, Val: 0=3071, 1=392\n",
            "Train Score: 0.930, Val Score: 0.295\n",
            "K-fold (8) >Before resampler - Train: 0=27523, 1=3649, Val: 0=3033, 1=430\n",
            "K-fold (8) >After resampler - Train: 0=27523, 1=27523, Val: 0=3033, 1=430\n",
            "Train Score: 0.923, Val Score: 0.343\n",
            "K-fold (9) >Before resampler - Train: 0=27484, 1=3688, Val: 0=3072, 1=391\n",
            "K-fold (9) >After resampler - Train: 0=27484, 1=27484, Val: 0=3072, 1=391\n",
            "Train Score: 0.806, Val Score: 0.160\n",
            "Média de Treino:  0.9126851101454164\n",
            "Média de Validação:  0.2934384797741672\n",
            "Média de Teste:  0.15271389144434222\n"
          ]
        },
        {
          "name": "stderr",
          "output_type": "stream",
          "text": [
            "d:\\Users\\dav\\anaconda3\\envs\\pos\\lib\\site-packages\\sklearn\\base.py:443: UserWarning: X has feature names, but MLPClassifier was fitted without feature names\n",
            "  warnings.warn(\n"
          ]
        }
      ],
      "source": [
        "# treinamento do MLP sem parâmetros\n",
        "params = {\n",
        "    'hidden_layer_sizes': (50,50,50),\n",
        "    'activation': 'relu',\n",
        "    'solver': 'adam',\n",
        "    'alpha': 0.001,\n",
        "    'learning_rate': 'adaptive',\n",
        "}\n",
        "classifiers.append(run_experiment(MLPClassifier, params))\n"
      ]
    },
    {
      "cell_type": "markdown",
      "metadata": {},
      "source": [
        "## Testando uma rede neural com Tensorflow com parâmetros com SMOTE oversampling"
      ]
    },
    {
      "cell_type": "code",
      "execution_count": 18,
      "metadata": {},
      "outputs": [],
      "source": [
        "from imblearn.combine import SMOTEENN\n",
        "from tensorflow.keras.models import Sequential\n",
        "from tensorflow.keras.layers import Dense\n",
        "from tensorflow.keras.optimizers import SGD\n",
        "\n",
        "# treinamento do MLP sem parâmetros\n",
        "\n",
        "\n",
        "mlp = MLPClassifier\n",
        "params = {\n",
        "    'hidden_layer_sizes': (50,50,50),\n",
        "    'activation': 'relu',\n",
        "    'solver': 'adam',\n",
        "    'alpha': 0.001,\n",
        "    'learning_rate': 'adaptive',\n",
        "}\n",
        "# results = cross_val_imbalanced(mlp, X_train, y_train, params=params)\n",
        "# print(\"Média de treino: \", results['train_score'].mean())\n",
        "# print(\"Média de Validação: \", results['val_score'].mean())\n",
        "# results.sort_values('val_score', ascending=False)"
      ]
    },
    {
      "cell_type": "code",
      "execution_count": 28,
      "metadata": {
        "colab": {
          "base_uri": "https://localhost:8080/"
        },
        "id": "i5h_MLLoZZdy",
        "outputId": "cc2afb29-c74b-43d4-df96-cb984a9aa8a8"
      },
      "outputs": [
        {
          "ename": "FileNotFoundError",
          "evalue": "[Errno 2] No such file or directory: 'pima-indians-diabetes.csv'",
          "output_type": "error",
          "traceback": [
            "\u001b[1;31m---------------------------------------------------------------------------\u001b[0m",
            "\u001b[1;31mFileNotFoundError\u001b[0m                         Traceback (most recent call last)",
            "\u001b[1;32md:\\Projetos\\modelos\\projeto\\notebooks\\05 - neural network ensemble.ipynb Cell 8'\u001b[0m in \u001b[0;36m<module>\u001b[1;34m\u001b[0m\n\u001b[0;32m      <a href='vscode-notebook-cell:/d%3A/Projetos/modelos/projeto/notebooks/05%20-%20neural%20network%20ensemble.ipynb#ch0000005?line=8'>9</a>\u001b[0m np\u001b[39m.\u001b[39mrandom\u001b[39m.\u001b[39mseed(seed)\n\u001b[0;32m     <a href='vscode-notebook-cell:/d%3A/Projetos/modelos/projeto/notebooks/05%20-%20neural%20network%20ensemble.ipynb#ch0000005?line=10'>11</a>\u001b[0m names \u001b[39m=\u001b[39m [\u001b[39m'\u001b[39m\u001b[39mpreg\u001b[39m\u001b[39m'\u001b[39m, \u001b[39m'\u001b[39m\u001b[39mplas\u001b[39m\u001b[39m'\u001b[39m, \u001b[39m'\u001b[39m\u001b[39mpres\u001b[39m\u001b[39m'\u001b[39m, \u001b[39m'\u001b[39m\u001b[39mskin\u001b[39m\u001b[39m'\u001b[39m, \u001b[39m'\u001b[39m\u001b[39mtest\u001b[39m\u001b[39m'\u001b[39m, \u001b[39m'\u001b[39m\u001b[39mmass\u001b[39m\u001b[39m'\u001b[39m, \u001b[39m'\u001b[39m\u001b[39mpedi\u001b[39m\u001b[39m'\u001b[39m, \u001b[39m'\u001b[39m\u001b[39mage\u001b[39m\u001b[39m'\u001b[39m, \u001b[39m'\u001b[39m\u001b[39mclass\u001b[39m\u001b[39m'\u001b[39m]\n\u001b[1;32m---> <a href='vscode-notebook-cell:/d%3A/Projetos/modelos/projeto/notebooks/05%20-%20neural%20network%20ensemble.ipynb#ch0000005?line=11'>12</a>\u001b[0m df \u001b[39m=\u001b[39m pandas\u001b[39m.\u001b[39;49mread_csv(\u001b[39m\"\u001b[39;49m\u001b[39mpima-indians-diabetes.csv\u001b[39;49m\u001b[39m\"\u001b[39;49m, names\u001b[39m=\u001b[39;49mnames)\n\u001b[0;32m     <a href='vscode-notebook-cell:/d%3A/Projetos/modelos/projeto/notebooks/05%20-%20neural%20network%20ensemble.ipynb#ch0000005?line=12'>13</a>\u001b[0m array \u001b[39m=\u001b[39m df\u001b[39m.\u001b[39mvalues\n\u001b[0;32m     <a href='vscode-notebook-cell:/d%3A/Projetos/modelos/projeto/notebooks/05%20-%20neural%20network%20ensemble.ipynb#ch0000005?line=13'>14</a>\u001b[0m X \u001b[39m=\u001b[39m array[:,\u001b[39m0\u001b[39m:\u001b[39m8\u001b[39m]\n",
            "File \u001b[1;32md:\\Users\\dav\\anaconda3\\envs\\pos\\lib\\site-packages\\pandas\\util\\_decorators.py:311\u001b[0m, in \u001b[0;36mdeprecate_nonkeyword_arguments.<locals>.decorate.<locals>.wrapper\u001b[1;34m(*args, **kwargs)\u001b[0m\n\u001b[0;32m    <a href='file:///d%3A/Users/dav/anaconda3/envs/pos/lib/site-packages/pandas/util/_decorators.py?line=304'>305</a>\u001b[0m \u001b[39mif\u001b[39;00m \u001b[39mlen\u001b[39m(args) \u001b[39m>\u001b[39m num_allow_args:\n\u001b[0;32m    <a href='file:///d%3A/Users/dav/anaconda3/envs/pos/lib/site-packages/pandas/util/_decorators.py?line=305'>306</a>\u001b[0m     warnings\u001b[39m.\u001b[39mwarn(\n\u001b[0;32m    <a href='file:///d%3A/Users/dav/anaconda3/envs/pos/lib/site-packages/pandas/util/_decorators.py?line=306'>307</a>\u001b[0m         msg\u001b[39m.\u001b[39mformat(arguments\u001b[39m=\u001b[39marguments),\n\u001b[0;32m    <a href='file:///d%3A/Users/dav/anaconda3/envs/pos/lib/site-packages/pandas/util/_decorators.py?line=307'>308</a>\u001b[0m         \u001b[39mFutureWarning\u001b[39;00m,\n\u001b[0;32m    <a href='file:///d%3A/Users/dav/anaconda3/envs/pos/lib/site-packages/pandas/util/_decorators.py?line=308'>309</a>\u001b[0m         stacklevel\u001b[39m=\u001b[39mstacklevel,\n\u001b[0;32m    <a href='file:///d%3A/Users/dav/anaconda3/envs/pos/lib/site-packages/pandas/util/_decorators.py?line=309'>310</a>\u001b[0m     )\n\u001b[1;32m--> <a href='file:///d%3A/Users/dav/anaconda3/envs/pos/lib/site-packages/pandas/util/_decorators.py?line=310'>311</a>\u001b[0m \u001b[39mreturn\u001b[39;00m func(\u001b[39m*\u001b[39;49margs, \u001b[39m*\u001b[39;49m\u001b[39m*\u001b[39;49mkwargs)\n",
            "File \u001b[1;32md:\\Users\\dav\\anaconda3\\envs\\pos\\lib\\site-packages\\pandas\\io\\parsers\\readers.py:586\u001b[0m, in \u001b[0;36mread_csv\u001b[1;34m(filepath_or_buffer, sep, delimiter, header, names, index_col, usecols, squeeze, prefix, mangle_dupe_cols, dtype, engine, converters, true_values, false_values, skipinitialspace, skiprows, skipfooter, nrows, na_values, keep_default_na, na_filter, verbose, skip_blank_lines, parse_dates, infer_datetime_format, keep_date_col, date_parser, dayfirst, cache_dates, iterator, chunksize, compression, thousands, decimal, lineterminator, quotechar, quoting, doublequote, escapechar, comment, encoding, encoding_errors, dialect, error_bad_lines, warn_bad_lines, on_bad_lines, delim_whitespace, low_memory, memory_map, float_precision, storage_options)\u001b[0m\n\u001b[0;32m    <a href='file:///d%3A/Users/dav/anaconda3/envs/pos/lib/site-packages/pandas/io/parsers/readers.py?line=570'>571</a>\u001b[0m kwds_defaults \u001b[39m=\u001b[39m _refine_defaults_read(\n\u001b[0;32m    <a href='file:///d%3A/Users/dav/anaconda3/envs/pos/lib/site-packages/pandas/io/parsers/readers.py?line=571'>572</a>\u001b[0m     dialect,\n\u001b[0;32m    <a href='file:///d%3A/Users/dav/anaconda3/envs/pos/lib/site-packages/pandas/io/parsers/readers.py?line=572'>573</a>\u001b[0m     delimiter,\n\u001b[1;32m   (...)\u001b[0m\n\u001b[0;32m    <a href='file:///d%3A/Users/dav/anaconda3/envs/pos/lib/site-packages/pandas/io/parsers/readers.py?line=581'>582</a>\u001b[0m     defaults\u001b[39m=\u001b[39m{\u001b[39m\"\u001b[39m\u001b[39mdelimiter\u001b[39m\u001b[39m\"\u001b[39m: \u001b[39m\"\u001b[39m\u001b[39m,\u001b[39m\u001b[39m\"\u001b[39m},\n\u001b[0;32m    <a href='file:///d%3A/Users/dav/anaconda3/envs/pos/lib/site-packages/pandas/io/parsers/readers.py?line=582'>583</a>\u001b[0m )\n\u001b[0;32m    <a href='file:///d%3A/Users/dav/anaconda3/envs/pos/lib/site-packages/pandas/io/parsers/readers.py?line=583'>584</a>\u001b[0m kwds\u001b[39m.\u001b[39mupdate(kwds_defaults)\n\u001b[1;32m--> <a href='file:///d%3A/Users/dav/anaconda3/envs/pos/lib/site-packages/pandas/io/parsers/readers.py?line=585'>586</a>\u001b[0m \u001b[39mreturn\u001b[39;00m _read(filepath_or_buffer, kwds)\n",
            "File \u001b[1;32md:\\Users\\dav\\anaconda3\\envs\\pos\\lib\\site-packages\\pandas\\io\\parsers\\readers.py:482\u001b[0m, in \u001b[0;36m_read\u001b[1;34m(filepath_or_buffer, kwds)\u001b[0m\n\u001b[0;32m    <a href='file:///d%3A/Users/dav/anaconda3/envs/pos/lib/site-packages/pandas/io/parsers/readers.py?line=478'>479</a>\u001b[0m _validate_names(kwds\u001b[39m.\u001b[39mget(\u001b[39m\"\u001b[39m\u001b[39mnames\u001b[39m\u001b[39m\"\u001b[39m, \u001b[39mNone\u001b[39;00m))\n\u001b[0;32m    <a href='file:///d%3A/Users/dav/anaconda3/envs/pos/lib/site-packages/pandas/io/parsers/readers.py?line=480'>481</a>\u001b[0m \u001b[39m# Create the parser.\u001b[39;00m\n\u001b[1;32m--> <a href='file:///d%3A/Users/dav/anaconda3/envs/pos/lib/site-packages/pandas/io/parsers/readers.py?line=481'>482</a>\u001b[0m parser \u001b[39m=\u001b[39m TextFileReader(filepath_or_buffer, \u001b[39m*\u001b[39;49m\u001b[39m*\u001b[39;49mkwds)\n\u001b[0;32m    <a href='file:///d%3A/Users/dav/anaconda3/envs/pos/lib/site-packages/pandas/io/parsers/readers.py?line=483'>484</a>\u001b[0m \u001b[39mif\u001b[39;00m chunksize \u001b[39mor\u001b[39;00m iterator:\n\u001b[0;32m    <a href='file:///d%3A/Users/dav/anaconda3/envs/pos/lib/site-packages/pandas/io/parsers/readers.py?line=484'>485</a>\u001b[0m     \u001b[39mreturn\u001b[39;00m parser\n",
            "File \u001b[1;32md:\\Users\\dav\\anaconda3\\envs\\pos\\lib\\site-packages\\pandas\\io\\parsers\\readers.py:811\u001b[0m, in \u001b[0;36mTextFileReader.__init__\u001b[1;34m(self, f, engine, **kwds)\u001b[0m\n\u001b[0;32m    <a href='file:///d%3A/Users/dav/anaconda3/envs/pos/lib/site-packages/pandas/io/parsers/readers.py?line=807'>808</a>\u001b[0m \u001b[39mif\u001b[39;00m \u001b[39m\"\u001b[39m\u001b[39mhas_index_names\u001b[39m\u001b[39m\"\u001b[39m \u001b[39min\u001b[39;00m kwds:\n\u001b[0;32m    <a href='file:///d%3A/Users/dav/anaconda3/envs/pos/lib/site-packages/pandas/io/parsers/readers.py?line=808'>809</a>\u001b[0m     \u001b[39mself\u001b[39m\u001b[39m.\u001b[39moptions[\u001b[39m\"\u001b[39m\u001b[39mhas_index_names\u001b[39m\u001b[39m\"\u001b[39m] \u001b[39m=\u001b[39m kwds[\u001b[39m\"\u001b[39m\u001b[39mhas_index_names\u001b[39m\u001b[39m\"\u001b[39m]\n\u001b[1;32m--> <a href='file:///d%3A/Users/dav/anaconda3/envs/pos/lib/site-packages/pandas/io/parsers/readers.py?line=810'>811</a>\u001b[0m \u001b[39mself\u001b[39m\u001b[39m.\u001b[39m_engine \u001b[39m=\u001b[39m \u001b[39mself\u001b[39;49m\u001b[39m.\u001b[39;49m_make_engine(\u001b[39mself\u001b[39;49m\u001b[39m.\u001b[39;49mengine)\n",
            "File \u001b[1;32md:\\Users\\dav\\anaconda3\\envs\\pos\\lib\\site-packages\\pandas\\io\\parsers\\readers.py:1040\u001b[0m, in \u001b[0;36mTextFileReader._make_engine\u001b[1;34m(self, engine)\u001b[0m\n\u001b[0;32m   <a href='file:///d%3A/Users/dav/anaconda3/envs/pos/lib/site-packages/pandas/io/parsers/readers.py?line=1035'>1036</a>\u001b[0m     \u001b[39mraise\u001b[39;00m \u001b[39mValueError\u001b[39;00m(\n\u001b[0;32m   <a href='file:///d%3A/Users/dav/anaconda3/envs/pos/lib/site-packages/pandas/io/parsers/readers.py?line=1036'>1037</a>\u001b[0m         \u001b[39mf\u001b[39m\u001b[39m\"\u001b[39m\u001b[39mUnknown engine: \u001b[39m\u001b[39m{\u001b[39;00mengine\u001b[39m}\u001b[39;00m\u001b[39m (valid options are \u001b[39m\u001b[39m{\u001b[39;00mmapping\u001b[39m.\u001b[39mkeys()\u001b[39m}\u001b[39;00m\u001b[39m)\u001b[39m\u001b[39m\"\u001b[39m\n\u001b[0;32m   <a href='file:///d%3A/Users/dav/anaconda3/envs/pos/lib/site-packages/pandas/io/parsers/readers.py?line=1037'>1038</a>\u001b[0m     )\n\u001b[0;32m   <a href='file:///d%3A/Users/dav/anaconda3/envs/pos/lib/site-packages/pandas/io/parsers/readers.py?line=1038'>1039</a>\u001b[0m \u001b[39m# error: Too many arguments for \"ParserBase\"\u001b[39;00m\n\u001b[1;32m-> <a href='file:///d%3A/Users/dav/anaconda3/envs/pos/lib/site-packages/pandas/io/parsers/readers.py?line=1039'>1040</a>\u001b[0m \u001b[39mreturn\u001b[39;00m mapping[engine](\u001b[39mself\u001b[39;49m\u001b[39m.\u001b[39;49mf, \u001b[39m*\u001b[39;49m\u001b[39m*\u001b[39;49m\u001b[39mself\u001b[39;49m\u001b[39m.\u001b[39;49moptions)\n",
            "File \u001b[1;32md:\\Users\\dav\\anaconda3\\envs\\pos\\lib\\site-packages\\pandas\\io\\parsers\\c_parser_wrapper.py:51\u001b[0m, in \u001b[0;36mCParserWrapper.__init__\u001b[1;34m(self, src, **kwds)\u001b[0m\n\u001b[0;32m     <a href='file:///d%3A/Users/dav/anaconda3/envs/pos/lib/site-packages/pandas/io/parsers/c_parser_wrapper.py?line=47'>48</a>\u001b[0m kwds[\u001b[39m\"\u001b[39m\u001b[39musecols\u001b[39m\u001b[39m\"\u001b[39m] \u001b[39m=\u001b[39m \u001b[39mself\u001b[39m\u001b[39m.\u001b[39musecols\n\u001b[0;32m     <a href='file:///d%3A/Users/dav/anaconda3/envs/pos/lib/site-packages/pandas/io/parsers/c_parser_wrapper.py?line=49'>50</a>\u001b[0m \u001b[39m# open handles\u001b[39;00m\n\u001b[1;32m---> <a href='file:///d%3A/Users/dav/anaconda3/envs/pos/lib/site-packages/pandas/io/parsers/c_parser_wrapper.py?line=50'>51</a>\u001b[0m \u001b[39mself\u001b[39;49m\u001b[39m.\u001b[39;49m_open_handles(src, kwds)\n\u001b[0;32m     <a href='file:///d%3A/Users/dav/anaconda3/envs/pos/lib/site-packages/pandas/io/parsers/c_parser_wrapper.py?line=51'>52</a>\u001b[0m \u001b[39massert\u001b[39;00m \u001b[39mself\u001b[39m\u001b[39m.\u001b[39mhandles \u001b[39mis\u001b[39;00m \u001b[39mnot\u001b[39;00m \u001b[39mNone\u001b[39;00m\n\u001b[0;32m     <a href='file:///d%3A/Users/dav/anaconda3/envs/pos/lib/site-packages/pandas/io/parsers/c_parser_wrapper.py?line=53'>54</a>\u001b[0m \u001b[39m# Have to pass int, would break tests using TextReader directly otherwise :(\u001b[39;00m\n",
            "File \u001b[1;32md:\\Users\\dav\\anaconda3\\envs\\pos\\lib\\site-packages\\pandas\\io\\parsers\\base_parser.py:222\u001b[0m, in \u001b[0;36mParserBase._open_handles\u001b[1;34m(self, src, kwds)\u001b[0m\n\u001b[0;32m    <a href='file:///d%3A/Users/dav/anaconda3/envs/pos/lib/site-packages/pandas/io/parsers/base_parser.py?line=217'>218</a>\u001b[0m \u001b[39mdef\u001b[39;00m \u001b[39m_open_handles\u001b[39m(\u001b[39mself\u001b[39m, src: FilePathOrBuffer, kwds: \u001b[39mdict\u001b[39m[\u001b[39mstr\u001b[39m, Any]) \u001b[39m-\u001b[39m\u001b[39m>\u001b[39m \u001b[39mNone\u001b[39;00m:\n\u001b[0;32m    <a href='file:///d%3A/Users/dav/anaconda3/envs/pos/lib/site-packages/pandas/io/parsers/base_parser.py?line=218'>219</a>\u001b[0m     \u001b[39m\"\"\"\u001b[39;00m\n\u001b[0;32m    <a href='file:///d%3A/Users/dav/anaconda3/envs/pos/lib/site-packages/pandas/io/parsers/base_parser.py?line=219'>220</a>\u001b[0m \u001b[39m    Let the readers open IOHandles after they are done with their potential raises.\u001b[39;00m\n\u001b[0;32m    <a href='file:///d%3A/Users/dav/anaconda3/envs/pos/lib/site-packages/pandas/io/parsers/base_parser.py?line=220'>221</a>\u001b[0m \u001b[39m    \"\"\"\u001b[39;00m\n\u001b[1;32m--> <a href='file:///d%3A/Users/dav/anaconda3/envs/pos/lib/site-packages/pandas/io/parsers/base_parser.py?line=221'>222</a>\u001b[0m     \u001b[39mself\u001b[39m\u001b[39m.\u001b[39mhandles \u001b[39m=\u001b[39m get_handle(\n\u001b[0;32m    <a href='file:///d%3A/Users/dav/anaconda3/envs/pos/lib/site-packages/pandas/io/parsers/base_parser.py?line=222'>223</a>\u001b[0m         src,\n\u001b[0;32m    <a href='file:///d%3A/Users/dav/anaconda3/envs/pos/lib/site-packages/pandas/io/parsers/base_parser.py?line=223'>224</a>\u001b[0m         \u001b[39m\"\u001b[39;49m\u001b[39mr\u001b[39;49m\u001b[39m\"\u001b[39;49m,\n\u001b[0;32m    <a href='file:///d%3A/Users/dav/anaconda3/envs/pos/lib/site-packages/pandas/io/parsers/base_parser.py?line=224'>225</a>\u001b[0m         encoding\u001b[39m=\u001b[39;49mkwds\u001b[39m.\u001b[39;49mget(\u001b[39m\"\u001b[39;49m\u001b[39mencoding\u001b[39;49m\u001b[39m\"\u001b[39;49m, \u001b[39mNone\u001b[39;49;00m),\n\u001b[0;32m    <a href='file:///d%3A/Users/dav/anaconda3/envs/pos/lib/site-packages/pandas/io/parsers/base_parser.py?line=225'>226</a>\u001b[0m         compression\u001b[39m=\u001b[39;49mkwds\u001b[39m.\u001b[39;49mget(\u001b[39m\"\u001b[39;49m\u001b[39mcompression\u001b[39;49m\u001b[39m\"\u001b[39;49m, \u001b[39mNone\u001b[39;49;00m),\n\u001b[0;32m    <a href='file:///d%3A/Users/dav/anaconda3/envs/pos/lib/site-packages/pandas/io/parsers/base_parser.py?line=226'>227</a>\u001b[0m         memory_map\u001b[39m=\u001b[39;49mkwds\u001b[39m.\u001b[39;49mget(\u001b[39m\"\u001b[39;49m\u001b[39mmemory_map\u001b[39;49m\u001b[39m\"\u001b[39;49m, \u001b[39mFalse\u001b[39;49;00m),\n\u001b[0;32m    <a href='file:///d%3A/Users/dav/anaconda3/envs/pos/lib/site-packages/pandas/io/parsers/base_parser.py?line=227'>228</a>\u001b[0m         storage_options\u001b[39m=\u001b[39;49mkwds\u001b[39m.\u001b[39;49mget(\u001b[39m\"\u001b[39;49m\u001b[39mstorage_options\u001b[39;49m\u001b[39m\"\u001b[39;49m, \u001b[39mNone\u001b[39;49;00m),\n\u001b[0;32m    <a href='file:///d%3A/Users/dav/anaconda3/envs/pos/lib/site-packages/pandas/io/parsers/base_parser.py?line=228'>229</a>\u001b[0m         errors\u001b[39m=\u001b[39;49mkwds\u001b[39m.\u001b[39;49mget(\u001b[39m\"\u001b[39;49m\u001b[39mencoding_errors\u001b[39;49m\u001b[39m\"\u001b[39;49m, \u001b[39m\"\u001b[39;49m\u001b[39mstrict\u001b[39;49m\u001b[39m\"\u001b[39;49m),\n\u001b[0;32m    <a href='file:///d%3A/Users/dav/anaconda3/envs/pos/lib/site-packages/pandas/io/parsers/base_parser.py?line=229'>230</a>\u001b[0m     )\n",
            "File \u001b[1;32md:\\Users\\dav\\anaconda3\\envs\\pos\\lib\\site-packages\\pandas\\io\\common.py:702\u001b[0m, in \u001b[0;36mget_handle\u001b[1;34m(path_or_buf, mode, encoding, compression, memory_map, is_text, errors, storage_options)\u001b[0m\n\u001b[0;32m    <a href='file:///d%3A/Users/dav/anaconda3/envs/pos/lib/site-packages/pandas/io/common.py?line=696'>697</a>\u001b[0m \u001b[39melif\u001b[39;00m \u001b[39misinstance\u001b[39m(handle, \u001b[39mstr\u001b[39m):\n\u001b[0;32m    <a href='file:///d%3A/Users/dav/anaconda3/envs/pos/lib/site-packages/pandas/io/common.py?line=697'>698</a>\u001b[0m     \u001b[39m# Check whether the filename is to be opened in binary mode.\u001b[39;00m\n\u001b[0;32m    <a href='file:///d%3A/Users/dav/anaconda3/envs/pos/lib/site-packages/pandas/io/common.py?line=698'>699</a>\u001b[0m     \u001b[39m# Binary mode does not support 'encoding' and 'newline'.\u001b[39;00m\n\u001b[0;32m    <a href='file:///d%3A/Users/dav/anaconda3/envs/pos/lib/site-packages/pandas/io/common.py?line=699'>700</a>\u001b[0m     \u001b[39mif\u001b[39;00m ioargs\u001b[39m.\u001b[39mencoding \u001b[39mand\u001b[39;00m \u001b[39m\"\u001b[39m\u001b[39mb\u001b[39m\u001b[39m\"\u001b[39m \u001b[39mnot\u001b[39;00m \u001b[39min\u001b[39;00m ioargs\u001b[39m.\u001b[39mmode:\n\u001b[0;32m    <a href='file:///d%3A/Users/dav/anaconda3/envs/pos/lib/site-packages/pandas/io/common.py?line=700'>701</a>\u001b[0m         \u001b[39m# Encoding\u001b[39;00m\n\u001b[1;32m--> <a href='file:///d%3A/Users/dav/anaconda3/envs/pos/lib/site-packages/pandas/io/common.py?line=701'>702</a>\u001b[0m         handle \u001b[39m=\u001b[39m \u001b[39mopen\u001b[39;49m(\n\u001b[0;32m    <a href='file:///d%3A/Users/dav/anaconda3/envs/pos/lib/site-packages/pandas/io/common.py?line=702'>703</a>\u001b[0m             handle,\n\u001b[0;32m    <a href='file:///d%3A/Users/dav/anaconda3/envs/pos/lib/site-packages/pandas/io/common.py?line=703'>704</a>\u001b[0m             ioargs\u001b[39m.\u001b[39;49mmode,\n\u001b[0;32m    <a href='file:///d%3A/Users/dav/anaconda3/envs/pos/lib/site-packages/pandas/io/common.py?line=704'>705</a>\u001b[0m             encoding\u001b[39m=\u001b[39;49mioargs\u001b[39m.\u001b[39;49mencoding,\n\u001b[0;32m    <a href='file:///d%3A/Users/dav/anaconda3/envs/pos/lib/site-packages/pandas/io/common.py?line=705'>706</a>\u001b[0m             errors\u001b[39m=\u001b[39;49merrors,\n\u001b[0;32m    <a href='file:///d%3A/Users/dav/anaconda3/envs/pos/lib/site-packages/pandas/io/common.py?line=706'>707</a>\u001b[0m             newline\u001b[39m=\u001b[39;49m\u001b[39m\"\u001b[39;49m\u001b[39m\"\u001b[39;49m,\n\u001b[0;32m    <a href='file:///d%3A/Users/dav/anaconda3/envs/pos/lib/site-packages/pandas/io/common.py?line=707'>708</a>\u001b[0m         )\n\u001b[0;32m    <a href='file:///d%3A/Users/dav/anaconda3/envs/pos/lib/site-packages/pandas/io/common.py?line=708'>709</a>\u001b[0m     \u001b[39melse\u001b[39;00m:\n\u001b[0;32m    <a href='file:///d%3A/Users/dav/anaconda3/envs/pos/lib/site-packages/pandas/io/common.py?line=709'>710</a>\u001b[0m         \u001b[39m# Binary mode\u001b[39;00m\n\u001b[0;32m    <a href='file:///d%3A/Users/dav/anaconda3/envs/pos/lib/site-packages/pandas/io/common.py?line=710'>711</a>\u001b[0m         handle \u001b[39m=\u001b[39m \u001b[39mopen\u001b[39m(handle, ioargs\u001b[39m.\u001b[39mmode)\n",
            "\u001b[1;31mFileNotFoundError\u001b[0m: [Errno 2] No such file or directory: 'pima-indians-diabetes.csv'"
          ]
        }
      ],
      "source": [
        "# Comitê com votação entre os classificadores com AdaBoostClassifier\n",
        "import numpy as np\n",
        "import pandas\n",
        "from sklearn.model_selection import cross_val_score\n",
        "from sklearn.ensemble import AdaBoostClassifier\n",
        "from sklearn.svm import SVC\n",
        "from sklearn import tree\n",
        "seed = 1075\n",
        "np.random.seed(seed)\n",
        "\n",
        "#training ensembles of classifiers\n",
        "clf_array = [dt, svc]\n",
        "for clf in clf_array:\n",
        "    pima_scores = cross_val_score(clf, X, Y, cv=10)\n",
        "    boosting_clf = AdaBoostClassifier(base_estimator=clf, n_estimators=3, random_state=seed)\n",
        "    boosting_scores = cross_val_score(boosting_clf, X, Y, cv=10)    \n",
        "    print('Media clf ',pima_scores.mean(), 'Desvio ',pima_scores.std(), 'Media Bagging',boosting_scores.mean(), 'Desvio ',boosting_scores.std())"
      ]
    },
    {
      "cell_type": "code",
      "execution_count": null,
      "metadata": {
        "colab": {
          "base_uri": "https://localhost:8080/"
        },
        "id": "JVbZ7Pdtdrtv",
        "outputId": "a7b3757e-7101-44ec-aade-4fed96c9b306"
      },
      "outputs": [
        {
          "name": "stdout",
          "output_type": "stream",
          "text": [
            "Media clf  0.7617224880382775 Desvio  0.049688240527885306 Media Bagging 0.7617395762132604 Desvio  0.04877493503738191\n",
            "Media clf  0.7213773069036227 Desvio  0.04416817250533367 Media Bagging 0.7474538619275461 Desvio  0.03919108390131277\n",
            "Media clf  0.7669685577580314 Desvio  0.03338716735131549 Media Bagging 0.7695830485304171 Desvio  0.029390886031526838\n",
            "Media clf  0.7734962406015038 Desvio  0.03417526057730609 Media Bagging 0.7721633629528366 Desvio  0.03128714178833154\n"
          ]
        }
      ],
      "source": [
        "# Get some classifiers to evaluate with BaggingClassifier\n",
        "import numpy as np\n",
        "import pandas\n",
        "from sklearn.model_selection import cross_val_score\n",
        "from sklearn.ensemble import BaggingClassifier,RandomForestClassifier\n",
        "from sklearn.neighbors import KNeighborsClassifier\n",
        "from sklearn.linear_model import RidgeClassifier\n",
        "from sklearn.svm import SVC\n",
        "\n",
        "# Create base classifiers\n",
        "rf = RandomForestClassifier()\n",
        "knn = KNeighborsClassifier()\n",
        "svc = SVC(kernel='linear')\n",
        "rg = RidgeClassifier()\n",
        "\n",
        "#training ensembles of classifiers\n",
        "clf_array = [rf, knn, svc, rg]\n",
        "for clf in clf_array:\n",
        "    pima_scores = cross_val_score(clf, X, Y, cv=10)\n",
        "    bagging_clf = BaggingClassifier(clf,max_samples=0.3, random_state=seed)\n",
        "    bagging_scores = cross_val_score(bagging_clf, X, Y, cv=10)    \n",
        "    print('Media clf ',pima_scores.mean(), 'Desvio ',pima_scores.std(), 'Media Bagging',bagging_scores.mean(), 'Desvio ',bagging_scores.std())"
      ]
    },
    {
      "cell_type": "code",
      "execution_count": null,
      "metadata": {
        "colab": {
          "base_uri": "https://localhost:8080/"
        },
        "id": "OtzavXvMc7Y1",
        "outputId": "cf5e223f-4a92-4be3-bea3-f367a29800a9"
      },
      "outputs": [
        {
          "name": "stdout",
          "output_type": "stream",
          "text": [
            "0.7721633629528367\n"
          ]
        }
      ],
      "source": [
        "# Voting Ensemble for Classification\n",
        "import pandas\n",
        "from sklearn import model_selection\n",
        "from sklearn.linear_model import LogisticRegression\n",
        "from sklearn.tree import DecisionTreeClassifier\n",
        "from sklearn.svm import SVC\n",
        "from sklearn.ensemble import VotingClassifier\n",
        "import warnings\n",
        "warnings.filterwarnings(\"ignore\")\n",
        "\n",
        "names = ['preg', 'plas', 'pres', 'skin', 'test', 'mass', 'pedi', 'age', 'class']\n",
        "df = pandas.read_csv(\"pima-indians-diabetes.csv\", names=names)\n",
        "array = df.values\n",
        "X = array[:,0:8]\n",
        "Y = array[:,8]\n",
        "seed = 5\n",
        "kfold = model_selection.StratifiedKFold(n_splits=10, random_state=seed)\n",
        "\n",
        "# create the sub models\n",
        "estimators = []\n",
        "model1 = LogisticRegression()\n",
        "estimators.append(('logistic', model1))\n",
        "model2 = DecisionTreeClassifier()\n",
        "estimators.append(('cart', model2))\n",
        "model3 = SVC(kernel='linear')\n",
        "estimators.append(('svm', model3))\n",
        "\n",
        "#train\n",
        "\n",
        "\n",
        "# create the ensemble model\n",
        "ensemble = VotingClassifier(estimators)\n",
        "results = model_selection.cross_val_score(ensemble, X, Y, cv=kfold)\n",
        "print(results.mean())"
      ]
    },
    {
      "cell_type": "code",
      "execution_count": null,
      "metadata": {
        "colab": {
          "base_uri": "https://localhost:8080/",
          "height": 368
        },
        "id": "iu8gvZMQYGmP",
        "outputId": "3840fc42-eec1-4859-950f-9ce17b68f14b"
      },
      "outputs": [
        {
          "name": "stdout",
          "output_type": "stream",
          "text": [
            ">lr 0.866 (0.029)\n",
            ">knn 0.931 (0.025)\n",
            ">cart 0.823 (0.041)\n",
            ">svm 0.957 (0.020)\n",
            ">bayes 0.833 (0.031)\n",
            ">stacking 0.963 (0.019)\n"
          ]
        },
        {
          "data": {
            "image/png": "[encoded data removed]",
            "text/plain": [
              "<Figure size 432x288 with 1 Axes>"
            ]
          },
          "metadata": {
            "needs_background": "light"
          },
          "output_type": "display_data"
        }
      ],
      "source": [
        "# compare ensemble to each baseline classifier\n",
        "from numpy import mean\n",
        "from numpy import std\n",
        "from sklearn.datasets import make_classification\n",
        "from sklearn.model_selection import cross_val_score\n",
        "from sklearn.model_selection import RepeatedStratifiedKFold\n",
        "from sklearn.linear_model import LogisticRegression\n",
        "from sklearn.neighbors import KNeighborsClassifier\n",
        "from sklearn.tree import DecisionTreeClassifier\n",
        "from sklearn.svm import SVC\n",
        "from sklearn.naive_bayes import GaussianNB\n",
        "from sklearn.ensemble import StackingClassifier\n",
        "from matplotlib import pyplot\n",
        " \n",
        "# get the dataset\n",
        "def get_dataset():\n",
        "\tX, y = make_classification(n_samples=1000, n_features=20, n_informative=15, n_redundant=5, random_state=1)\n",
        "\treturn X, y\n",
        " \n",
        "# get a stacking ensemble of models\n",
        "def get_stacking():\n",
        "\t# define the base models\n",
        "\tlevel0 = list()\n",
        "\tlevel0.append(('lr', LogisticRegression()))\n",
        "\tlevel0.append(('knn', KNeighborsClassifier()))\n",
        "\tlevel0.append(('cart', DecisionTreeClassifier()))\n",
        "\tlevel0.append(('svm', SVC()))\n",
        "\tlevel0.append(('bayes', GaussianNB()))\n",
        "\t# define meta learner model\n",
        "\tlevel1 = LogisticRegression()\n",
        "\t# define the stacking ensemble\n",
        "\tmodel = StackingClassifier(estimators=level0, final_estimator=level1, cv=5)\n",
        "\treturn model\n",
        " \n",
        "# get a list of models to evaluate\n",
        "def get_models():\n",
        "\tmodels = dict()\n",
        "\tmodels['lr'] = LogisticRegression()\n",
        "\tmodels['knn'] = KNeighborsClassifier()\n",
        "\tmodels['cart'] = DecisionTreeClassifier()\n",
        "\tmodels['svm'] = SVC()\n",
        "\tmodels['bayes'] = GaussianNB()\n",
        "\tmodels['stacking'] = get_stacking()\n",
        "\treturn models\n",
        " \n",
        "# evaluate a give model using cross-validation\n",
        "def evaluate_model(model, X, y):\n",
        "\tcv = RepeatedStratifiedKFold(n_splits=10, n_repeats=3, random_state=1)\n",
        "\tscores = cross_val_score(model, X, y, scoring='accuracy', cv=cv, n_jobs=-1, error_score='raise')\n",
        "\treturn scores\n",
        " \n",
        "# define dataset\n",
        "X, y = get_dataset()\n",
        "# get the models to evaluate\n",
        "models = get_models()\n",
        "# evaluate the models and store results\n",
        "results, names = list(), list()\n",
        "for name, model in models.items():\n",
        "\tscores = evaluate_model(model, X, y)\n",
        "\tresults.append(scores)\n",
        "\tnames.append(name)\n",
        "\tprint('>%s %.3f (%.3f)' % (name, mean(scores), std(scores)))\n",
        "# plot model performance for comparison\n",
        "pyplot.boxplot(results, labels=names, showmeans=True)\n",
        "pyplot.show()"
      ]
    }
  ],
  "metadata": {
    "colab": {
      "name": "Ensemble_of_Classifiers.ipynb",
      "provenance": []
    },
    "kernelspec": {
      "display_name": "Python 3",
      "language": "python",
      "name": "python3"
    },
    "language_info": {
      "codemirror_mode": {
        "name": "ipython",
        "version": 3
      },
      "file_extension": ".py",
      "mimetype": "text/x-python",
      "name": "python",
      "nbconvert_exporter": "python",
      "pygments_lexer": "ipython3",
      "version": "3.8.0"
    }
  },
  "nbformat": 4,
  "nbformat_minor": 0
}
