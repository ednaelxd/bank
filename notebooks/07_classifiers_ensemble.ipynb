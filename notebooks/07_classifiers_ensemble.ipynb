{
 "cells": [
  {
   "cell_type": "markdown",
   "metadata": {},
   "source": [
    "# Ensemble of Classifiers"
   ]
  },
  {
   "cell_type": "code",
   "execution_count": 4,
   "metadata": {},
   "outputs": [],
   "source": [
    "import pandas as pd\n",
    "from sklearn.tree import DecisionTreeClassifier\n",
    "from sklearn.model_selection import train_test_split, StratifiedKFold, cross_val_score\n",
    "from sklearn.metrics import classification_report\n",
    "from sklearn.neighbors import KNeighborsClassifier\n",
    "from sklearn.ensemble import RandomForestClassifier\n",
    "from sklearn.svm import LinearSVC\n",
    "from sklearn.linear_model import LogisticRegression"
   ]
  },
  {
   "cell_type": "code",
   "execution_count": 5,
   "metadata": {
    "cell_id": "b858d1b4-2998-421a-bdce-466e300a0211",
    "colab": {
     "base_uri": "https://localhost:8080/"
    },
    "deepnote_cell_type": "code",
    "deepnote_output_heights": [
     null,
     194
    ],
    "deepnote_to_be_reexecuted": false,
    "execution_millis": 50918,
    "execution_start": 1644807471202,
    "id": "KL5nJSwRb29e",
    "outputId": "b20177bb-bbe7-44ef-a1a5-9806f1554e96",
    "source_hash": "31ba05fc"
   },
   "outputs": [
    {
     "name": "stdout",
     "output_type": "stream",
     "text": [
      "(43294, 46)\n"
     ]
    }
   ],
   "source": [
    "#carregando os dados\n",
    "df = pd.read_csv(\"../dataset/bank-preprocessed.csv\")\n",
    "\n",
    "#dimensoes da base de dados\n",
    "print(df.shape)\n",
    "\n",
    "#convertendo os valores da base para array\n",
    "X = df.drop(columns=['y', 'duration'])\n",
    "y = df['y']"
   ]
  },
  {
   "cell_type": "markdown",
   "metadata": {},
   "source": [
    "## Defining train, test and making initial models"
   ]
  },
  {
   "cell_type": "code",
   "execution_count": 7,
   "metadata": {},
   "outputs": [
    {
     "name": "stdout",
     "output_type": "stream",
     "text": [
      "Random Forest folds: [0.89178489 0.89211481 0.89772352 0.89376443 0.88881557 0.89240924\n",
      " 0.89141914 0.89108911 0.89471947 0.89372937]\n",
      "Media acurácia CV:  0.8927569569890015\n",
      "Acurácia teste:  0.8945261375009623\n",
      "\n",
      "Decision Tree folds [0.82909931 0.82612999 0.8317387  0.8317387  0.82645991 0.82673267\n",
      " 0.82112211 0.82574257 0.82673267 0.83564356]\n",
      "Media acurácia CV:  0.828114020903905\n",
      "Acurácia teste:  0.8347062899376395\n"
     ]
    },
    {
     "data": {
      "text/plain": [
       "'lr_results = cross_val_score(lr, X_train, y_train, cv=kfold)\\nlr = svc.fit(X_train, y_train)\\n\\nprint(\"\\\\LR folds\", lr_results)\\nprint(\"Media acurácia CV: \", lr_results.mean())\\nprint(\"Acurácia teste: \", lr.score(X_test, y_test))'"
      ]
     },
     "execution_count": 7,
     "metadata": {},
     "output_type": "execute_result"
    }
   ],
   "source": [
    "#semente de numeros aleatorios\n",
    "seed = 42\n",
    "\n",
    "#divisao dos dados\n",
    "X_train, X_test, y_train, y_test = train_test_split(X, y, test_size=0.30, random_state=seed)\n",
    "\n",
    "#numero de folds atraves do metodo k-fold\n",
    "kfold = StratifiedKFold(n_splits=10)\n",
    "\n",
    "#criando o classificadores\n",
    "rf = RandomForestClassifier(random_state=seed)\n",
    "dt = DecisionTreeClassifier()\n",
    "\n",
    "rf_results = cross_val_score(rf, X_train, y_train, cv=kfold)\n",
    "rf = rf.fit(X_train, y_train)\n",
    "\n",
    "print(\"Random Forest folds:\", rf_results)\n",
    "print(\"Media acurácia CV: \" , rf_results.mean())\n",
    "print(\"Acurácia teste: \", rf.score(X_test, y_test))\n",
    "\n",
    "\n",
    "#treinamento da arvores de decisao em dez folds\n",
    "dt_results = cross_val_score(dt, X_train, y_train, cv=kfold)\n",
    "dt = dt.fit(X_train, y_train)\n",
    "\n",
    "print(\"\\nDecision Tree folds\", dt_results)\n",
    "print(\"Media acurácia CV: \", dt_results.mean())\n",
    "print(\"Acurácia teste: \", dt.score(X_test,y_test))\n",
    "\n",
    "\n",
    "'''lr_results = cross_val_score(lr, X_train, y_train, cv=kfold)\n",
    "lr = svc.fit(X_train, y_train)\n",
    "\n",
    "print(\"\\LR folds\", lr_results)\n",
    "print(\"Media acurácia CV: \", lr_results.mean())\n",
    "print(\"Acurácia teste: \", lr.score(X_test, y_test))'''"
   ]
  },
  {
   "cell_type": "markdown",
   "metadata": {
    "jp-MarkdownHeadingCollapsed": true,
    "tags": []
   },
   "source": [
    "**Random Forest was the best classifier had a mean accuracy of ˜0.89, so we expect to get better values using ensembles.**"
   ]
  },
  {
   "cell_type": "markdown",
   "metadata": {},
   "source": [
    "## Voting ensemble with AdaBoost"
   ]
  },
  {
   "cell_type": "code",
   "execution_count": 33,
   "metadata": {
    "cell_id": "00001-adfad037-47b8-4ec8-bd8b-65b19223bd42",
    "colab": {
     "base_uri": "https://localhost:8080/"
    },
    "deepnote_cell_type": "code",
    "deepnote_to_be_reexecuted": false,
    "execution_millis": 310764,
    "execution_start": 1644807522129,
    "id": "i5h_MLLoZZdy",
    "outputId": "cc2afb29-c74b-43d4-df96-cb984a9aa8a8",
    "source_hash": "4c69aef0"
   },
   "outputs": [
    {
     "name": "stdout",
     "output_type": "stream",
     "text": [
      "Media clf  0.8927569569890015 Desvio  0.0022817318072031\n",
      "Media Bagging 0.8932520936026298 Desvio  0.002405322016751064\n",
      "Media clf  0.828774108687675 Desvio  0.0052980158949433595\n",
      "Media Bagging 0.829367743438811 Desvio  0.004661503259299052\n"
     ]
    }
   ],
   "source": [
    "#Comitê com votação entre os classificadores com AdaBoostClassifier\n",
    "\n",
    "import numpy as np\n",
    "from sklearn.ensemble import AdaBoostClassifier\n",
    "\n",
    "seed = 42\n",
    "\n",
    "#training ensembles of classifiers\n",
    "clf_array = [rf, dt]\n",
    "clf_results = [rf_results, dt_results]\n",
    "\n",
    "for (clf, result) in zip(clf_array, clf_results):\n",
    "    boosting_clf = AdaBoostClassifier(base_estimator=clf, n_estimators=3, random_state=seed)\n",
    "    boosting_scores = cross_val_score(boosting_clf, X_train, y_train, cv=10)    \n",
    "    print('Media clf ', result.mean(), 'Desvio ', result.std()) \n",
    "    print('Media Bagging', boosting_scores.mean(), 'Desvio ', boosting_scores.std())"
   ]
  },
  {
   "cell_type": "markdown",
   "metadata": {},
   "source": [
    "By applying the ensemble, we find better results in the random forest and decision tree model, but thats a very small gain."
   ]
  },
  {
   "cell_type": "markdown",
   "metadata": {},
   "source": [
    "We also tried to use SVC and Ridge as a base estimator but it failed to converge, we believe it's due to the unbalanced nature of the data we have."
   ]
  },
  {
   "cell_type": "markdown",
   "metadata": {},
   "source": [
    "## Voting Ensemble with Bagging"
   ]
  },
  {
   "cell_type": "code",
   "execution_count": 35,
   "metadata": {
    "cell_id": "00002-2b659f09-8a4e-4116-b39f-574e9e19fd71",
    "colab": {
     "base_uri": "https://localhost:8080/"
    },
    "deepnote_cell_type": "code",
    "deepnote_to_be_reexecuted": false,
    "execution_millis": 745,
    "execution_start": 1644807832902,
    "id": "JVbZ7Pdtdrtv",
    "outputId": "a7b3757e-7101-44ec-aade-4fed96c9b306",
    "source_hash": "400d0515"
   },
   "outputs": [
    {
     "name": "stdout",
     "output_type": "stream",
     "text": [
      "Media clf  0.8927569569890015 Desvio  0.0022817318072031\n",
      "Media Bagging 0.8940769801163555 Desvio  0.0024869061294534264\n",
      "Media clf  0.829302063495693 Desvio  0.0048642451462339665\n",
      "Media Bagging 0.8891603921197134 Desvio  0.003415141197548848\n"
     ]
    }
   ],
   "source": [
    "from sklearn.ensemble import BaggingClassifier\n",
    "\n",
    "clf_array = [rf, dt]\n",
    "clf_results = [rf_results, dt_results]\n",
    "\n",
    "for (clf, result) in zip(clf_array, clf_results):\n",
    "    bagging_clf = BaggingClassifier(clf, max_samples=0.3, random_state=seed)\n",
    "    bagging_scores = cross_val_score(bagging_clf, X_train, y_train, cv=10)    \n",
    "    print('Media clf ', result.mean(), 'Desvio ', result.std()) \n",
    "    print('Media Bagging', bagging_scores.mean(), 'Desvio ', bagging_scores.std())"
   ]
  },
  {
   "cell_type": "markdown",
   "metadata": {},
   "source": [
    "As you can see, bagging with decision trees achieved a better result than the decision tree alone, but it was no better than the Random Forest alone. We can conclude that using Random Forest alone is the best option, in terms both of practicality and computational resources."
   ]
  },
  {
   "cell_type": "markdown",
   "metadata": {},
   "source": [
    "## Voting Ensemble for Classification"
   ]
  },
  {
   "cell_type": "code",
   "execution_count": 11,
   "metadata": {
    "cell_id": "00003-661c3dd3-9cd1-4315-89e1-3ba493c96f62",
    "colab": {
     "base_uri": "https://localhost:8080/"
    },
    "deepnote_cell_type": "code",
    "deepnote_to_be_reexecuted": true,
    "id": "OtzavXvMc7Y1",
    "outputId": "cf5e223f-4a92-4be3-bea3-f367a29800a9",
    "source_hash": "f6864119"
   },
   "outputs": [
    {
     "name": "stdout",
     "output_type": "stream",
     "text": [
      "0.889522971102785\n"
     ]
    }
   ],
   "source": [
    "from sklearn.ensemble import VotingClassifier\n",
    "from sklearn.neighbors import KNeighborsClassifier\n",
    "from sklearn.neural_network import MLPClassifier\n",
    "\n",
    "kfold = StratifiedKFold(n_splits=10, random_state=seed,shuffle=True)\n",
    "\n",
    "# create the sub models\n",
    "estimators = []\n",
    "model1 = rf\n",
    "estimators.append(('random forest', rf))\n",
    "\n",
    "model2 = dt\n",
    "estimators.append(('decision tree', dt))\n",
    "\n",
    "mlp = MLPClassifier()\n",
    "mlp.fit(X_train, y_train)\n",
    "\n",
    "model3 = mlp\n",
    "estimators.append(('mlp', mlp))\n",
    "\n",
    "knn = KNeighborsClassifier()\n",
    "knn.fit(X_train, y_train)\n",
    "\n",
    "model4 = knn\n",
    "estimators.append(('knn', knn))\n",
    "\n",
    "# create the ensemble model\n",
    "ensemble = VotingClassifier(estimators)\n",
    "results = cross_val_score(ensemble, X_train, y_train, cv=kfold)\n",
    "print(results.mean())"
   ]
  },
  {
   "cell_type": "markdown",
   "metadata": {},
   "source": [
    "The result with voting ensemble was no better than the Random Forest alone."
   ]
  },
  {
   "cell_type": "markdown",
   "metadata": {},
   "source": [
    "## Comparing Ensemble to each baseline classifier"
   ]
  },
  {
   "cell_type": "code",
   "execution_count": 13,
   "metadata": {
    "cell_id": "00004-f7d3b9f2-9dc3-42c2-83c4-b3599f325e55",
    "colab": {
     "base_uri": "https://localhost:8080/",
     "height": 368
    },
    "deepnote_cell_type": "code",
    "deepnote_output_heights": [
     null,
     251
    ],
    "deepnote_to_be_reexecuted": true,
    "execution_millis": 22133,
    "execution_start": 1644807363828,
    "id": "iu8gvZMQYGmP",
    "outputId": "3840fc42-eec1-4859-950f-9ce17b68f14b",
    "source_hash": "43c997b2"
   },
   "outputs": [
    {
     "name": "stdout",
     "output_type": "stream",
     "text": [
      ">dt 0.831 (0.004)\n",
      ">knn 0.878 (0.002)\n",
      ">mlp 0.876 (0.026)\n",
      ">rf 0.894 (0.003)\n",
      ">stacking 0.845 (0.052)\n"
     ]
    },
    {
     "data": {
      "image/png": "[encoded data removed]",
      "text/plain": [
       "<Figure size 432x288 with 1 Axes>"
      ]
     },
     "metadata": {
      "needs_background": "light"
     },
     "output_type": "display_data"
    }
   ],
   "source": [
    "from sklearn.model_selection import RepeatedStratifiedKFold\n",
    "from sklearn.linear_model import LogisticRegression\n",
    "from sklearn.neighbors import KNeighborsClassifier\n",
    "from sklearn.ensemble import StackingClassifier\n",
    "from matplotlib import pyplot\n",
    "from numpy import mean, std\n",
    " \n",
    "# get the dataset\n",
    "def get_dataset():\n",
    "\tdf = pd.read_csv('../dataset/bank-preprocessed.csv')\n",
    "\tX = df.drop(columns=['y', 'duration'])\n",
    "\ty = df['y']\n",
    "\treturn X, y\n",
    " \n",
    "# get a stacking ensemble of models\n",
    "def get_stacking():\n",
    "\t# define the base models\n",
    "\tlevel0 = list()\n",
    "\tlevel0.append(('mlp', MLPClassifier()))\n",
    "\tlevel0.append(('knn', KNeighborsClassifier()))\n",
    "\tlevel0.append(('dt', DecisionTreeClassifier()))\n",
    "\tlevel0.append(('rf', RandomForestClassifier()))\n",
    "\n",
    "\t# define meta learner model\n",
    "\tlevel1 = LogisticRegression()\n",
    "\n",
    "\t# define the stacking ensemble\n",
    "\tmodel = StackingClassifier(estimators=level0, final_estimator=level1, cv=5)\n",
    "\n",
    "\treturn model\n",
    " \n",
    "# get a list of models to evaluate\n",
    "def get_models():\n",
    "\tmodels = dict()\n",
    "\tmodels['dt'] = dt\n",
    "\tmodels['knn'] = knn\n",
    "\tmodels['mlp'] = mlp\n",
    "\tmodels['rf'] = rf\n",
    "\tmodels['stacking'] = get_stacking()\n",
    "\n",
    "\treturn models\n",
    " \n",
    "# evaluate a give model using cross-validation\n",
    "def evaluate_model(model, X, y):\n",
    "\tcv = RepeatedStratifiedKFold(n_splits=10, n_repeats=3, random_state=1)\n",
    "\tscores = cross_val_score(model, X, y, scoring='accuracy', cv=cv, n_jobs=5, error_score='raise')\n",
    "\treturn scores\n",
    " \n",
    "# define dataset\n",
    "X, y = get_dataset()\n",
    "\n",
    "# get the models to evaluate\n",
    "models = get_models()\n",
    "\n",
    "# evaluate the models and store results\n",
    "\n",
    "results, names = list(), list()\n",
    "for name, model in models.items():\n",
    "\tscores = evaluate_model(model, X, y)\n",
    "\tresults.append(scores)\n",
    "\tnames.append(name)\n",
    "\tprint('>%s %.3f (%.3f)' % (name, mean(scores), std(scores)))\n",
    "\n",
    "# plot model performance for comparison\n",
    "pyplot.boxplot(results, labels=names, showmeans=True)\n",
    "pyplot.show()"
   ]
  },
  {
   "cell_type": "markdown",
   "metadata": {},
   "source": [
    "Even using stacking, Random Forest was the best model in terms of accuracy and it had a way smaller variance, shown by the height of the box. And KNN and the MLP still got better results than stacking."
   ]
  }
 ],
 "metadata": {
  "colab": {
   "name": "Ensemble_of_Classifiers (1).ipynb",
   "provenance": []
  },
  "deepnote": {},
  "deepnote_execution_queue": [],
  "deepnote_notebook_id": "f195525d-e4bc-49b5-baf8-f132d1c28c0c",
  "kernelspec": {
   "display_name": "Python 3 (ipykernel)",
   "language": "python",
   "name": "python3"
  },
  "language_info": {
   "codemirror_mode": {
    "name": "ipython",
    "version": 3
   },
   "file_extension": ".py",
   "mimetype": "text/x-python",
   "name": "python",
   "nbconvert_exporter": "python",
   "pygments_lexer": "ipython3",
   "version": "3.8.9"
  }
 },
 "nbformat": 4,
 "nbformat_minor": 4
}
