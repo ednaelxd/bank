{
 "cells": [
  {
   "cell_type": "markdown",
   "id": "7969973c",
   "metadata": {},
   "source": [
    "# Imports"
   ]
  },
  {
   "cell_type": "code",
   "execution_count": 1,
   "id": "ef0286ee",
   "metadata": {},
   "outputs": [],
   "source": [
    "import pandas as pd\n",
    "import numpy as np\n",
    "from scipy.stats import kruskal, mannwhitneyu, shapiro\n",
    "from scipy import stats"
   ]
  },
  {
   "cell_type": "markdown",
   "id": "52062597",
   "metadata": {},
   "source": [
    "# Loading models results "
   ]
  },
  {
   "cell_type": "code",
   "execution_count": 2,
   "id": "f45bfeb6",
   "metadata": {},
   "outputs": [],
   "source": [
    "results_rf = pd.read_csv(\"../models/random_forest_results.csv\")\n",
    "score_rf = results_rf['valid_score'].values\n",
    "\n",
    "results_dt = pd.read_csv(\"../models/decision_tree_results.csv\")\n",
    "score_dt = results_dt['valid_score'].values\n",
    "\n",
    "results_knn = pd.read_csv(\"../models/knn_results.csv\")\n",
    "score_knn = results_knn['valid_score'].values\n",
    "\n",
    "results_mlp = pd.read_csv(\"../models/mlp_results.csv\")\n",
    "score_mlp = results_mlp['valid_score'].values"
   ]
  },
  {
   "cell_type": "code",
   "execution_count": 3,
   "id": "b443bd9f",
   "metadata": {},
   "outputs": [
    {
     "data": {
      "text/plain": [
       "array([0.89562563, 0.89562563, 0.89553893, 0.89539471, 0.89539469,\n",
       "       0.89539469, 0.89530806, 0.89530806, 0.895308  , 0.895308  ])"
      ]
     },
     "execution_count": 3,
     "metadata": {},
     "output_type": "execute_result"
    }
   ],
   "source": [
    "score_rf"
   ]
  },
  {
   "cell_type": "code",
   "execution_count": 4,
   "id": "5157d5a2",
   "metadata": {},
   "outputs": [
    {
     "data": {
      "text/plain": [
       "array([0.70442738, 0.70442738, 0.70442738, 0.70442738, 0.70442738,\n",
       "       0.70442738, 0.70442738, 0.70442738, 0.70442738, 0.70442738])"
      ]
     },
     "execution_count": 4,
     "metadata": {},
     "output_type": "execute_result"
    }
   ],
   "source": [
    "score_dt"
   ]
  },
  {
   "cell_type": "code",
   "execution_count": 5,
   "id": "25db04e7",
   "metadata": {},
   "outputs": [
    {
     "data": {
      "text/plain": [
       "array([0.88595333, 0.88580895, 0.88540471, 0.88540471, 0.88528936,\n",
       "       0.88520273, 0.88485625, 0.88485625, 0.8826908 , 0.8826908 ])"
      ]
     },
     "execution_count": 5,
     "metadata": {},
     "output_type": "execute_result"
    }
   ],
   "source": [
    "score_knn"
   ]
  },
  {
   "cell_type": "code",
   "execution_count": 6,
   "id": "ac9fe68b",
   "metadata": {},
   "outputs": [
    {
     "data": {
      "text/plain": [
       "array([0.67056302, 0.67020048, 0.66787956, 0.66410565, 0.66307313,\n",
       "       0.66192334, 0.66152002, 0.65984461, 0.65716784, 0.65530454])"
      ]
     },
     "execution_count": 6,
     "metadata": {},
     "output_type": "execute_result"
    }
   ],
   "source": [
    "score_mlp"
   ]
  },
  {
   "cell_type": "markdown",
   "id": "077f5468",
   "metadata": {},
   "source": [
    "# Significance stats tests"
   ]
  },
  {
   "cell_type": "code",
   "execution_count": 7,
   "id": "17b587fb",
   "metadata": {},
   "outputs": [],
   "source": [
    "def interpret_test(p):\n",
    "    alpha = 0.05\n",
    "    if p > alpha:\n",
    "        print('Same distributions (fail to reject H0)')\n",
    "    else:\n",
    "        print('Different distributions (reject H0)')"
   ]
  },
  {
   "cell_type": "markdown",
   "id": "26e141e3",
   "metadata": {},
   "source": [
    "## Shapiro tests"
   ]
  },
  {
   "cell_type": "code",
   "execution_count": 8,
   "id": "3a684ad0",
   "metadata": {},
   "outputs": [],
   "source": [
    "def shapiro_test(results_model):\n",
    "    shapiro_t = shapiro(results_model)\n",
    "    print(shapiro_t)\n",
    "    interpret_test(shapiro_t.pvalue)"
   ]
  },
  {
   "cell_type": "code",
   "execution_count": 9,
   "id": "27de3c08",
   "metadata": {},
   "outputs": [
    {
     "name": "stdout",
     "output_type": "stream",
     "text": [
      "Random Forest \n",
      "ShapiroResult(statistic=0.797734797000885, pvalue=0.013607893139123917)\n",
      "Different distributions (reject H0)\n",
      "\n",
      "Decision Tree \n",
      "ShapiroResult(statistic=1.0, pvalue=1.0)\n",
      "Same distributions (fail to reject H0)\n",
      "\n",
      "K-NN \n",
      "ShapiroResult(statistic=0.7690712213516235, pvalue=0.006092986091971397)\n",
      "Different distributions (reject H0)\n",
      "\n",
      "Rede Neural MLP \n",
      "ShapiroResult(statistic=0.9519882202148438, pvalue=0.6920560598373413)\n",
      "Same distributions (fail to reject H0)\n"
     ]
    },
    {
     "name": "stderr",
     "output_type": "stream",
     "text": [
      "C:\\Users\\mtbl\\anaconda3\\lib\\site-packages\\scipy\\stats\\morestats.py:1757: UserWarning: Input data for shapiro has range zero. The results may not be accurate.\n",
      "  warnings.warn(\"Input data for shapiro has range zero. The results \"\n"
     ]
    }
   ],
   "source": [
    "print(\"Random Forest \")\n",
    "shapiro_test(score_rf)\n",
    "\n",
    "print(\"\\nDecision Tree \")\n",
    "shapiro_test(score_dt)\n",
    "\n",
    "print(\"\\nK-NN \")\n",
    "shapiro_test(score_knn)\n",
    "\n",
    "print(\"\\nRede Neural MLP \")\n",
    "shapiro_test(score_mlp)"
   ]
  },
  {
   "cell_type": "markdown",
   "id": "12fc6318",
   "metadata": {},
   "source": [
    "## Mann-Whitney tests"
   ]
  },
  {
   "cell_type": "code",
   "execution_count": 10,
   "id": "a7c839d5",
   "metadata": {},
   "outputs": [],
   "source": [
    "def mannwhitneyu_test(results_m1, results_m2):\n",
    "    stat, p = mannwhitneyu(results_m1, results_m2)\n",
    "    print('Mann-Whitney Statistic: s=%.3f, p=%.3f' % (stat, p))\n",
    "\n",
    "    interpret_test(p)"
   ]
  },
  {
   "cell_type": "code",
   "execution_count": 11,
   "id": "f362ebea",
   "metadata": {},
   "outputs": [
    {
     "name": "stdout",
     "output_type": "stream",
     "text": [
      "K-NN | Decision Tree: \n",
      "Mann-Whitney Statistic: s=100.000, p=0.000\n",
      "Different distributions (reject H0)\n",
      "None\n",
      "\n",
      "K-NN | Random Forest: \n",
      "Mann-Whitney Statistic: s=0.000, p=0.000\n",
      "Different distributions (reject H0)\n",
      "None\n",
      "\n",
      "K-NN | Rede Neural MLP: \n",
      "Mann-Whitney Statistic: s=100.000, p=0.000\n",
      "Different distributions (reject H0)\n",
      "None\n",
      "\n",
      "Decision Tree | Random Forest: \n",
      "Mann-Whitney Statistic: s=0.000, p=0.000\n",
      "Different distributions (reject H0)\n",
      "None\n",
      "\n",
      "Decision Tree | Rede Neural MLP: \n",
      "Mann-Whitney Statistic: s=100.000, p=0.000\n",
      "Different distributions (reject H0)\n",
      "None\n",
      "\n",
      "Random Forest | Rede Neural MLP: \n",
      "Mann-Whitney Statistic: s=100.000, p=0.000\n",
      "Different distributions (reject H0)\n",
      "None\n"
     ]
    }
   ],
   "source": [
    "print('K-NN | Decision Tree: ')\n",
    "print(mannwhitneyu_test(score_knn, score_dt))\n",
    "print('\\nK-NN | Random Forest: ')\n",
    "print(mannwhitneyu_test(score_knn, score_rf))\n",
    "print('\\nK-NN | Rede Neural MLP: ')\n",
    "print(mannwhitneyu_test(score_knn, score_mlp))\n",
    "      \n",
    "print('\\nDecision Tree | Random Forest: ')\n",
    "print(mannwhitneyu_test(score_dt, score_rf))\n",
    "print('\\nDecision Tree | Rede Neural MLP: ')\n",
    "print(mannwhitneyu_test(score_dt, score_mlp))\n",
    "\n",
    "print('\\nRandom Forest | Rede Neural MLP: ')\n",
    "print(mannwhitneyu_test(score_rf, score_mlp))"
   ]
  },
  {
   "cell_type": "markdown",
   "id": "3099b533",
   "metadata": {},
   "source": [
    "## Kruskal tests"
   ]
  },
  {
   "cell_type": "code",
   "execution_count": 12,
   "id": "dbdb00a0",
   "metadata": {},
   "outputs": [],
   "source": [
    "def kruskal_test(results_m1, results_m2):\n",
    "    stat, p = kruskal(results_m1, results_m2)\n",
    "    print('\\nComparison stats', stat)\n",
    "    interpret_test(p)"
   ]
  },
  {
   "cell_type": "code",
   "execution_count": 13,
   "id": "dbfa06df",
   "metadata": {},
   "outputs": [
    {
     "name": "stdout",
     "output_type": "stream",
     "text": [
      "K-NN | Decision Tree: \n",
      "\n",
      "Comparison stats 16.351118760757306\n",
      "Different distributions (reject H0)\n",
      "None\n",
      "\n",
      "K-NN | Random Forest: \n",
      "\n",
      "Comparison stats 14.361300075585781\n",
      "Different distributions (reject H0)\n",
      "None\n",
      "\n",
      "K-NN | Rede Neural MLP: \n",
      "\n",
      "Comparison stats 14.31801055011303\n",
      "Different distributions (reject H0)\n",
      "None\n",
      "\n",
      "Decision Tree | Random Forest: \n",
      "\n",
      "Comparison stats 16.36520241171403\n",
      "Different distributions (reject H0)\n",
      "None\n",
      "\n",
      "Decision Tree | Rede Neural MLP: \n",
      "\n",
      "Comparison stats 16.30901287553647\n",
      "Different distributions (reject H0)\n",
      "None\n",
      "\n",
      "Random Forest | Rede Neural MLP: \n",
      "\n",
      "Comparison stats 14.328808446455497\n",
      "Different distributions (reject H0)\n",
      "None\n"
     ]
    }
   ],
   "source": [
    "print('K-NN | Decision Tree: ')\n",
    "print(kruskal_test(score_knn, score_dt))\n",
    "print('\\nK-NN | Random Forest: ')\n",
    "print(kruskal_test(score_knn, score_rf))\n",
    "print('\\nK-NN | Rede Neural MLP: ')\n",
    "print(kruskal_test(score_knn, score_mlp))\n",
    "      \n",
    "print('\\nDecision Tree | Random Forest: ')\n",
    "print(kruskal_test(score_dt, score_rf))\n",
    "print('\\nDecision Tree | Rede Neural MLP: ')\n",
    "print(kruskal_test(score_dt, score_mlp))\n",
    "\n",
    "print('\\nRandom Forest | Rede Neural MLP: ')\n",
    "print(kruskal_test(score_rf, score_mlp))"
   ]
  },
  {
   "cell_type": "code",
   "execution_count": null,
   "id": "c0e50c68",
   "metadata": {},
   "outputs": [],
   "source": []
  }
 ],
 "metadata": {
  "kernelspec": {
   "display_name": "Python 3 (ipykernel)",
   "language": "python",
   "name": "python3"
  },
  "language_info": {
   "codemirror_mode": {
    "name": "ipython",
    "version": 3
   },
   "file_extension": ".py",
   "mimetype": "text/x-python",
   "name": "python",
   "nbconvert_exporter": "python",
   "pygments_lexer": "ipython3",
   "version": "3.9.7"
  }
 },
 "nbformat": 4,
 "nbformat_minor": 5
}
