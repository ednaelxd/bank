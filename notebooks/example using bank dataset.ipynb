{
 "cells": [
  {
   "cell_type": "code",
   "execution_count": 1,
   "metadata": {},
   "outputs": [
    {
     "name": "stdout",
     "output_type": "stream",
     "text": [
      "Mean ROC AUC: 0.933\n"
     ]
    }
   ],
   "source": [
    "from utils import train_and_search, plot_results, handle_param_names, show_value_counts, plot_grid, plot_cf_matrix\n",
    "import pandas as pd\n",
    "from sklearn.model_selection import train_test_split\n",
    "from sklearn.ensemble import RandomForestClassifier\n",
    "from sklearn.metrics import f1_score\n",
    "\n",
    "from imblearn.under_sampling import RandomUnderSampler"
   ]
  },
  {
   "cell_type": "code",
   "execution_count": 2,
   "metadata": {},
   "outputs": [],
   "source": [
    "df = pd.read_csv('../dataset/bank-preprocessed.csv')"
   ]
  },
  {
   "cell_type": "code",
   "execution_count": 3,
   "metadata": {},
   "outputs": [],
   "source": [
    "X = df.drop('y', axis=1)\n",
    "y = df['y']\n",
    "SEED = 42\n",
    "X_train, X_test, y_train, y_test = train_test_split(X, y, test_size = 0.20, random_state = SEED)"
   ]
  },
  {
   "cell_type": "code",
   "execution_count": 4,
   "metadata": {},
   "outputs": [
    {
     "data": {
      "image/png": "[encoded data removed]",
      "text/plain": [
       "<Figure size 1008x72 with 2 Axes>"
      ]
     },
     "metadata": {
      "needs_background": "light"
     },
     "output_type": "display_data"
    },
    {
     "data": {
      "text/plain": [
       "<Figure size 360x720 with 0 Axes>"
      ]
     },
     "metadata": {},
     "output_type": "display_data"
    },
    {
     "data": {
      "text/plain": [
       "<Figure size 360x720 with 0 Axes>"
      ]
     },
     "metadata": {},
     "output_type": "display_data"
    }
   ],
   "source": [
    "train_plotting_infos = [{'serie': y_train, 'title': 'Records by class in train set'},\n",
    "                        {'serie': y_test, 'title': 'Records by class in test set'}]\n",
    "plot_grid([[show_value_counts, plotting_info] for plotting_info in train_plotting_infos], \n",
    "            n_cols=2, width_scale=7, height_scale=1)"
   ]
  },
  {
   "cell_type": "markdown",
   "metadata": {},
   "source": [
    "## Base Line"
   ]
  },
  {
   "cell_type": "code",
   "execution_count": 5,
   "metadata": {},
   "outputs": [],
   "source": [
    "rus = RandomUnderSampler(random_state=SEED)\n",
    "X_train_resampled, y_train_resampled = rus.fit_resample(X_train, y_train)"
   ]
  },
  {
   "cell_type": "code",
   "execution_count": 6,
   "metadata": {},
   "outputs": [
    {
     "data": {
      "image/png": "[encoded data removed]",
      "text/plain": [
       "<Figure size 1008x72 with 1 Axes>"
      ]
     },
     "metadata": {
      "needs_background": "light"
     },
     "output_type": "display_data"
    },
    {
     "data": {
      "text/plain": [
       "<Figure size 360x720 with 0 Axes>"
      ]
     },
     "metadata": {},
     "output_type": "display_data"
    }
   ],
   "source": [
    "train_plotting_infos = [{'serie': y_train_resampled, 'title': 'Records by class in train set'}]\n",
    "plot_grid([[show_value_counts, plotting_info] for plotting_info in train_plotting_infos], \n",
    "            n_cols=2, width_scale=7, height_scale=1)"
   ]
  },
  {
   "cell_type": "code",
   "execution_count": 7,
   "metadata": {},
   "outputs": [
    {
     "data": {
      "text/plain": [
       "0.8335835546829888"
      ]
     },
     "execution_count": 7,
     "metadata": {},
     "output_type": "execute_result"
    }
   ],
   "source": [
    "base_model = RandomForestClassifier(random_state=SEED)\n",
    "base_model.fit(X_train_resampled, y_train_resampled)\n",
    "y_pred = base_model.predict(X_test)\n",
    "base_score = f1_score(y_test, y_pred, average='micro')\n",
    "base_score"
   ]
  },
  {
   "cell_type": "markdown",
   "metadata": {},
   "source": [
    "## Fine-tuning"
   ]
  },
  {
   "cell_type": "code",
   "execution_count": 8,
   "metadata": {},
   "outputs": [],
   "source": [
    "from sklearn.model_selection import RandomizedSearchCV\n",
    "from sklearn.model_selection import GridSearchCV\n",
    "from sklearn.model_selection import StratifiedKFold, KFold\n",
    "from imblearn.pipeline import Pipeline\n",
    "from imblearn.over_sampling import SMOTE\n",
    "from sklearn.model_selection import cross_val_score\n"
   ]
  },
  {
   "cell_type": "code",
   "execution_count": 24,
   "metadata": {},
   "outputs": [],
   "source": [
    "def train_and_search(model, param_grid, X_train, y_train, metric=\"f1_micro\", seed=42, search_type=\"grid\", n_jobs=-1, verbose=10, \n",
    "                     sampler=None, folds=None, n_repeats=3):\n",
    "    if not folds:\n",
    "        folds=StratifiedKFold(n_splits=10, shuffle=True, random_state=seed) \n",
    "    # kf = KFold(n_splits=10, random_state=seed, shuffle=True) \n",
    "\n",
    "    # using a specif pipeline for unbalanced datasets and undersampling of the most frequent classes\n",
    "    imba_pipeline = Pipeline(steps=[\n",
    "                                    ('sampler', sampler),\n",
    "                                    ('model', model)\n",
    "                                ]\n",
    "                            )   \n",
    "\n",
    "    new_param_grid = {'model__' + key: param_grid[key] for key in param_grid}\n",
    "\n",
    "    # params = {\"estimator\": imba_pipeline,\n",
    "    params = {\"estimator\": imba_pipeline,\n",
    "              \"param_grid\": new_param_grid,\n",
    "              \"scoring\": metric,\n",
    "              \"n_jobs\": n_jobs,\n",
    "              \"verbose\": verbose,\n",
    "              \"return_train_score\": True,\n",
    "              \"cv\": folds\n",
    "            }\n",
    "\n",
    "    if search_type == \"grid\":\n",
    "        search = GridSearchCV(**params)\n",
    "    else:\n",
    "        search = RandomizedSearchCV(**params)\n",
    "\n",
    "    train_0, train_1 = len(y_train_fold[y_train_fold==0]), len(y_train_fold[y_train_fold==1])\n",
    "    val_0, val_1 = len(y_val_fold[y_val_fold==0]), len(y_val_fold[y_val_fold==1])\n",
    "    print('>Before resampler - Train: 0=%d, 1=%d, Test: 0=%d, 1=%d' % (train_0, train_1, val_0, val_1))\n",
    "\n",
    "    search.fit(X_train, y_train)\n",
    "    print(f'Best parameters: {search.best_params_}')\n",
    "    results = pd.DataFrame(search.cv_results_)\n",
    "    return search, results"
   ]
  },
  {
   "cell_type": "code",
   "execution_count": 11,
   "metadata": {},
   "outputs": [],
   "source": [
    "from sklearn.metrics import confusion_matrix\n",
    "import seaborn as sns\n",
    "import matplotlib.pyplot as plt\n",
    "import numpy as np\n",
    "\n",
    "def plot_cf_matrix(y_test, y_pred):\n",
    "    cm=confusion_matrix(y_test, y_pred)\n",
    "    cm = cm.astype('float') / cm.sum(axis=1)[:, np.newaxis]\n",
    "    f, ax=plt.subplots(figsize=(5,5))\n",
    "    sns.heatmap(cm, annot=True, linewidths=0.5, linecolor=\"black\", ax=ax, cmap=\"YlGnBu\",\n",
    "                fmt='.2f')\n",
    "    plt.ylabel('Actual')\n",
    "    plt.xlabel('Predicted')\n",
    "    plt.show(block=False)"
   ]
  },
  {
   "cell_type": "markdown",
   "metadata": {},
   "source": [
    "KFold(n_splits=10, random_state=42, shuffle=True) com SMOTE\n"
   ]
  },
  {
   "cell_type": "code",
   "execution_count": null,
   "metadata": {},
   "outputs": [
    {
     "name": "stdout",
     "output_type": "stream",
     "text": [
      "Fitting 10 folds for each of 20 candidates, totalling 200 fits\n",
      "Best parameters: {'model__criterion': 'gini', 'model__max_features': 'auto', 'model__n_estimators': 240}\n"
     ]
    },
    {
     "data": {
      "text/html": [
       "<div>\n",
       "<style scoped>\n",
       "    .dataframe tbody tr th:only-of-type {\n",
       "        vertical-align: middle;\n",
       "    }\n",
       "\n",
       "    .dataframe tbody tr th {\n",
       "        vertical-align: top;\n",
       "    }\n",
       "\n",
       "    .dataframe thead th {\n",
       "        text-align: right;\n",
       "    }\n",
       "</style>\n",
       "<table border=\"1\" class=\"dataframe\">\n",
       "  <thead>\n",
       "    <tr style=\"text-align: right;\">\n",
       "      <th></th>\n",
       "      <th>rank_test_score</th>\n",
       "      <th>params</th>\n",
       "      <th>mean_train_score</th>\n",
       "      <th>mean_test_score</th>\n",
       "    </tr>\n",
       "  </thead>\n",
       "  <tbody>\n",
       "    <tr>\n",
       "      <th>7</th>\n",
       "      <td>1</td>\n",
       "      <td>{'model__criterion': 'gini', 'model__max_features': 'auto', 'model__n_estimators': 240}</td>\n",
       "      <td>1.000000</td>\n",
       "      <td>0.905327</td>\n",
       "    </tr>\n",
       "    <tr>\n",
       "      <th>13</th>\n",
       "      <td>2</td>\n",
       "      <td>{'model__criterion': 'entropy', 'model__max_features': 'auto', 'model__n_estimators': 160}</td>\n",
       "      <td>1.000000</td>\n",
       "      <td>0.905038</td>\n",
       "    </tr>\n",
       "    <tr>\n",
       "      <th>4</th>\n",
       "      <td>3</td>\n",
       "      <td>{'model__criterion': 'gini', 'model__max_features': 'auto', 'model__n_estimators': 180}</td>\n",
       "      <td>1.000000</td>\n",
       "      <td>0.905038</td>\n",
       "    </tr>\n",
       "    <tr>\n",
       "      <th>8</th>\n",
       "      <td>4</td>\n",
       "      <td>{'model__criterion': 'gini', 'model__max_features': 'auto', 'model__n_estimators': 260}</td>\n",
       "      <td>1.000000</td>\n",
       "      <td>0.905009</td>\n",
       "    </tr>\n",
       "    <tr>\n",
       "      <th>6</th>\n",
       "      <td>5</td>\n",
       "      <td>{'model__criterion': 'gini', 'model__max_features': 'auto', 'model__n_estimators': 220}</td>\n",
       "      <td>1.000000</td>\n",
       "      <td>0.905009</td>\n",
       "    </tr>\n",
       "    <tr>\n",
       "      <th>1</th>\n",
       "      <td>6</td>\n",
       "      <td>{'model__criterion': 'gini', 'model__max_features': 'auto', 'model__n_estimators': 120}</td>\n",
       "      <td>1.000000</td>\n",
       "      <td>0.904980</td>\n",
       "    </tr>\n",
       "    <tr>\n",
       "      <th>9</th>\n",
       "      <td>7</td>\n",
       "      <td>{'model__criterion': 'gini', 'model__max_features': 'auto', 'model__n_estimators': 280}</td>\n",
       "      <td>1.000000</td>\n",
       "      <td>0.904952</td>\n",
       "    </tr>\n",
       "    <tr>\n",
       "      <th>19</th>\n",
       "      <td>8</td>\n",
       "      <td>{'model__criterion': 'entropy', 'model__max_features': 'auto', 'model__n_estimators': 280}</td>\n",
       "      <td>1.000000</td>\n",
       "      <td>0.904923</td>\n",
       "    </tr>\n",
       "    <tr>\n",
       "      <th>12</th>\n",
       "      <td>9</td>\n",
       "      <td>{'model__criterion': 'entropy', 'model__max_features': 'auto', 'model__n_estimators': 140}</td>\n",
       "      <td>1.000000</td>\n",
       "      <td>0.904865</td>\n",
       "    </tr>\n",
       "    <tr>\n",
       "      <th>18</th>\n",
       "      <td>10</td>\n",
       "      <td>{'model__criterion': 'entropy', 'model__max_features': 'auto', 'model__n_estimators': 260}</td>\n",
       "      <td>1.000000</td>\n",
       "      <td>0.904865</td>\n",
       "    </tr>\n",
       "    <tr>\n",
       "      <th>15</th>\n",
       "      <td>11</td>\n",
       "      <td>{'model__criterion': 'entropy', 'model__max_features': 'auto', 'model__n_estimators': 200}</td>\n",
       "      <td>1.000000</td>\n",
       "      <td>0.904807</td>\n",
       "    </tr>\n",
       "    <tr>\n",
       "      <th>3</th>\n",
       "      <td>12</td>\n",
       "      <td>{'model__criterion': 'gini', 'model__max_features': 'auto', 'model__n_estimators': 160}</td>\n",
       "      <td>1.000000</td>\n",
       "      <td>0.904778</td>\n",
       "    </tr>\n",
       "    <tr>\n",
       "      <th>14</th>\n",
       "      <td>13</td>\n",
       "      <td>{'model__criterion': 'entropy', 'model__max_features': 'auto', 'model__n_estimators': 180}</td>\n",
       "      <td>1.000000</td>\n",
       "      <td>0.904721</td>\n",
       "    </tr>\n",
       "    <tr>\n",
       "      <th>17</th>\n",
       "      <td>14</td>\n",
       "      <td>{'model__criterion': 'entropy', 'model__max_features': 'auto', 'model__n_estimators': 240}</td>\n",
       "      <td>1.000000</td>\n",
       "      <td>0.904634</td>\n",
       "    </tr>\n",
       "    <tr>\n",
       "      <th>11</th>\n",
       "      <td>15</td>\n",
       "      <td>{'model__criterion': 'entropy', 'model__max_features': 'auto', 'model__n_estimators': 120}</td>\n",
       "      <td>1.000000</td>\n",
       "      <td>0.904547</td>\n",
       "    </tr>\n",
       "    <tr>\n",
       "      <th>16</th>\n",
       "      <td>16</td>\n",
       "      <td>{'model__criterion': 'entropy', 'model__max_features': 'auto', 'model__n_estimators': 220}</td>\n",
       "      <td>1.000000</td>\n",
       "      <td>0.904547</td>\n",
       "    </tr>\n",
       "    <tr>\n",
       "      <th>5</th>\n",
       "      <td>17</td>\n",
       "      <td>{'model__criterion': 'gini', 'model__max_features': 'auto', 'model__n_estimators': 200}</td>\n",
       "      <td>1.000000</td>\n",
       "      <td>0.904518</td>\n",
       "    </tr>\n",
       "    <tr>\n",
       "      <th>0</th>\n",
       "      <td>18</td>\n",
       "      <td>{'model__criterion': 'gini', 'model__max_features': 'auto', 'model__n_estimators': 100}</td>\n",
       "      <td>0.999997</td>\n",
       "      <td>0.904259</td>\n",
       "    </tr>\n",
       "    <tr>\n",
       "      <th>2</th>\n",
       "      <td>19</td>\n",
       "      <td>{'model__criterion': 'gini', 'model__max_features': 'auto', 'model__n_estimators': 140}</td>\n",
       "      <td>0.999997</td>\n",
       "      <td>0.904056</td>\n",
       "    </tr>\n",
       "    <tr>\n",
       "      <th>10</th>\n",
       "      <td>20</td>\n",
       "      <td>{'model__criterion': 'entropy', 'model__max_features': 'auto', 'model__n_estimators': 100}</td>\n",
       "      <td>0.999997</td>\n",
       "      <td>0.903941</td>\n",
       "    </tr>\n",
       "  </tbody>\n",
       "</table>\n",
       "</div>"
      ],
      "text/plain": [
       "    rank_test_score  \\\n",
       "7                 1   \n",
       "13                2   \n",
       "4                 3   \n",
       "8                 4   \n",
       "6                 5   \n",
       "1                 6   \n",
       "9                 7   \n",
       "19                8   \n",
       "12                9   \n",
       "18               10   \n",
       "15               11   \n",
       "3                12   \n",
       "14               13   \n",
       "17               14   \n",
       "11               15   \n",
       "16               16   \n",
       "5                17   \n",
       "0                18   \n",
       "2                19   \n",
       "10               20   \n",
       "\n",
       "                                                                                        params  \\\n",
       "7      {'model__criterion': 'gini', 'model__max_features': 'auto', 'model__n_estimators': 240}   \n",
       "13  {'model__criterion': 'entropy', 'model__max_features': 'auto', 'model__n_estimators': 160}   \n",
       "4      {'model__criterion': 'gini', 'model__max_features': 'auto', 'model__n_estimators': 180}   \n",
       "8      {'model__criterion': 'gini', 'model__max_features': 'auto', 'model__n_estimators': 260}   \n",
       "6      {'model__criterion': 'gini', 'model__max_features': 'auto', 'model__n_estimators': 220}   \n",
       "1      {'model__criterion': 'gini', 'model__max_features': 'auto', 'model__n_estimators': 120}   \n",
       "9      {'model__criterion': 'gini', 'model__max_features': 'auto', 'model__n_estimators': 280}   \n",
       "19  {'model__criterion': 'entropy', 'model__max_features': 'auto', 'model__n_estimators': 280}   \n",
       "12  {'model__criterion': 'entropy', 'model__max_features': 'auto', 'model__n_estimators': 140}   \n",
       "18  {'model__criterion': 'entropy', 'model__max_features': 'auto', 'model__n_estimators': 260}   \n",
       "15  {'model__criterion': 'entropy', 'model__max_features': 'auto', 'model__n_estimators': 200}   \n",
       "3      {'model__criterion': 'gini', 'model__max_features': 'auto', 'model__n_estimators': 160}   \n",
       "14  {'model__criterion': 'entropy', 'model__max_features': 'auto', 'model__n_estimators': 180}   \n",
       "17  {'model__criterion': 'entropy', 'model__max_features': 'auto', 'model__n_estimators': 240}   \n",
       "11  {'model__criterion': 'entropy', 'model__max_features': 'auto', 'model__n_estimators': 120}   \n",
       "16  {'model__criterion': 'entropy', 'model__max_features': 'auto', 'model__n_estimators': 220}   \n",
       "5      {'model__criterion': 'gini', 'model__max_features': 'auto', 'model__n_estimators': 200}   \n",
       "0      {'model__criterion': 'gini', 'model__max_features': 'auto', 'model__n_estimators': 100}   \n",
       "2      {'model__criterion': 'gini', 'model__max_features': 'auto', 'model__n_estimators': 140}   \n",
       "10  {'model__criterion': 'entropy', 'model__max_features': 'auto', 'model__n_estimators': 100}   \n",
       "\n",
       "    mean_train_score  mean_test_score  \n",
       "7           1.000000         0.905327  \n",
       "13          1.000000         0.905038  \n",
       "4           1.000000         0.905038  \n",
       "8           1.000000         0.905009  \n",
       "6           1.000000         0.905009  \n",
       "1           1.000000         0.904980  \n",
       "9           1.000000         0.904952  \n",
       "19          1.000000         0.904923  \n",
       "12          1.000000         0.904865  \n",
       "18          1.000000         0.904865  \n",
       "15          1.000000         0.904807  \n",
       "3           1.000000         0.904778  \n",
       "14          1.000000         0.904721  \n",
       "17          1.000000         0.904634  \n",
       "11          1.000000         0.904547  \n",
       "16          1.000000         0.904547  \n",
       "5           1.000000         0.904518  \n",
       "0           0.999997         0.904259  \n",
       "2           0.999997         0.904056  \n",
       "10          0.999997         0.903941  "
      ]
     },
     "metadata": {},
     "output_type": "display_data"
    }
   ],
   "source": [
    "model_01 = RandomForestClassifier(random_state=SEED)\n",
    "grid_parameters = {\n",
    "    \"n_estimators\": range(100, 300, 20),\n",
    "    \"criterion\": [\"gini\", \"entropy\"],\n",
    "    \n",
    "    \"max_features\": [\"auto\"],\n",
    "}\n",
    "\n",
    "grid_search_01, results_01 = train_and_search(model_01, grid_parameters, X_train, y_train, seed=SEED)\n",
    "results_01[['rank_test_score', 'params', 'mean_train_score', 'mean_test_score']].sort_values(['mean_test_score', 'mean_train_score'], ascending=False)"
   ]
  },
  {
   "cell_type": "code",
   "execution_count": 12,
   "metadata": {},
   "outputs": [
    {
     "data": {
      "image/png": "[encoded data removed]",
      "text/plain": [
       "<Figure size 432x288 with 1 Axes>"
      ]
     },
     "metadata": {
      "needs_background": "light"
     },
     "output_type": "display_data"
    },
    {
     "data": {
      "image/png": "[encoded data removed]",
      "text/plain": [
       "<Figure size 432x288 with 1 Axes>"
      ]
     },
     "metadata": {
      "needs_background": "light"
     },
     "output_type": "display_data"
    }
   ],
   "source": [
    "plot_results(grid_search_01, index='max_features', columns='criterion')\n",
    "plot_results(grid_search_01, index='n_estimators', columns='criterion')"
   ]
  },
  {
   "cell_type": "code",
   "execution_count": 13,
   "metadata": {},
   "outputs": [
    {
     "data": {
      "text/plain": [
       "{'criterion': 'gini', 'max_features': 'auto', 'n_estimators': 240}"
      ]
     },
     "execution_count": 13,
     "metadata": {},
     "output_type": "execute_result"
    }
   ],
   "source": [
    "best_params = handle_param_names(grid_search_01.best_params_)\n",
    "best_params"
   ]
  },
  {
   "cell_type": "code",
   "execution_count": 14,
   "metadata": {},
   "outputs": [],
   "source": [
    "X_train_resampled, y_train_resampled = rus.fit_resample(X_train, y_train)"
   ]
  },
  {
   "cell_type": "markdown",
   "metadata": {},
   "source": [
    "F1 Score in train set"
   ]
  },
  {
   "cell_type": "code",
   "execution_count": 15,
   "metadata": {},
   "outputs": [
    {
     "name": "stdout",
     "output_type": "stream",
     "text": [
      "1.0\n"
     ]
    },
    {
     "data": {
      "image/png": "[encoded data removed]",
      "text/plain": [
       "<Figure size 360x360 with 2 Axes>"
      ]
     },
     "metadata": {
      "needs_background": "light"
     },
     "output_type": "display_data"
    }
   ],
   "source": [
    "y_pred = grid_search_01.best_estimator_.predict(X_train_resampled)\n",
    "print(f1_score(y_train_resampled, y_pred, average='micro'))\n",
    "plot_cf_matrix(y_train_resampled, y_pred)"
   ]
  },
  {
   "cell_type": "markdown",
   "metadata": {},
   "source": [
    "F1 Score in test set"
   ]
  },
  {
   "cell_type": "code",
   "execution_count": 30,
   "metadata": {},
   "outputs": [
    {
     "name": "stdout",
     "output_type": "stream",
     "text": [
      "              precision    recall  f1-score   support\n",
      "\n",
      "           0       0.94      0.96      0.95      7701\n",
      "           1       0.61      0.49      0.55       958\n",
      "\n",
      "    accuracy                           0.91      8659\n",
      "   macro avg       0.77      0.73      0.75      8659\n",
      "weighted avg       0.90      0.91      0.90      8659\n",
      "\n",
      "0.9091119066866844\n"
     ]
    },
    {
     "data": {
      "image/png": "[encoded data removed]",
      "text/plain": [
       "<Figure size 360x360 with 2 Axes>"
      ]
     },
     "metadata": {
      "needs_background": "light"
     },
     "output_type": "display_data"
    }
   ],
   "source": [
    "from sklearn.metrics import classification_report\n",
    "\n",
    "y_pred = grid_search_01.best_estimator_.predict(X_test)\n",
    "print(classification_report(y_test, y_pred))\n",
    "print(f1_score(y_test, y_pred, average='micro'))\n",
    "plot_cf_matrix(y_test, y_pred)"
   ]
  },
  {
   "cell_type": "markdown",
   "metadata": {},
   "source": [
    "Sem balanceamento e Kfold\n"
   ]
  },
  {
   "cell_type": "code",
   "execution_count": 12,
   "metadata": {},
   "outputs": [
    {
     "name": "stdout",
     "output_type": "stream",
     "text": [
      "Fitting 10 folds for each of 20 candidates, totalling 200 fits\n",
      "Best parameters: {'model__criterion': 'gini', 'model__max_features': 'auto', 'model__n_estimators': 280}\n"
     ]
    },
    {
     "data": {
      "text/html": [
       "<div>\n",
       "<style scoped>\n",
       "    .dataframe tbody tr th:only-of-type {\n",
       "        vertical-align: middle;\n",
       "    }\n",
       "\n",
       "    .dataframe tbody tr th {\n",
       "        vertical-align: top;\n",
       "    }\n",
       "\n",
       "    .dataframe thead th {\n",
       "        text-align: right;\n",
       "    }\n",
       "</style>\n",
       "<table border=\"1\" class=\"dataframe\">\n",
       "  <thead>\n",
       "    <tr style=\"text-align: right;\">\n",
       "      <th></th>\n",
       "      <th>rank_test_score</th>\n",
       "      <th>params</th>\n",
       "      <th>mean_train_score</th>\n",
       "      <th>mean_test_score</th>\n",
       "    </tr>\n",
       "  </thead>\n",
       "  <tbody>\n",
       "    <tr>\n",
       "      <th>9</th>\n",
       "      <td>1</td>\n",
       "      <td>{'model__criterion': 'gini', 'model__max_features': 'auto', 'model__n_estimators': 280}</td>\n",
       "      <td>1.000000</td>\n",
       "      <td>0.906049</td>\n",
       "    </tr>\n",
       "    <tr>\n",
       "      <th>3</th>\n",
       "      <td>2</td>\n",
       "      <td>{'model__criterion': 'gini', 'model__max_features': 'auto', 'model__n_estimators': 160}</td>\n",
       "      <td>1.000000</td>\n",
       "      <td>0.905991</td>\n",
       "    </tr>\n",
       "    <tr>\n",
       "      <th>6</th>\n",
       "      <td>3</td>\n",
       "      <td>{'model__criterion': 'gini', 'model__max_features': 'auto', 'model__n_estimators': 220}</td>\n",
       "      <td>1.000000</td>\n",
       "      <td>0.905962</td>\n",
       "    </tr>\n",
       "    <tr>\n",
       "      <th>2</th>\n",
       "      <td>4</td>\n",
       "      <td>{'model__criterion': 'gini', 'model__max_features': 'auto', 'model__n_estimators': 140}</td>\n",
       "      <td>0.999997</td>\n",
       "      <td>0.905962</td>\n",
       "    </tr>\n",
       "    <tr>\n",
       "      <th>8</th>\n",
       "      <td>5</td>\n",
       "      <td>{'model__criterion': 'gini', 'model__max_features': 'auto', 'model__n_estimators': 260}</td>\n",
       "      <td>1.000000</td>\n",
       "      <td>0.905847</td>\n",
       "    </tr>\n",
       "    <tr>\n",
       "      <th>5</th>\n",
       "      <td>6</td>\n",
       "      <td>{'model__criterion': 'gini', 'model__max_features': 'auto', 'model__n_estimators': 200}</td>\n",
       "      <td>1.000000</td>\n",
       "      <td>0.905846</td>\n",
       "    </tr>\n",
       "    <tr>\n",
       "      <th>7</th>\n",
       "      <td>7</td>\n",
       "      <td>{'model__criterion': 'gini', 'model__max_features': 'auto', 'model__n_estimators': 240}</td>\n",
       "      <td>1.000000</td>\n",
       "      <td>0.905818</td>\n",
       "    </tr>\n",
       "    <tr>\n",
       "      <th>1</th>\n",
       "      <td>8</td>\n",
       "      <td>{'model__criterion': 'gini', 'model__max_features': 'auto', 'model__n_estimators': 120}</td>\n",
       "      <td>0.999994</td>\n",
       "      <td>0.905818</td>\n",
       "    </tr>\n",
       "    <tr>\n",
       "      <th>4</th>\n",
       "      <td>9</td>\n",
       "      <td>{'model__criterion': 'gini', 'model__max_features': 'auto', 'model__n_estimators': 180}</td>\n",
       "      <td>1.000000</td>\n",
       "      <td>0.905760</td>\n",
       "    </tr>\n",
       "    <tr>\n",
       "      <th>10</th>\n",
       "      <td>10</td>\n",
       "      <td>{'model__criterion': 'entropy', 'model__max_features': 'auto', 'model__n_estimators': 100}</td>\n",
       "      <td>0.999987</td>\n",
       "      <td>0.905384</td>\n",
       "    </tr>\n",
       "    <tr>\n",
       "      <th>13</th>\n",
       "      <td>11</td>\n",
       "      <td>{'model__criterion': 'entropy', 'model__max_features': 'auto', 'model__n_estimators': 160}</td>\n",
       "      <td>1.000000</td>\n",
       "      <td>0.905182</td>\n",
       "    </tr>\n",
       "    <tr>\n",
       "      <th>11</th>\n",
       "      <td>12</td>\n",
       "      <td>{'model__criterion': 'entropy', 'model__max_features': 'auto', 'model__n_estimators': 120}</td>\n",
       "      <td>0.999997</td>\n",
       "      <td>0.904980</td>\n",
       "    </tr>\n",
       "    <tr>\n",
       "      <th>19</th>\n",
       "      <td>13</td>\n",
       "      <td>{'model__criterion': 'entropy', 'model__max_features': 'auto', 'model__n_estimators': 280}</td>\n",
       "      <td>1.000000</td>\n",
       "      <td>0.904951</td>\n",
       "    </tr>\n",
       "    <tr>\n",
       "      <th>0</th>\n",
       "      <td>14</td>\n",
       "      <td>{'model__criterion': 'gini', 'model__max_features': 'auto', 'model__n_estimators': 100}</td>\n",
       "      <td>0.999984</td>\n",
       "      <td>0.904836</td>\n",
       "    </tr>\n",
       "    <tr>\n",
       "      <th>14</th>\n",
       "      <td>15</td>\n",
       "      <td>{'model__criterion': 'entropy', 'model__max_features': 'auto', 'model__n_estimators': 180}</td>\n",
       "      <td>1.000000</td>\n",
       "      <td>0.904807</td>\n",
       "    </tr>\n",
       "    <tr>\n",
       "      <th>12</th>\n",
       "      <td>16</td>\n",
       "      <td>{'model__criterion': 'entropy', 'model__max_features': 'auto', 'model__n_estimators': 140}</td>\n",
       "      <td>0.999997</td>\n",
       "      <td>0.904778</td>\n",
       "    </tr>\n",
       "    <tr>\n",
       "      <th>15</th>\n",
       "      <td>17</td>\n",
       "      <td>{'model__criterion': 'entropy', 'model__max_features': 'auto', 'model__n_estimators': 200}</td>\n",
       "      <td>1.000000</td>\n",
       "      <td>0.904720</td>\n",
       "    </tr>\n",
       "    <tr>\n",
       "      <th>18</th>\n",
       "      <td>18</td>\n",
       "      <td>{'model__criterion': 'entropy', 'model__max_features': 'auto', 'model__n_estimators': 260}</td>\n",
       "      <td>1.000000</td>\n",
       "      <td>0.904692</td>\n",
       "    </tr>\n",
       "    <tr>\n",
       "      <th>16</th>\n",
       "      <td>19</td>\n",
       "      <td>{'model__criterion': 'entropy', 'model__max_features': 'auto', 'model__n_estimators': 220}</td>\n",
       "      <td>1.000000</td>\n",
       "      <td>0.904547</td>\n",
       "    </tr>\n",
       "    <tr>\n",
       "      <th>17</th>\n",
       "      <td>20</td>\n",
       "      <td>{'model__criterion': 'entropy', 'model__max_features': 'auto', 'model__n_estimators': 240}</td>\n",
       "      <td>1.000000</td>\n",
       "      <td>0.904345</td>\n",
       "    </tr>\n",
       "  </tbody>\n",
       "</table>\n",
       "</div>"
      ],
      "text/plain": [
       "    rank_test_score  \\\n",
       "9                 1   \n",
       "3                 2   \n",
       "6                 3   \n",
       "2                 4   \n",
       "8                 5   \n",
       "5                 6   \n",
       "7                 7   \n",
       "1                 8   \n",
       "4                 9   \n",
       "10               10   \n",
       "13               11   \n",
       "11               12   \n",
       "19               13   \n",
       "0                14   \n",
       "14               15   \n",
       "12               16   \n",
       "15               17   \n",
       "18               18   \n",
       "16               19   \n",
       "17               20   \n",
       "\n",
       "                                                                                        params  \\\n",
       "9      {'model__criterion': 'gini', 'model__max_features': 'auto', 'model__n_estimators': 280}   \n",
       "3      {'model__criterion': 'gini', 'model__max_features': 'auto', 'model__n_estimators': 160}   \n",
       "6      {'model__criterion': 'gini', 'model__max_features': 'auto', 'model__n_estimators': 220}   \n",
       "2      {'model__criterion': 'gini', 'model__max_features': 'auto', 'model__n_estimators': 140}   \n",
       "8      {'model__criterion': 'gini', 'model__max_features': 'auto', 'model__n_estimators': 260}   \n",
       "5      {'model__criterion': 'gini', 'model__max_features': 'auto', 'model__n_estimators': 200}   \n",
       "7      {'model__criterion': 'gini', 'model__max_features': 'auto', 'model__n_estimators': 240}   \n",
       "1      {'model__criterion': 'gini', 'model__max_features': 'auto', 'model__n_estimators': 120}   \n",
       "4      {'model__criterion': 'gini', 'model__max_features': 'auto', 'model__n_estimators': 180}   \n",
       "10  {'model__criterion': 'entropy', 'model__max_features': 'auto', 'model__n_estimators': 100}   \n",
       "13  {'model__criterion': 'entropy', 'model__max_features': 'auto', 'model__n_estimators': 160}   \n",
       "11  {'model__criterion': 'entropy', 'model__max_features': 'auto', 'model__n_estimators': 120}   \n",
       "19  {'model__criterion': 'entropy', 'model__max_features': 'auto', 'model__n_estimators': 280}   \n",
       "0      {'model__criterion': 'gini', 'model__max_features': 'auto', 'model__n_estimators': 100}   \n",
       "14  {'model__criterion': 'entropy', 'model__max_features': 'auto', 'model__n_estimators': 180}   \n",
       "12  {'model__criterion': 'entropy', 'model__max_features': 'auto', 'model__n_estimators': 140}   \n",
       "15  {'model__criterion': 'entropy', 'model__max_features': 'auto', 'model__n_estimators': 200}   \n",
       "18  {'model__criterion': 'entropy', 'model__max_features': 'auto', 'model__n_estimators': 260}   \n",
       "16  {'model__criterion': 'entropy', 'model__max_features': 'auto', 'model__n_estimators': 220}   \n",
       "17  {'model__criterion': 'entropy', 'model__max_features': 'auto', 'model__n_estimators': 240}   \n",
       "\n",
       "    mean_train_score  mean_test_score  \n",
       "9           1.000000         0.906049  \n",
       "3           1.000000         0.905991  \n",
       "6           1.000000         0.905962  \n",
       "2           0.999997         0.905962  \n",
       "8           1.000000         0.905847  \n",
       "5           1.000000         0.905846  \n",
       "7           1.000000         0.905818  \n",
       "1           0.999994         0.905818  \n",
       "4           1.000000         0.905760  \n",
       "10          0.999987         0.905384  \n",
       "13          1.000000         0.905182  \n",
       "11          0.999997         0.904980  \n",
       "19          1.000000         0.904951  \n",
       "0           0.999984         0.904836  \n",
       "14          1.000000         0.904807  \n",
       "12          0.999997         0.904778  \n",
       "15          1.000000         0.904720  \n",
       "18          1.000000         0.904692  \n",
       "16          1.000000         0.904547  \n",
       "17          1.000000         0.904345  "
      ]
     },
     "execution_count": 12,
     "metadata": {},
     "output_type": "execute_result"
    }
   ],
   "source": [
    "model_01 = RandomForestClassifier(random_state=SEED)\n",
    "grid_parameters = {\n",
    "    \"n_estimators\": range(100, 300, 20),\n",
    "    \"criterion\": [\"gini\", \"entropy\"],\n",
    "    \n",
    "    \"max_features\": [\"auto\"],\n",
    "}\n",
    "\n",
    "grid_search_01, results_01 = train_and_search(model_01, grid_parameters, X_train, y_train, seed=SEED)\n",
    "results_01[['rank_test_score', 'params', 'mean_train_score', 'mean_test_score']].sort_values(['mean_test_score', 'mean_train_score'], ascending=False)"
   ]
  },
  {
   "cell_type": "code",
   "execution_count": 13,
   "metadata": {},
   "outputs": [
    {
     "data": {
      "image/png": "[encoded data removed]",
      "text/plain": [
       "<Figure size 432x288 with 1 Axes>"
      ]
     },
     "metadata": {
      "needs_background": "light"
     },
     "output_type": "display_data"
    },
    {
     "data": {
      "image/png": "[encoded data removed]",
      "text/plain": [
       "<Figure size 432x288 with 1 Axes>"
      ]
     },
     "metadata": {
      "needs_background": "light"
     },
     "output_type": "display_data"
    }
   ],
   "source": [
    "plot_results(grid_search_01, index='max_features', columns='criterion')\n",
    "plot_results(grid_search_01, index='n_estimators', columns='criterion')"
   ]
  },
  {
   "cell_type": "code",
   "execution_count": 14,
   "metadata": {},
   "outputs": [
    {
     "data": {
      "text/plain": [
       "{'criterion': 'gini', 'max_features': 'auto', 'n_estimators': 280}"
      ]
     },
     "execution_count": 14,
     "metadata": {},
     "output_type": "execute_result"
    }
   ],
   "source": [
    "best_params = handle_param_names(grid_search_01.best_params_)\n",
    "best_params"
   ]
  },
  {
   "cell_type": "code",
   "execution_count": 15,
   "metadata": {},
   "outputs": [],
   "source": [
    "X_train_resampled, y_train_resampled = rus.fit_resample(X_train, y_train)"
   ]
  },
  {
   "cell_type": "markdown",
   "metadata": {},
   "source": [
    "F1 Score in train set"
   ]
  },
  {
   "cell_type": "code",
   "execution_count": 16,
   "metadata": {},
   "outputs": [
    {
     "name": "stdout",
     "output_type": "stream",
     "text": [
      "1.0\n"
     ]
    },
    {
     "data": {
      "image/png": "[encoded data removed]",
      "text/plain": [
       "<Figure size 360x360 with 2 Axes>"
      ]
     },
     "metadata": {
      "needs_background": "light"
     },
     "output_type": "display_data"
    }
   ],
   "source": [
    "y_pred = grid_search_01.best_estimator_.predict(X_train_resampled)\n",
    "print(f1_score(y_train_resampled, y_pred, average='micro'))\n",
    "plot_cf_matrix(y_train_resampled, y_pred)"
   ]
  },
  {
   "cell_type": "markdown",
   "metadata": {},
   "source": [
    "F1 Score in test set"
   ]
  },
  {
   "cell_type": "code",
   "execution_count": 17,
   "metadata": {},
   "outputs": [
    {
     "name": "stdout",
     "output_type": "stream",
     "text": [
      "              precision    recall  f1-score   support\n",
      "\n",
      "           0       0.93      0.97      0.95      7701\n",
      "           1       0.64      0.42      0.51       958\n",
      "\n",
      "    accuracy                           0.91      8659\n",
      "   macro avg       0.79      0.70      0.73      8659\n",
      "weighted avg       0.90      0.91      0.90      8659\n",
      "\n",
      "0.9098048273472688\n"
     ]
    },
    {
     "data": {
      "image/png": "[encoded data removed]",
      "text/plain": [
       "<Figure size 360x360 with 2 Axes>"
      ]
     },
     "metadata": {
      "needs_background": "light"
     },
     "output_type": "display_data"
    }
   ],
   "source": [
    "from sklearn.metrics import classification_report\n",
    "\n",
    "y_pred = grid_search_01.best_estimator_.predict(X_test)\n",
    "print(classification_report(y_test, y_pred))\n",
    "print(f1_score(y_test, y_pred, average='micro'))\n",
    "plot_cf_matrix(y_test, y_pred)"
   ]
  },
  {
   "cell_type": "markdown",
   "metadata": {},
   "source": [
    "# Sem balanceamento e Stratified Kfold"
   ]
  },
  {
   "cell_type": "code",
   "execution_count": 25,
   "metadata": {},
   "outputs": [
    {
     "name": "stdout",
     "output_type": "stream",
     "text": [
      "Fitting 10 folds for each of 20 candidates, totalling 200 fits\n",
      "Best parameters: {'model__criterion': 'gini', 'model__max_features': 'auto', 'model__n_estimators': 280}\n"
     ]
    },
    {
     "data": {
      "text/html": [
       "<div>\n",
       "<style scoped>\n",
       "    .dataframe tbody tr th:only-of-type {\n",
       "        vertical-align: middle;\n",
       "    }\n",
       "\n",
       "    .dataframe tbody tr th {\n",
       "        vertical-align: top;\n",
       "    }\n",
       "\n",
       "    .dataframe thead th {\n",
       "        text-align: right;\n",
       "    }\n",
       "</style>\n",
       "<table border=\"1\" class=\"dataframe\">\n",
       "  <thead>\n",
       "    <tr style=\"text-align: right;\">\n",
       "      <th></th>\n",
       "      <th>rank_test_score</th>\n",
       "      <th>params</th>\n",
       "      <th>mean_train_score</th>\n",
       "      <th>mean_test_score</th>\n",
       "    </tr>\n",
       "  </thead>\n",
       "  <tbody>\n",
       "    <tr>\n",
       "      <th>9</th>\n",
       "      <td>1</td>\n",
       "      <td>{'model__criterion': 'gini', 'model__max_features': 'auto', 'model__n_estimators': 280}</td>\n",
       "      <td>1.000000</td>\n",
       "      <td>0.906309</td>\n",
       "    </tr>\n",
       "    <tr>\n",
       "      <th>7</th>\n",
       "      <td>2</td>\n",
       "      <td>{'model__criterion': 'gini', 'model__max_features': 'auto', 'model__n_estimators': 240}</td>\n",
       "      <td>1.000000</td>\n",
       "      <td>0.906135</td>\n",
       "    </tr>\n",
       "    <tr>\n",
       "      <th>0</th>\n",
       "      <td>3</td>\n",
       "      <td>{'model__criterion': 'gini', 'model__max_features': 'auto', 'model__n_estimators': 100}</td>\n",
       "      <td>1.000000</td>\n",
       "      <td>0.906106</td>\n",
       "    </tr>\n",
       "    <tr>\n",
       "      <th>8</th>\n",
       "      <td>4</td>\n",
       "      <td>{'model__criterion': 'gini', 'model__max_features': 'auto', 'model__n_estimators': 260}</td>\n",
       "      <td>1.000000</td>\n",
       "      <td>0.906078</td>\n",
       "    </tr>\n",
       "    <tr>\n",
       "      <th>3</th>\n",
       "      <td>5</td>\n",
       "      <td>{'model__criterion': 'gini', 'model__max_features': 'auto', 'model__n_estimators': 160}</td>\n",
       "      <td>1.000000</td>\n",
       "      <td>0.906049</td>\n",
       "    </tr>\n",
       "    <tr>\n",
       "      <th>2</th>\n",
       "      <td>6</td>\n",
       "      <td>{'model__criterion': 'gini', 'model__max_features': 'auto', 'model__n_estimators': 140}</td>\n",
       "      <td>1.000000</td>\n",
       "      <td>0.906049</td>\n",
       "    </tr>\n",
       "    <tr>\n",
       "      <th>4</th>\n",
       "      <td>7</td>\n",
       "      <td>{'model__criterion': 'gini', 'model__max_features': 'auto', 'model__n_estimators': 180}</td>\n",
       "      <td>1.000000</td>\n",
       "      <td>0.905847</td>\n",
       "    </tr>\n",
       "    <tr>\n",
       "      <th>6</th>\n",
       "      <td>8</td>\n",
       "      <td>{'model__criterion': 'gini', 'model__max_features': 'auto', 'model__n_estimators': 220}</td>\n",
       "      <td>1.000000</td>\n",
       "      <td>0.905818</td>\n",
       "    </tr>\n",
       "    <tr>\n",
       "      <th>1</th>\n",
       "      <td>9</td>\n",
       "      <td>{'model__criterion': 'gini', 'model__max_features': 'auto', 'model__n_estimators': 120}</td>\n",
       "      <td>1.000000</td>\n",
       "      <td>0.905731</td>\n",
       "    </tr>\n",
       "    <tr>\n",
       "      <th>5</th>\n",
       "      <td>10</td>\n",
       "      <td>{'model__criterion': 'gini', 'model__max_features': 'auto', 'model__n_estimators': 200}</td>\n",
       "      <td>1.000000</td>\n",
       "      <td>0.905587</td>\n",
       "    </tr>\n",
       "    <tr>\n",
       "      <th>16</th>\n",
       "      <td>11</td>\n",
       "      <td>{'model__criterion': 'entropy', 'model__max_features': 'auto', 'model__n_estimators': 220}</td>\n",
       "      <td>1.000000</td>\n",
       "      <td>0.905154</td>\n",
       "    </tr>\n",
       "    <tr>\n",
       "      <th>15</th>\n",
       "      <td>12</td>\n",
       "      <td>{'model__criterion': 'entropy', 'model__max_features': 'auto', 'model__n_estimators': 200}</td>\n",
       "      <td>1.000000</td>\n",
       "      <td>0.905125</td>\n",
       "    </tr>\n",
       "    <tr>\n",
       "      <th>19</th>\n",
       "      <td>13</td>\n",
       "      <td>{'model__criterion': 'entropy', 'model__max_features': 'auto', 'model__n_estimators': 280}</td>\n",
       "      <td>1.000000</td>\n",
       "      <td>0.904952</td>\n",
       "    </tr>\n",
       "    <tr>\n",
       "      <th>14</th>\n",
       "      <td>14</td>\n",
       "      <td>{'model__criterion': 'entropy', 'model__max_features': 'auto', 'model__n_estimators': 180}</td>\n",
       "      <td>1.000000</td>\n",
       "      <td>0.904865</td>\n",
       "    </tr>\n",
       "    <tr>\n",
       "      <th>18</th>\n",
       "      <td>15</td>\n",
       "      <td>{'model__criterion': 'entropy', 'model__max_features': 'auto', 'model__n_estimators': 260}</td>\n",
       "      <td>1.000000</td>\n",
       "      <td>0.904750</td>\n",
       "    </tr>\n",
       "    <tr>\n",
       "      <th>17</th>\n",
       "      <td>16</td>\n",
       "      <td>{'model__criterion': 'entropy', 'model__max_features': 'auto', 'model__n_estimators': 240}</td>\n",
       "      <td>1.000000</td>\n",
       "      <td>0.904721</td>\n",
       "    </tr>\n",
       "    <tr>\n",
       "      <th>13</th>\n",
       "      <td>17</td>\n",
       "      <td>{'model__criterion': 'entropy', 'model__max_features': 'auto', 'model__n_estimators': 160}</td>\n",
       "      <td>1.000000</td>\n",
       "      <td>0.904663</td>\n",
       "    </tr>\n",
       "    <tr>\n",
       "      <th>11</th>\n",
       "      <td>18</td>\n",
       "      <td>{'model__criterion': 'entropy', 'model__max_features': 'auto', 'model__n_estimators': 120}</td>\n",
       "      <td>1.000000</td>\n",
       "      <td>0.904432</td>\n",
       "    </tr>\n",
       "    <tr>\n",
       "      <th>12</th>\n",
       "      <td>19</td>\n",
       "      <td>{'model__criterion': 'entropy', 'model__max_features': 'auto', 'model__n_estimators': 140}</td>\n",
       "      <td>1.000000</td>\n",
       "      <td>0.904230</td>\n",
       "    </tr>\n",
       "    <tr>\n",
       "      <th>10</th>\n",
       "      <td>20</td>\n",
       "      <td>{'model__criterion': 'entropy', 'model__max_features': 'auto', 'model__n_estimators': 100}</td>\n",
       "      <td>0.999997</td>\n",
       "      <td>0.904172</td>\n",
       "    </tr>\n",
       "  </tbody>\n",
       "</table>\n",
       "</div>"
      ],
      "text/plain": [
       "    rank_test_score  \\\n",
       "9                 1   \n",
       "7                 2   \n",
       "0                 3   \n",
       "8                 4   \n",
       "3                 5   \n",
       "2                 6   \n",
       "4                 7   \n",
       "6                 8   \n",
       "1                 9   \n",
       "5                10   \n",
       "16               11   \n",
       "15               12   \n",
       "19               13   \n",
       "14               14   \n",
       "18               15   \n",
       "17               16   \n",
       "13               17   \n",
       "11               18   \n",
       "12               19   \n",
       "10               20   \n",
       "\n",
       "                                                                                        params  \\\n",
       "9      {'model__criterion': 'gini', 'model__max_features': 'auto', 'model__n_estimators': 280}   \n",
       "7      {'model__criterion': 'gini', 'model__max_features': 'auto', 'model__n_estimators': 240}   \n",
       "0      {'model__criterion': 'gini', 'model__max_features': 'auto', 'model__n_estimators': 100}   \n",
       "8      {'model__criterion': 'gini', 'model__max_features': 'auto', 'model__n_estimators': 260}   \n",
       "3      {'model__criterion': 'gini', 'model__max_features': 'auto', 'model__n_estimators': 160}   \n",
       "2      {'model__criterion': 'gini', 'model__max_features': 'auto', 'model__n_estimators': 140}   \n",
       "4      {'model__criterion': 'gini', 'model__max_features': 'auto', 'model__n_estimators': 180}   \n",
       "6      {'model__criterion': 'gini', 'model__max_features': 'auto', 'model__n_estimators': 220}   \n",
       "1      {'model__criterion': 'gini', 'model__max_features': 'auto', 'model__n_estimators': 120}   \n",
       "5      {'model__criterion': 'gini', 'model__max_features': 'auto', 'model__n_estimators': 200}   \n",
       "16  {'model__criterion': 'entropy', 'model__max_features': 'auto', 'model__n_estimators': 220}   \n",
       "15  {'model__criterion': 'entropy', 'model__max_features': 'auto', 'model__n_estimators': 200}   \n",
       "19  {'model__criterion': 'entropy', 'model__max_features': 'auto', 'model__n_estimators': 280}   \n",
       "14  {'model__criterion': 'entropy', 'model__max_features': 'auto', 'model__n_estimators': 180}   \n",
       "18  {'model__criterion': 'entropy', 'model__max_features': 'auto', 'model__n_estimators': 260}   \n",
       "17  {'model__criterion': 'entropy', 'model__max_features': 'auto', 'model__n_estimators': 240}   \n",
       "13  {'model__criterion': 'entropy', 'model__max_features': 'auto', 'model__n_estimators': 160}   \n",
       "11  {'model__criterion': 'entropy', 'model__max_features': 'auto', 'model__n_estimators': 120}   \n",
       "12  {'model__criterion': 'entropy', 'model__max_features': 'auto', 'model__n_estimators': 140}   \n",
       "10  {'model__criterion': 'entropy', 'model__max_features': 'auto', 'model__n_estimators': 100}   \n",
       "\n",
       "    mean_train_score  mean_test_score  \n",
       "9           1.000000         0.906309  \n",
       "7           1.000000         0.906135  \n",
       "0           1.000000         0.906106  \n",
       "8           1.000000         0.906078  \n",
       "3           1.000000         0.906049  \n",
       "2           1.000000         0.906049  \n",
       "4           1.000000         0.905847  \n",
       "6           1.000000         0.905818  \n",
       "1           1.000000         0.905731  \n",
       "5           1.000000         0.905587  \n",
       "16          1.000000         0.905154  \n",
       "15          1.000000         0.905125  \n",
       "19          1.000000         0.904952  \n",
       "14          1.000000         0.904865  \n",
       "18          1.000000         0.904750  \n",
       "17          1.000000         0.904721  \n",
       "13          1.000000         0.904663  \n",
       "11          1.000000         0.904432  \n",
       "12          1.000000         0.904230  \n",
       "10          0.999997         0.904172  "
      ]
     },
     "execution_count": 25,
     "metadata": {},
     "output_type": "execute_result"
    }
   ],
   "source": [
    "model_01 = RandomForestClassifier(random_state=SEED)\n",
    "grid_parameters = {\n",
    "    \"n_estimators\": range(100, 300, 20),\n",
    "    \"criterion\": [\"gini\", \"entropy\"],\n",
    "    \n",
    "    \"max_features\": [\"auto\"],\n",
    "}\n",
    "\n",
    "grid_search_01, results_01 = train_and_search(model_01, grid_parameters, X_train, y_train, seed=SEED)\n",
    "results_01[['rank_test_score', 'params', 'mean_train_score', 'mean_test_score']].sort_values(['mean_test_score', 'mean_train_score'], ascending=False)"
   ]
  },
  {
   "cell_type": "code",
   "execution_count": 26,
   "metadata": {},
   "outputs": [
    {
     "data": {
      "image/png": "[encoded data removed]",
      "text/plain": [
       "<Figure size 432x288 with 1 Axes>"
      ]
     },
     "metadata": {
      "needs_background": "light"
     },
     "output_type": "display_data"
    },
    {
     "data": {
      "image/png": "[encoded data removed]",
      "text/plain": [
       "<Figure size 432x288 with 1 Axes>"
      ]
     },
     "metadata": {
      "needs_background": "light"
     },
     "output_type": "display_data"
    }
   ],
   "source": [
    "plot_results(grid_search_01, index='max_features', columns='criterion')\n",
    "plot_results(grid_search_01, index='n_estimators', columns='criterion')"
   ]
  },
  {
   "cell_type": "code",
   "execution_count": 27,
   "metadata": {},
   "outputs": [
    {
     "data": {
      "text/plain": [
       "{'criterion': 'gini', 'max_features': 'auto', 'n_estimators': 280}"
      ]
     },
     "execution_count": 27,
     "metadata": {},
     "output_type": "execute_result"
    }
   ],
   "source": [
    "best_params = handle_param_names(grid_search_01.best_params_)\n",
    "best_params"
   ]
  },
  {
   "cell_type": "code",
   "execution_count": 28,
   "metadata": {},
   "outputs": [],
   "source": [
    "X_train_resampled, y_train_resampled = rus.fit_resample(X_train, y_train)"
   ]
  },
  {
   "cell_type": "markdown",
   "metadata": {},
   "source": [
    "F1 Score in train set"
   ]
  },
  {
   "cell_type": "code",
   "execution_count": 29,
   "metadata": {},
   "outputs": [
    {
     "name": "stdout",
     "output_type": "stream",
     "text": [
      "1.0\n"
     ]
    },
    {
     "data": {
      "image/png": "[encoded data removed]",
      "text/plain": [
       "<Figure size 360x360 with 2 Axes>"
      ]
     },
     "metadata": {
      "needs_background": "light"
     },
     "output_type": "display_data"
    }
   ],
   "source": [
    "y_pred = grid_search_01.best_estimator_.predict(X_train_resampled)\n",
    "print(f1_score(y_train_resampled, y_pred, average='micro'))\n",
    "plot_cf_matrix(y_train_resampled, y_pred)"
   ]
  },
  {
   "cell_type": "markdown",
   "metadata": {},
   "source": [
    "F1 Score in test set"
   ]
  },
  {
   "cell_type": "code",
   "execution_count": 30,
   "metadata": {},
   "outputs": [
    {
     "name": "stdout",
     "output_type": "stream",
     "text": [
      "              precision    recall  f1-score   support\n",
      "\n",
      "           0       0.93      0.97      0.95      7701\n",
      "           1       0.64      0.42      0.51       958\n",
      "\n",
      "    accuracy                           0.91      8659\n",
      "   macro avg       0.79      0.70      0.73      8659\n",
      "weighted avg       0.90      0.91      0.90      8659\n",
      "\n",
      "0.9098048273472688\n"
     ]
    },
    {
     "data": {
      "image/png": "[encoded data removed]",
      "text/plain": [
       "<Figure size 360x360 with 2 Axes>"
      ]
     },
     "metadata": {
      "needs_background": "light"
     },
     "output_type": "display_data"
    }
   ],
   "source": [
    "from sklearn.metrics import classification_report\n",
    "\n",
    "y_pred = grid_search_01.best_estimator_.predict(X_test)\n",
    "print(classification_report(y_test, y_pred))\n",
    "print(f1_score(y_test, y_pred, average='micro'))\n",
    "plot_cf_matrix(y_test, y_pred)"
   ]
  },
  {
   "cell_type": "code",
   "execution_count": 31,
   "metadata": {},
   "outputs": [
    {
     "data": {
      "text/plain": [
       "-0.0006929206605843508"
      ]
     },
     "execution_count": 31,
     "metadata": {},
     "output_type": "execute_result"
    }
   ],
   "source": [
    "0.9091119066866844 - 0.9098048273472688"
   ]
  },
  {
   "cell_type": "code",
   "execution_count": 34,
   "metadata": {},
   "outputs": [],
   "source": [
    "pd.set_option('max_colwidth', 400)\n",
    "pd.set_option('display.max_rows', 500)"
   ]
  },
  {
   "cell_type": "code",
   "execution_count": 36,
   "metadata": {},
   "outputs": [
    {
     "data": {
      "text/plain": [
       "Index(['mean_fit_time', 'std_fit_time', 'mean_score_time', 'std_score_time',\n",
       "       'param_model__criterion', 'param_model__max_features',\n",
       "       'param_model__n_estimators', 'params', 'split0_test_score',\n",
       "       'split1_test_score', 'split2_test_score', 'split3_test_score',\n",
       "       'split4_test_score', 'split5_test_score', 'split6_test_score',\n",
       "       'split7_test_score', 'split8_test_score', 'split9_test_score',\n",
       "       'mean_test_score', 'std_test_score', 'rank_test_score',\n",
       "       'split0_train_score', 'split1_train_score', 'split2_train_score',\n",
       "       'split3_train_score', 'split4_train_score', 'split5_train_score',\n",
       "       'split6_train_score', 'split7_train_score', 'split8_train_score',\n",
       "       'split9_train_score', 'mean_train_score', 'std_train_score'],\n",
       "      dtype='object')"
      ]
     },
     "execution_count": 36,
     "metadata": {},
     "output_type": "execute_result"
    }
   ],
   "source": [
    "results_01"
   ]
  },
  {
   "cell_type": "code",
   "execution_count": null,
   "metadata": {},
   "outputs": [],
   "source": [
    "results_01"
   ]
  },
  {
   "cell_type": "code",
   "execution_count": 96,
   "metadata": {},
   "outputs": [],
   "source": [
    "def train_and_search(model, param_grid, X_train, y_train, metric=\"f1_micro\", seed=42, search_type=\"grid\", n_jobs=-1, verbose=10, \n",
    "                     sampler=None, folds=None, n_repeats=3):\n",
    "    if not folds:\n",
    "        folds=StratifiedKFold(n_splits=10, shuffle=True, random_state=seed) \n",
    "    # kf = KFold(n_splits=10, random_state=seed, shuffle=True) \n",
    "\n",
    "    # using a specif pipeline for unbalanced datasets and undersampling of the most frequent classes\n",
    "    imba_pipeline = Pipeline(steps=[\n",
    "                                    ('sampler', sampler),\n",
    "                                    ('model', model)\n",
    "                                ]\n",
    "                            )   \n",
    "\n",
    "    new_param_grid = {'model__' + key: param_grid[key] for key in param_grid}\n",
    "\n",
    "    # params = {\"estimator\": imba_pipeline,\n",
    "    params = {\"estimator\": imba_pipeline,\n",
    "              \"param_grid\": new_param_grid,\n",
    "              \"scoring\": metric,\n",
    "              \"n_jobs\": n_jobs,\n",
    "              \"verbose\": verbose,\n",
    "              \"return_train_score\": True,\n",
    "              \"cv\": folds\n",
    "            }\n",
    "\n",
    "    if search_type == \"grid\":\n",
    "        search = GridSearchCV(**params)\n",
    "    else:\n",
    "        search = RandomizedSearchCV(**params)\n",
    "    for train_ix, test_ix in search.cv.split(X_train, y_train):\n",
    "        model_obj = model(**params)\n",
    "        X_train_fold, X_val_fold = X_train[train_ix], X_train[test_ix]\n",
    "        y_train_fold, y_val_fold = y_train[train_ix], y_train[test_ix]\n",
    "        # summarize train and test composition\n",
    "        train_0, train_1 = len(y_train_fold[y_train_fold==0]), len(y_train_fold[y_train_fold==1])\n",
    "        val_0, val_1 = len(y_val_fold[y_val_fold==0]), len(y_val_fold[y_val_fold==1])\n",
    "        print('>After resampler - Train: 0=%d, 1=%d, Test: 0=%d, 1=%d' % (train_0, train_1, val_0, val_1))\n",
    "\n",
    "    # search.fit(X_train, y_train)\n",
    "    # print(f'Best parameters: {search.best_params_}')\n",
    "    # results = pd.DataFrame(search.cv_results_)\n",
    "    # return search, results"
   ]
  },
  {
   "cell_type": "code",
   "execution_count": 101,
   "metadata": {},
   "outputs": [
    {
     "name": "stdout",
     "output_type": "stream",
     "text": [
      "K-fold (0) >After resampler - Train: 0=27500, 1=3671, Test: 0=3056, 1=408\n",
      "K-fold (1) >After resampler - Train: 0=27500, 1=3671, Test: 0=3056, 1=408\n",
      "K-fold (2) >After resampler - Train: 0=27500, 1=3671, Test: 0=3056, 1=408\n",
      "K-fold (3) >After resampler - Train: 0=27500, 1=3671, Test: 0=3056, 1=408\n",
      "K-fold (4) >After resampler - Train: 0=27500, 1=3671, Test: 0=3056, 1=408\n",
      "K-fold (5) >After resampler - Train: 0=27500, 1=3672, Test: 0=3056, 1=407\n",
      "K-fold (6) >After resampler - Train: 0=27501, 1=3671, Test: 0=3055, 1=408\n",
      "K-fold (7) >After resampler - Train: 0=27501, 1=3671, Test: 0=3055, 1=408\n",
      "K-fold (8) >After resampler - Train: 0=27501, 1=3671, Test: 0=3055, 1=408\n",
      "K-fold (9) >After resampler - Train: 0=27501, 1=3671, Test: 0=3055, 1=408\n"
     ]
    }
   ],
   "source": [
    "folds=StratifiedKFold(n_splits=10, shuffle=True, random_state=SEED) \n",
    "imba_pipeline = Pipeline(steps=[\n",
    "                                    ('sampler', SMOTE(random_state=SEED) ),\n",
    "                                    ('model', RandomForestClassifier(random_state=SEED))\n",
    "                                ]\n",
    "                            )   \n",
    "\n",
    "param_grid = {\n",
    "    \"n_estimators\": [100, 300],\n",
    "    \"criterion\": [\"gini\"],\n",
    "    \"max_features\": [\"auto\"],\n",
    "}\n",
    "\n",
    "new_param_grid = {'model__' + key: param_grid[key] for key in param_grid}\n",
    "\n",
    "metric = 'f1_score'\n",
    "n_jobs = -1\n",
    "verbose = 10\n",
    "\n",
    "# params = {\"estimator\": imba_pipeline,\n",
    "params = {\"estimator\": imba_pipeline,\n",
    "            \"param_grid\": new_param_grid,\n",
    "            \"scoring\": metric,\n",
    "            \"n_jobs\": n_jobs,\n",
    "            \"verbose\": verbose,\n",
    "            \"return_train_score\": True,\n",
    "            \"cv\": folds\n",
    "        }\n",
    "\n",
    "search = GridSearchCV(**params)\n",
    "for index, (train_ix, test_ix) in enumerate(search.cv.split(X_train, y_train)):\n",
    "    X_train_fold, X_val_fold = X_train.iloc[train_ix], X_train.iloc[test_ix]\n",
    "    y_train_fold, y_val_fold = y_train.iloc[train_ix], y_train.iloc[test_ix]\n",
    "    # summarize train and test composition\n",
    "    train_0, train_1 = len(y_train_fold[y_train_fold==0]), len(y_train_fold[y_train_fold==1])\n",
    "    val_0, val_1 = len(y_val_fold[y_val_fold==0]), len(y_val_fold[y_val_fold==1])\n",
    "    print('K-fold (%d) >After resampler - Train: 0=%d, 1=%d, Test: 0=%d, 1=%d' % (index, train_0, train_1, val_0, val_1))\n",
    "search_space = tuple(product(grid_parameters[\"n_estimators\"], grid_parameters[\"criterion\"], grid_parameters[\"max_features\"]))\n",
    "scores_valid, params = [], []\n",
    "for n_estimators, criterion, max_features in tqdm(search_space, desc=\"Treinamento: \"):\n",
    "    clf = RandomForestClassifier(random_state=SEED)\n",
    "    cv = KFold(n_splits=10, random_state=SEED, shuffle=True)\n",
    "    steps = [('over', SMOTE()), ('model', clf)]\n",
    "    pipeline = Pipeline(steps=steps)\n",
    "    scores = cross_val_score(pipeline, X_train, y_train, scoring='f1_micro', cv=cv, n_jobs=-1)\n",
    "    print('Max f1: %.3f' % max(scores))\n",
    "\n",
    "    scores_valid.append(mean(scores))\n",
    "\n",
    "    params.append(dict(n_estimators=n_estimators, criterion=criterion,max_features=max_features\n",
    "                    ))\n",
    "\n",
    "# search.fit(X_train, y_train)\n",
    "# print(f'Best parameters: {search.best_params_}')\n",
    "# results = pd.DataFrame(search.cv_results_)\n",
    "# return search, results\n"
   ]
  },
  {
   "cell_type": "code",
   "execution_count": null,
   "metadata": {},
   "outputs": [],
   "source": [
    "grid_parameters = {\n",
    "    \"n_estimators\": [100, 300],\n",
    "    \"criterion\": [\"gini\"],\n",
    "    \"max_features\": [\"auto\"],\n",
    "}\n",
    "\n",
    "from numpy import mean\n",
    "from tqdm import tqdm \n",
    "from itertools import product\n",
    "\n",
    "def train_and_search(model, grid_parameters, X_train, y_train, seed=SEED):\n",
    "  search_space = tuple(product(grid_parameters[\"n_estimators\"], grid_parameters[\"criterion\"], grid_parameters[\"max_features\"]))\n",
    "  scores_valid, params = [], []\n",
    "  for n_estimators, criterion, max_features in tqdm(search_space, desc=\"Treinamento: \"):\n",
    "    clf = RandomForestClassifier(random_state=SEED)\n",
    "    cv = KFold(n_splits=10, random_state=SEED, shuffle=True)\n",
    "    steps = [('over', SMOTE()), ('model', clf)]\n",
    "    pipeline = Pipeline(steps=steps)\n",
    "    scores = cross_val_score(pipeline, X_train, y_train, scoring='f1_micro', cv=cv, n_jobs=-1)\n",
    "    print('Max f1: %.3f' % max(scores))\n",
    "\n",
    "    scores_valid.append(mean(scores))\n",
    "\n",
    "    params.append(dict(n_estimators=n_estimators, criterion=criterion,max_features=max_features\n",
    "                      ))"
   ]
  },
  {
   "cell_type": "code",
   "execution_count": 54,
   "metadata": {},
   "outputs": [
    {
     "name": "stdout",
     "output_type": "stream",
     "text": [
      "Quantidade de treinamentos que serão efetuados na validação:  20\n"
     ]
    }
   ],
   "source": [
    "print(\"Quantidade de treinamentos que serão efetuados na validação: \", len(search_space))"
   ]
  },
  {
   "cell_type": "code",
   "execution_count": 55,
   "metadata": {},
   "outputs": [
    {
     "name": "stdout",
     "output_type": "stream",
     "text": [
      "Mean f1_micro: 0.904\n"
     ]
    }
   ],
   "source": [
    "print('Mean f1_micro: %.3f' % mean(scores))"
   ]
  },
  {
   "cell_type": "code",
   "execution_count": 57,
   "metadata": {},
   "outputs": [
    {
     "name": "stdout",
     "output_type": "stream",
     "text": [
      "Melhores parâmetros:  {'n_estimators': 140, 'criterion': 'gini', 'max_features': 'auto'}\n",
      "Melhor score de validação:  0.9048071696902724\n"
     ]
    }
   ],
   "source": [
    "zipped_results = zip(scores, scores_valid, params)\n",
    "best_result =  max(zipped_results, key = lambda res: res[1])\n",
    "best_score_train, best_score_valid, best_params = best_result\n",
    "\n",
    "print(\"Melhores parâmetros: \", best_params)\n",
    "print(\"Melhor score de validação: \", best_score_valid)"
   ]
  },
  {
   "cell_type": "code",
   "execution_count": 61,
   "metadata": {},
   "outputs": [],
   "source": [
    "ros = SMOTE(random_state=SEED)\n",
    "X_train_resampled, y_train_resampled = ros.fit_resample(X_train, y_train)"
   ]
  },
  {
   "cell_type": "code",
   "execution_count": 62,
   "metadata": {},
   "outputs": [
    {
     "name": "stdout",
     "output_type": "stream",
     "text": [
      "Score de teste: 0.9078415521422797\n",
      "              precision    recall  f1-score   support\n",
      "\n",
      "           0       0.94      0.96      0.95      7701\n",
      "           1       0.60      0.48      0.54       958\n",
      "\n",
      "    accuracy                           0.91      8659\n",
      "   macro avg       0.77      0.72      0.74      8659\n",
      "weighted avg       0.90      0.91      0.90      8659\n",
      "\n"
     ]
    }
   ],
   "source": [
    "import pandas as pd\n",
    "from sklearn.metrics import classification_report, precision_score\n",
    "clf_final = RandomForestClassifier(**best_params,\n",
    "                               random_state=SEED)\n",
    "\n",
    "\n",
    "clf_final.fit(X_train_resampled, y_train_resampled)\n",
    "\n",
    "print(\"Score de teste:\", precision_score(y_test, clf_final.predict(X_test), average=\"micro\"))\n",
    "print(classification_report(y_test, clf_final.predict(X_test)))"
   ]
  },
  {
   "cell_type": "code",
   "execution_count": 63,
   "metadata": {},
   "outputs": [
    {
     "name": "stdout",
     "output_type": "stream",
     "text": [
      "              precision    recall  f1-score   support\n",
      "\n",
      "           0       0.94      0.96      0.95      7701\n",
      "           1       0.60      0.48      0.54       958\n",
      "\n",
      "    accuracy                           0.91      8659\n",
      "   macro avg       0.77      0.72      0.74      8659\n",
      "weighted avg       0.90      0.91      0.90      8659\n",
      "\n",
      "0.9078415521422797\n"
     ]
    },
    {
     "data": {
      "image/png": "[encoded data removed]",
      "text/plain": [
       "<Figure size 360x360 with 2 Axes>"
      ]
     },
     "metadata": {
      "needs_background": "light"
     },
     "output_type": "display_data"
    }
   ],
   "source": [
    "from sklearn.metrics import classification_report\n",
    "\n",
    "y_pred = clf_final.predict(X_test)\n",
    "print(classification_report(y_test, y_pred))\n",
    "print(f1_score(y_test, y_pred, average='micro'))\n",
    "plot_cf_matrix(y_test, y_pred)"
   ]
  },
  {
   "cell_type": "code",
   "execution_count": null,
   "metadata": {},
   "outputs": [],
   "source": [
    "0.9091119066866844 - 0.9098048273472688 0.906455710821111 0.9078415521422797"
   ]
  },
  {
   "cell_type": "code",
   "execution_count": 116,
   "metadata": {},
   "outputs": [
    {
     "name": "stderr",
     "output_type": "stream",
     "text": [
      "Treinamento: 100%|██████████| 3/3 [00:00<?, ?it/s]"
     ]
    },
    {
     "name": "stdout",
     "output_type": "stream",
     "text": [
      "('n_estimators',)\n",
      "('criterion',)\n",
      "('max_features',)\n"
     ]
    },
    {
     "name": "stderr",
     "output_type": "stream",
     "text": [
      "\n"
     ]
    }
   ],
   "source": [
    "params_combination = {\n",
    "    \"n_estimators\": [100, 300],\n",
    "    \"criterion\": [\"gini\"],\n",
    "    \"max_features\": [\"auto\"],\n",
    "}\n",
    "search_space = tuple(product(params_combination))\n",
    "for teste in tqdm(search_space, desc=\"Treinamento: \"):\n",
    "    print(teste)"
   ]
  },
  {
   "cell_type": "code",
   "execution_count": 122,
   "metadata": {},
   "outputs": [],
   "source": [
    "from sklearn.base import clone\n",
    "\n",
    "def score_model(model, X_train, y_train, params, cv=None, sampler=None, seed=42):\n",
    "    if cv is None:\n",
    "        cv = KFold(n_splits=10, random_state=seed, shuffle=True)\n",
    "\n",
    "    if sampler is None:\n",
    "        sampler = SMOTE(random_state=seed)\n",
    "    \n",
    "    results = pd.DataFrame([])\n",
    "    search_space = tuple(product(params_combination.values())\n",
    "    for experiment_id, params in enumerate(tqdm(search_space, desc=\"Treinamento: \")):\n",
    "        # params = dict(n_estimators=n_estimators, criterion=criterion,max_features=max_features)\n",
    "        for kf_index, (train_ix, valid_ix) in enumerate(cv.split(X_train, y_train)):\n",
    "            print(params)\n",
    "            model_obj = model(random_state=SEED, **params)\n",
    "            X_train_fold, X_val_fold = X_train[train_ix], X_train[valid_ix]\n",
    "            y_train_fold, y_val_fold = y_train[train_ix], y_train[valid_ix]\n",
    "            # summarize train and test composition\n",
    "            train_0, train_1 = len(y_train_fold[y_train_fold==0]), len(y_train_fold[y_train_fold==1])\n",
    "            val_0, val_1 = len(y_val_fold[y_val_fold==0]), len(y_val_fold[y_val_fold==1])\n",
    "            print('K-fold (%d) >Before resampler - Train: 0=%d, 1=%d, Test: 0=%d, 1=%d' % (kf_index, train_0, train_1, val_0, val_1))\n",
    "            X_train_fold_resampled, y_train_fold_resampled = sampler.fit_resample(X_train_fold, y_train_fold)\n",
    "            train_0_resampled, train_1_resampled = len(y_train_fold_resampled[y_train_fold_resampled==0]), len(y_train_fold_resampled[y_train_fold_resampled==1])\n",
    "            print('K-fold (%d) >After resampler - Train: 0=%d, 1=%d, Test: 0=%d, 1=%d' % (kf_index, train_0_resampled, train_1_resampled, val_0, val_1))\n",
    "            model_obj.fit(X_train_fold_resampled, y_train_fold_resampled)\n",
    "            train_score = f1_score(y_train_fold_resampled, model_obj.predict(X_train_fold_resampled))\n",
    "            val_score = f1_score(y_val_fold, model_obj.predict(X_val_fold))\n",
    "            print('Train Score: %.3f' % train_score)\n",
    "            print('Val Score: %.3f' % val_score)\n",
    "            results.append({\"experiment_id\": experiment_id, \"params\": params, \"kfold\": kf_index, \"train_score\": train_score, \"val_score\": val_score})\n",
    "        print('Max Val Score: %.3f' % results[results[\"experiment_id\"] == experiment_id][val_score].max())\n",
    "    return np.array(scores)\n"
   ]
  },
  {
   "cell_type": "code",
   "execution_count": 123,
   "metadata": {},
   "outputs": [
    {
     "name": "stderr",
     "output_type": "stream",
     "text": [
      "Treinamento:   0%|          | 0/2 [00:00<?, ?it/s]"
     ]
    },
    {
     "name": "stdout",
     "output_type": "stream",
     "text": [
      "(100, 'gini', 'auto')\n"
     ]
    },
    {
     "name": "stderr",
     "output_type": "stream",
     "text": [
      "\n"
     ]
    },
    {
     "ename": "TypeError",
     "evalue": "ABCMeta object argument after ** must be a mapping, not tuple",
     "output_type": "error",
     "traceback": [
      "\u001b[1;31m---------------------------------------------------------------------------\u001b[0m",
      "\u001b[1;31mTypeError\u001b[0m                                 Traceback (most recent call last)",
      "\u001b[1;32md:\\Projetos\\modelos\\projeto\\notebooks\\example using bank dataset.ipynb Cell 56'\u001b[0m in \u001b[0;36m<module>\u001b[1;34m\u001b[0m\n\u001b[0;32m      <a href='vscode-notebook-cell:/d%3A/Projetos/modelos/projeto/notebooks/example%20using%20bank%20dataset.ipynb#ch0000084?line=0'>1</a>\u001b[0m model_01 \u001b[39m=\u001b[39m RandomForestClassifier\n\u001b[0;32m      <a href='vscode-notebook-cell:/d%3A/Projetos/modelos/projeto/notebooks/example%20using%20bank%20dataset.ipynb#ch0000084?line=1'>2</a>\u001b[0m grid_parameters \u001b[39m=\u001b[39m {\n\u001b[0;32m      <a href='vscode-notebook-cell:/d%3A/Projetos/modelos/projeto/notebooks/example%20using%20bank%20dataset.ipynb#ch0000084?line=2'>3</a>\u001b[0m     \u001b[39m\"\u001b[39m\u001b[39mn_estimators\u001b[39m\u001b[39m\"\u001b[39m: \u001b[39mrange\u001b[39m(\u001b[39m100\u001b[39m, \u001b[39m300\u001b[39m, \u001b[39m20\u001b[39m),\n\u001b[0;32m      <a href='vscode-notebook-cell:/d%3A/Projetos/modelos/projeto/notebooks/example%20using%20bank%20dataset.ipynb#ch0000084?line=3'>4</a>\u001b[0m     \u001b[39m\"\u001b[39m\u001b[39mcriterion\u001b[39m\u001b[39m\"\u001b[39m: [\u001b[39m\"\u001b[39m\u001b[39mgini\u001b[39m\u001b[39m\"\u001b[39m, \u001b[39m\"\u001b[39m\u001b[39mentropy\u001b[39m\u001b[39m\"\u001b[39m],\n\u001b[0;32m      <a href='vscode-notebook-cell:/d%3A/Projetos/modelos/projeto/notebooks/example%20using%20bank%20dataset.ipynb#ch0000084?line=4'>5</a>\u001b[0m     \u001b[39m\"\u001b[39m\u001b[39mmax_features\u001b[39m\u001b[39m\"\u001b[39m: [\u001b[39m\"\u001b[39m\u001b[39mauto\u001b[39m\u001b[39m\"\u001b[39m],\n\u001b[0;32m      <a href='vscode-notebook-cell:/d%3A/Projetos/modelos/projeto/notebooks/example%20using%20bank%20dataset.ipynb#ch0000084?line=5'>6</a>\u001b[0m }\n\u001b[1;32m----> <a href='vscode-notebook-cell:/d%3A/Projetos/modelos/projeto/notebooks/example%20using%20bank%20dataset.ipynb#ch0000084?line=6'>7</a>\u001b[0m score_model(model_01, X_train\u001b[39m.\u001b[39;49mvalues, y_train\u001b[39m.\u001b[39;49mvalues, grid_parameters, seed\u001b[39m=\u001b[39;49mSEED)\n",
      "\u001b[1;32md:\\Projetos\\modelos\\projeto\\notebooks\\example using bank dataset.ipynb Cell 55'\u001b[0m in \u001b[0;36mscore_model\u001b[1;34m(model, X_train, y_train, params, cv, sampler, seed)\u001b[0m\n\u001b[0;32m     <a href='vscode-notebook-cell:/d%3A/Projetos/modelos/projeto/notebooks/example%20using%20bank%20dataset.ipynb#ch0000081?line=14'>15</a>\u001b[0m \u001b[39mfor\u001b[39;00m kf_index, (train_ix, valid_ix) \u001b[39min\u001b[39;00m \u001b[39menumerate\u001b[39m(cv\u001b[39m.\u001b[39msplit(X_train, y_train)):\n\u001b[0;32m     <a href='vscode-notebook-cell:/d%3A/Projetos/modelos/projeto/notebooks/example%20using%20bank%20dataset.ipynb#ch0000081?line=15'>16</a>\u001b[0m     \u001b[39mprint\u001b[39m(params)\n\u001b[1;32m---> <a href='vscode-notebook-cell:/d%3A/Projetos/modelos/projeto/notebooks/example%20using%20bank%20dataset.ipynb#ch0000081?line=16'>17</a>\u001b[0m     model_obj \u001b[39m=\u001b[39m model(random_state\u001b[39m=\u001b[39mSEED, \u001b[39m*\u001b[39m\u001b[39m*\u001b[39mparams)\n\u001b[0;32m     <a href='vscode-notebook-cell:/d%3A/Projetos/modelos/projeto/notebooks/example%20using%20bank%20dataset.ipynb#ch0000081?line=17'>18</a>\u001b[0m     X_train_fold, X_val_fold \u001b[39m=\u001b[39m X_train[train_ix], X_train[valid_ix]\n\u001b[0;32m     <a href='vscode-notebook-cell:/d%3A/Projetos/modelos/projeto/notebooks/example%20using%20bank%20dataset.ipynb#ch0000081?line=18'>19</a>\u001b[0m     y_train_fold, y_val_fold \u001b[39m=\u001b[39m y_train[train_ix], y_train[valid_ix]\n",
      "\u001b[1;31mTypeError\u001b[0m: ABCMeta object argument after ** must be a mapping, not tuple"
     ]
    }
   ],
   "source": [
    "model_01 = RandomForestClassifier\n",
    "grid_parameters = {\n",
    "    \"n_estimators\": range(100, 300, 20),\n",
    "    \"criterion\": [\"gini\", \"entropy\"],\n",
    "    \"max_features\": [\"auto\"],\n",
    "}\n",
    "score_model(model_01, X_train.values, y_train.values, grid_parameters, seed=SEED)"
   ]
  },
  {
   "cell_type": "code",
   "execution_count": 125,
   "metadata": {},
   "outputs": [
    {
     "data": {
      "text/plain": [
       "((range(100, 300, 20),), (['gini', 'entropy'],), (['auto'],))"
      ]
     },
     "execution_count": 125,
     "metadata": {},
     "output_type": "execute_result"
    }
   ],
   "source": [
    " tuple(product(grid_parameters.values()))"
   ]
  },
  {
   "cell_type": "code",
   "execution_count": null,
   "metadata": {},
   "outputs": [],
   "source": []
  }
 ],
 "metadata": {
  "interpreter": {
   "hash": "0d8aee86fee2b3ba25d32dc9f725c5d414dda3463734cf4a34eb13ce0a97930c"
  },
  "kernelspec": {
   "display_name": "Python 3.8.0 ('pos')",
   "language": "python",
   "name": "python3"
  },
  "language_info": {
   "codemirror_mode": {
    "name": "ipython",
    "version": 3
   },
   "file_extension": ".py",
   "mimetype": "text/x-python",
   "name": "python",
   "nbconvert_exporter": "python",
   "pygments_lexer": "ipython3",
   "version": "3.8.0"
  },
  "orig_nbformat": 4
 },
 "nbformat": 4,
 "nbformat_minor": 2
}
