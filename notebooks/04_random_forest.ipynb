{
 "cells": [
  {
   "cell_type": "markdown",
   "id": "26dab697",
   "metadata": {},
   "source": [
    "# Random Forest\n"
   ]
  },
  {
   "cell_type": "markdown",
   "id": "a52ded64",
   "metadata": {},
   "source": [
    "# Imports"
   ]
  },
  {
   "cell_type": "code",
   "execution_count": 1,
   "id": "bb34ebe7",
   "metadata": {},
   "outputs": [],
   "source": [
    "import pandas as pd\n",
    "import numpy as np\n",
    "from scipy.stats import randint\n",
    "\n",
    "from joblib import dump\n",
    "from tqdm import tqdm \n",
    "from itertools import product\n",
    "\n",
    "from sklearn.model_selection import StratifiedKFold, cross_val_score, train_test_split\n",
    "from sklearn.metrics import classification_report, ConfusionMatrixDisplay, precision_score\n",
    "from imblearn.pipeline import Pipeline\n",
    "from sklearn.ensemble import RandomForestClassifier\n",
    "\n",
    "\n",
    "from imblearn.over_sampling import RandomOverSampler\n",
    "from imblearn.under_sampling import RepeatedEditedNearestNeighbours\n",
    "from sklearn.preprocessing import MinMaxScaler\n",
    "\n",
    "import matplotlib.pyplot as plt"
   ]
  },
  {
   "cell_type": "markdown",
   "id": "f0ee1f1f",
   "metadata": {},
   "source": [
    "# Loading the dataset"
   ]
  },
  {
   "cell_type": "code",
   "execution_count": 2,
   "id": "58ad00b3",
   "metadata": {},
   "outputs": [],
   "source": [
    "df = pd.read_csv('../dataset/bank-preprocessed.csv')"
   ]
  },
  {
   "cell_type": "code",
   "execution_count": 3,
   "id": "fa0c56fb",
   "metadata": {},
   "outputs": [
    {
     "data": {
      "text/plain": [
       "0    38257\n",
       "1     5037\n",
       "Name: y, dtype: int64"
      ]
     },
     "execution_count": 3,
     "metadata": {},
     "output_type": "execute_result"
    }
   ],
   "source": [
    "df['y'].value_counts()"
   ]
  },
  {
   "cell_type": "markdown",
   "id": "cd7412a0",
   "metadata": {},
   "source": [
    "# Splitting data into training and testing"
   ]
  },
  {
   "cell_type": "code",
   "execution_count": 4,
   "id": "f93bd17f",
   "metadata": {},
   "outputs": [],
   "source": [
    "# Data description oriented to remove the \"duration\" column to create more realistic models\n",
    "\n",
    "X = df.drop([\"y\", \"duration\"], axis = 1)\n",
    "y = df[\"y\"]"
   ]
  },
  {
   "cell_type": "code",
   "execution_count": 5,
   "id": "46d7ea50",
   "metadata": {},
   "outputs": [],
   "source": [
    "SEED = 42\n",
    "\n",
    "X_train, X_test, y_train, y_test = train_test_split(X, y, test_size = 0.20, random_state = SEED, stratify=y)"
   ]
  },
  {
   "cell_type": "markdown",
   "id": "9b880476",
   "metadata": {},
   "source": [
    "# Validating the model"
   ]
  },
  {
   "cell_type": "code",
   "execution_count": 6,
   "id": "89b9e4d2",
   "metadata": {},
   "outputs": [
    {
     "data": {
      "text/plain": [
       "RandomForestClassifier(random_state=42)"
      ]
     },
     "execution_count": 6,
     "metadata": {},
     "output_type": "execute_result"
    }
   ],
   "source": [
    "model = RandomForestClassifier(random_state=SEED)\n",
    "model.fit(X_train, y_train)"
   ]
  },
  {
   "cell_type": "code",
   "execution_count": 7,
   "id": "cabc9915",
   "metadata": {},
   "outputs": [
    {
     "name": "stdout",
     "output_type": "stream",
     "text": [
      "              precision    recall  f1-score   support\n",
      "\n",
      "           0       0.91      0.98      0.94      7652\n",
      "           1       0.61      0.22      0.32      1007\n",
      "\n",
      "    accuracy                           0.89      8659\n",
      "   macro avg       0.76      0.60      0.63      8659\n",
      "weighted avg       0.87      0.89      0.87      8659\n",
      "\n"
     ]
    }
   ],
   "source": [
    "print(classification_report(y_test, model.predict(X_test)))"
   ]
  },
  {
   "cell_type": "code",
   "execution_count": 8,
   "id": "fa429175",
   "metadata": {},
   "outputs": [
    {
     "data": {
      "text/plain": [
       "<sklearn.metrics._plot.confusion_matrix.ConfusionMatrixDisplay at 0x2c2780cf4c0>"
      ]
     },
     "execution_count": 8,
     "metadata": {},
     "output_type": "execute_result"
    },
    {
     "data": {
      "image/png": "[encoded data removed]",
      "text/plain": [
       "<Figure size 432x288 with 2 Axes>"
      ]
     },
     "metadata": {
      "needs_background": "light"
     },
     "output_type": "display_data"
    }
   ],
   "source": [
    "ConfusionMatrixDisplay.from_estimator(model, X_test, y_test, cmap='Blues', values_format='d')"
   ]
  },
  {
   "cell_type": "markdown",
   "id": "9b22d33d",
   "metadata": {},
   "source": [
    "### Parameters"
   ]
  },
  {
   "cell_type": "code",
   "execution_count": 9,
   "id": "04f3a3e9",
   "metadata": {},
   "outputs": [],
   "source": [
    "n_estimators = list(range(10, 400, 20))\n",
    "criterions = [\"gini\", \"entropy\"]\n",
    "max_features = [\"sqrt\", \"auto\", \"log2\"]"
   ]
  },
  {
   "cell_type": "code",
   "execution_count": 10,
   "id": "8ac5ebdf",
   "metadata": {},
   "outputs": [
    {
     "name": "stdout",
     "output_type": "stream",
     "text": [
      "Amount of training sets that will be validate:  120\n"
     ]
    }
   ],
   "source": [
    "search_space = tuple(product(n_estimators, criterions, max_features))\n",
    "\n",
    "print(\"Amount of training sets that will be validate: \", len(search_space))"
   ]
  },
  {
   "cell_type": "markdown",
   "id": "ee69dd70",
   "metadata": {},
   "source": [
    "Cross validation with k=10."
   ]
  },
  {
   "cell_type": "code",
   "execution_count": 11,
   "id": "72db6dc5",
   "metadata": {},
   "outputs": [],
   "source": [
    "def search_cross_valid(search_space, X_train, y_train, SEED=42):\n",
    "    scores_test, scores_valid, params = [], [], []\n",
    "\n",
    "    for n_est, crt, max_f in tqdm(search_space, desc=\"Treinamento: \"):\n",
    "        model = RandomForestClassifier(n_estimators=n_est, criterion=crt, max_features=max_f, random_state=SEED)\n",
    "\n",
    "        cv = StratifiedKFold(n_splits=10, random_state=SEED, shuffle=True)\n",
    "\n",
    "        steps = [('model', model)]\n",
    "        pipeline = Pipeline(steps=steps)\n",
    "\n",
    "        scores = cross_val_score(pipeline, X_train, y_train, scoring='f1_micro', cv=cv, n_jobs=-1)\n",
    "        \n",
    "        model.fit(X_train, y_train)\n",
    "        score_test = precision_score(y_test, model.predict(X_test), average=\"micro\")\n",
    "        \n",
    "        print('Mean f1: %.3f' % np.mean(scores))\n",
    "        print('Accuracy test: %.3f' % score_test)\n",
    "\n",
    "        parm = dict(n_estimators=n_est, criterion=crt, max_features=max_f)\n",
    "\n",
    "        print(\"Parameters: \", parm)\n",
    "        print(\"Score of validation: \", np.mean(scores))\n",
    "\n",
    "        scores_valid.append(np.mean(scores))\n",
    "        scores_test.append(score_test)\n",
    "        params.append(parm)\n",
    "\n",
    "    zipped_results = zip(scores_test, scores_valid, params)\n",
    "    best_result =  max(zipped_results, key = lambda res: res[1])\n",
    "    best_score_test, best_score_valid, best_params = best_result\n",
    "\n",
    "    print('------------------------------')\n",
    "    print(\"Best parameters: \", best_params)\n",
    "    print(\"Best validation score: \", best_score_valid)\n",
    "    print(\"Best validation score: \", best_score_test)\n",
    "    \n",
    "    return scores_test, best_score_test, scores_valid, best_score_valid, params, best_params"
   ]
  },
  {
   "cell_type": "code",
   "execution_count": 12,
   "id": "b6bab090",
   "metadata": {},
   "outputs": [
    {
     "name": "stderr",
     "output_type": "stream",
     "text": [
      "Treinamento:   1%|          | 1/120 [00:03<06:43,  3.39s/it]"
     ]
    },
    {
     "name": "stdout",
     "output_type": "stream",
     "text": [
      "Mean f1: 0.890\n",
      "Accuracy test: 0.888\n",
      "Parameters:  {'n_estimators': 10, 'criterion': 'gini', 'max_features': 'sqrt'}\n",
      "Score of validation:  0.8898222232522095\n"
     ]
    },
    {
     "name": "stderr",
     "output_type": "stream",
     "text": [
      "\r",
      "Treinamento:   2%|▏         | 2/120 [00:05<05:28,  2.78s/it]"
     ]
    },
    {
     "name": "stdout",
     "output_type": "stream",
     "text": [
      "Mean f1: 0.890\n",
      "Accuracy test: 0.888\n",
      "Parameters:  {'n_estimators': 10, 'criterion': 'gini', 'max_features': 'auto'}\n",
      "Score of validation:  0.8898222232522095\n"
     ]
    },
    {
     "name": "stderr",
     "output_type": "stream",
     "text": [
      "\r",
      "Treinamento:   2%|▎         | 3/120 [00:07<04:12,  2.15s/it]"
     ]
    },
    {
     "name": "stdout",
     "output_type": "stream",
     "text": [
      "Mean f1: 0.891\n",
      "Accuracy test: 0.888\n",
      "Parameters:  {'n_estimators': 10, 'criterion': 'gini', 'max_features': 'log2'}\n",
      "Score of validation:  0.8905730173613635\n"
     ]
    },
    {
     "name": "stderr",
     "output_type": "stream",
     "text": [
      "\r",
      "Treinamento:   3%|▎         | 4/120 [00:08<03:46,  1.95s/it]"
     ]
    },
    {
     "name": "stdout",
     "output_type": "stream",
     "text": [
      "Mean f1: 0.890\n",
      "Accuracy test: 0.890\n",
      "Parameters:  {'n_estimators': 10, 'criterion': 'entropy', 'max_features': 'sqrt'}\n",
      "Score of validation:  0.890428675559978\n"
     ]
    },
    {
     "name": "stderr",
     "output_type": "stream",
     "text": [
      "\r",
      "Treinamento:   4%|▍         | 5/120 [00:10<03:30,  1.83s/it]"
     ]
    },
    {
     "name": "stdout",
     "output_type": "stream",
     "text": [
      "Mean f1: 0.890\n",
      "Accuracy test: 0.890\n",
      "Parameters:  {'n_estimators': 10, 'criterion': 'entropy', 'max_features': 'auto'}\n",
      "Score of validation:  0.890428675559978\n"
     ]
    },
    {
     "name": "stderr",
     "output_type": "stream",
     "text": [
      "\r",
      "Treinamento:   5%|▌         | 6/120 [00:11<03:15,  1.71s/it]"
     ]
    },
    {
     "name": "stdout",
     "output_type": "stream",
     "text": [
      "Mean f1: 0.891\n",
      "Accuracy test: 0.889\n",
      "Parameters:  {'n_estimators': 10, 'criterion': 'entropy', 'max_features': 'log2'}\n",
      "Score of validation:  0.8910060010843767\n"
     ]
    },
    {
     "name": "stderr",
     "output_type": "stream",
     "text": [
      "\r",
      "Treinamento:   6%|▌         | 7/120 [00:15<04:22,  2.32s/it]"
     ]
    },
    {
     "name": "stdout",
     "output_type": "stream",
     "text": [
      "Mean f1: 0.893\n",
      "Accuracy test: 0.891\n",
      "Parameters:  {'n_estimators': 30, 'criterion': 'gini', 'max_features': 'sqrt'}\n",
      "Score of validation:  0.8928827946239993\n"
     ]
    },
    {
     "name": "stderr",
     "output_type": "stream",
     "text": [
      "\r",
      "Treinamento:   7%|▋         | 8/120 [00:19<05:14,  2.80s/it]"
     ]
    },
    {
     "name": "stdout",
     "output_type": "stream",
     "text": [
      "Mean f1: 0.893\n",
      "Accuracy test: 0.891\n",
      "Parameters:  {'n_estimators': 30, 'criterion': 'gini', 'max_features': 'auto'}\n",
      "Score of validation:  0.8928827946239993\n"
     ]
    },
    {
     "name": "stderr",
     "output_type": "stream",
     "text": [
      "\r",
      "Treinamento:   8%|▊         | 9/120 [00:22<05:38,  3.05s/it]"
     ]
    },
    {
     "name": "stdout",
     "output_type": "stream",
     "text": [
      "Mean f1: 0.894\n",
      "Accuracy test: 0.890\n",
      "Parameters:  {'n_estimators': 30, 'criterion': 'gini', 'max_features': 'log2'}\n",
      "Score of validation:  0.8936046203381307\n"
     ]
    },
    {
     "name": "stderr",
     "output_type": "stream",
     "text": [
      "\r",
      "Treinamento:   8%|▊         | 10/120 [00:26<06:03,  3.30s/it]"
     ]
    },
    {
     "name": "stdout",
     "output_type": "stream",
     "text": [
      "Mean f1: 0.894\n",
      "Accuracy test: 0.888\n",
      "Parameters:  {'n_estimators': 30, 'criterion': 'entropy', 'max_features': 'sqrt'}\n",
      "Score of validation:  0.893806573816639\n"
     ]
    },
    {
     "name": "stderr",
     "output_type": "stream",
     "text": [
      "\r",
      "Treinamento:   9%|▉         | 11/120 [00:30<06:22,  3.51s/it]"
     ]
    },
    {
     "name": "stdout",
     "output_type": "stream",
     "text": [
      "Mean f1: 0.894\n",
      "Accuracy test: 0.888\n",
      "Parameters:  {'n_estimators': 30, 'criterion': 'entropy', 'max_features': 'auto'}\n",
      "Score of validation:  0.893806573816639\n"
     ]
    },
    {
     "name": "stderr",
     "output_type": "stream",
     "text": [
      "\r",
      "Treinamento:  10%|█         | 12/120 [00:34<06:25,  3.57s/it]"
     ]
    },
    {
     "name": "stdout",
     "output_type": "stream",
     "text": [
      "Mean f1: 0.894\n",
      "Accuracy test: 0.890\n",
      "Parameters:  {'n_estimators': 30, 'criterion': 'entropy', 'max_features': 'log2'}\n",
      "Score of validation:  0.8940375707162289\n"
     ]
    },
    {
     "name": "stderr",
     "output_type": "stream",
     "text": [
      "\r",
      "Treinamento:  11%|█         | 13/120 [00:40<07:38,  4.29s/it]"
     ]
    },
    {
     "name": "stdout",
     "output_type": "stream",
     "text": [
      "Mean f1: 0.893\n",
      "Accuracy test: 0.892\n",
      "Parameters:  {'n_estimators': 50, 'criterion': 'gini', 'max_features': 'sqrt'}\n",
      "Score of validation:  0.8930848564734818\n"
     ]
    },
    {
     "name": "stderr",
     "output_type": "stream",
     "text": [
      "\r",
      "Treinamento:  12%|█▏        | 14/120 [00:46<08:23,  4.75s/it]"
     ]
    },
    {
     "name": "stdout",
     "output_type": "stream",
     "text": [
      "Mean f1: 0.893\n",
      "Accuracy test: 0.892\n",
      "Parameters:  {'n_estimators': 50, 'criterion': 'gini', 'max_features': 'auto'}\n",
      "Score of validation:  0.8930848564734818\n"
     ]
    },
    {
     "name": "stderr",
     "output_type": "stream",
     "text": [
      "\r",
      "Treinamento:  12%|█▎        | 15/120 [00:51<08:28,  4.84s/it]"
     ]
    },
    {
     "name": "stdout",
     "output_type": "stream",
     "text": [
      "Mean f1: 0.894\n",
      "Accuracy test: 0.890\n",
      "Parameters:  {'n_estimators': 50, 'criterion': 'gini', 'max_features': 'log2'}\n",
      "Score of validation:  0.8941243091767207\n"
     ]
    },
    {
     "name": "stderr",
     "output_type": "stream",
     "text": [
      "\r",
      "Treinamento:  13%|█▎        | 16/120 [00:57<09:02,  5.22s/it]"
     ]
    },
    {
     "name": "stdout",
     "output_type": "stream",
     "text": [
      "Mean f1: 0.894\n",
      "Accuracy test: 0.891\n",
      "Parameters:  {'n_estimators': 50, 'criterion': 'entropy', 'max_features': 'sqrt'}\n",
      "Score of validation:  0.8936045453120716\n"
     ]
    },
    {
     "name": "stderr",
     "output_type": "stream",
     "text": [
      "\r",
      "Treinamento:  14%|█▍        | 17/120 [01:03<09:29,  5.53s/it]"
     ]
    },
    {
     "name": "stdout",
     "output_type": "stream",
     "text": [
      "Mean f1: 0.894\n",
      "Accuracy test: 0.891\n",
      "Parameters:  {'n_estimators': 50, 'criterion': 'entropy', 'max_features': 'auto'}\n",
      "Score of validation:  0.8936045453120716\n"
     ]
    },
    {
     "name": "stderr",
     "output_type": "stream",
     "text": [
      "\r",
      "Treinamento:  15%|█▌        | 18/120 [01:09<09:32,  5.61s/it]"
     ]
    },
    {
     "name": "stdout",
     "output_type": "stream",
     "text": [
      "Mean f1: 0.894\n",
      "Accuracy test: 0.890\n",
      "Parameters:  {'n_estimators': 50, 'criterion': 'entropy', 'max_features': 'log2'}\n",
      "Score of validation:  0.8944418111223966\n"
     ]
    },
    {
     "name": "stderr",
     "output_type": "stream",
     "text": [
      "\r",
      "Treinamento:  16%|█▌        | 19/120 [01:17<10:38,  6.32s/it]"
     ]
    },
    {
     "name": "stdout",
     "output_type": "stream",
     "text": [
      "Mean f1: 0.894\n",
      "Accuracy test: 0.893\n",
      "Parameters:  {'n_estimators': 70, 'criterion': 'gini', 'max_features': 'sqrt'}\n",
      "Score of validation:  0.894239757609143\n"
     ]
    },
    {
     "name": "stderr",
     "output_type": "stream",
     "text": [
      "\r",
      "Treinamento:  17%|█▋        | 20/120 [01:25<11:12,  6.73s/it]"
     ]
    },
    {
     "name": "stdout",
     "output_type": "stream",
     "text": [
      "Mean f1: 0.894\n",
      "Accuracy test: 0.893\n",
      "Parameters:  {'n_estimators': 70, 'criterion': 'gini', 'max_features': 'auto'}\n",
      "Score of validation:  0.894239757609143\n"
     ]
    },
    {
     "name": "stderr",
     "output_type": "stream",
     "text": [
      "\r",
      "Treinamento:  18%|█▊        | 21/120 [01:32<11:28,  6.96s/it]"
     ]
    },
    {
     "name": "stdout",
     "output_type": "stream",
     "text": [
      "Mean f1: 0.895\n",
      "Accuracy test: 0.890\n",
      "Parameters:  {'n_estimators': 70, 'criterion': 'gini', 'max_features': 'log2'}\n",
      "Score of validation:  0.894759438111504\n"
     ]
    },
    {
     "name": "stderr",
     "output_type": "stream",
     "text": [
      "\r",
      "Treinamento:  18%|█▊        | 22/120 [01:41<12:07,  7.42s/it]"
     ]
    },
    {
     "name": "stdout",
     "output_type": "stream",
     "text": [
      "Mean f1: 0.894\n",
      "Accuracy test: 0.891\n",
      "Parameters:  {'n_estimators': 70, 'criterion': 'entropy', 'max_features': 'sqrt'}\n",
      "Score of validation:  0.8944417777774814\n"
     ]
    },
    {
     "name": "stderr",
     "output_type": "stream",
     "text": [
      "\r",
      "Treinamento:  19%|█▉        | 23/120 [01:51<13:26,  8.31s/it]"
     ]
    },
    {
     "name": "stdout",
     "output_type": "stream",
     "text": [
      "Mean f1: 0.894\n",
      "Accuracy test: 0.891\n",
      "Parameters:  {'n_estimators': 70, 'criterion': 'entropy', 'max_features': 'auto'}\n",
      "Score of validation:  0.8944417777774814\n"
     ]
    },
    {
     "name": "stderr",
     "output_type": "stream",
     "text": [
      "\r",
      "Treinamento:  20%|██        | 24/120 [02:00<13:52,  8.68s/it]"
     ]
    },
    {
     "name": "stdout",
     "output_type": "stream",
     "text": [
      "Mean f1: 0.895\n",
      "Accuracy test: 0.891\n",
      "Parameters:  {'n_estimators': 70, 'criterion': 'entropy', 'max_features': 'log2'}\n",
      "Score of validation:  0.8947882814630947\n"
     ]
    },
    {
     "name": "stderr",
     "output_type": "stream",
     "text": [
      "\r",
      "Treinamento:  21%|██        | 25/120 [02:12<15:01,  9.49s/it]"
     ]
    },
    {
     "name": "stdout",
     "output_type": "stream",
     "text": [
      "Mean f1: 0.894\n",
      "Accuracy test: 0.893\n",
      "Parameters:  {'n_estimators': 90, 'criterion': 'gini', 'max_features': 'sqrt'}\n",
      "Score of validation:  0.8943841160829862\n"
     ]
    },
    {
     "name": "stderr",
     "output_type": "stream",
     "text": [
      "\r",
      "Treinamento:  22%|██▏       | 26/120 [02:23<15:29,  9.89s/it]"
     ]
    },
    {
     "name": "stdout",
     "output_type": "stream",
     "text": [
      "Mean f1: 0.894\n",
      "Accuracy test: 0.893\n",
      "Parameters:  {'n_estimators': 90, 'criterion': 'gini', 'max_features': 'auto'}\n",
      "Score of validation:  0.8943841160829862\n"
     ]
    },
    {
     "name": "stderr",
     "output_type": "stream",
     "text": [
      "\r",
      "Treinamento:  22%|██▎       | 27/120 [02:32<15:15,  9.84s/it]"
     ]
    },
    {
     "name": "stdout",
     "output_type": "stream",
     "text": [
      "Mean f1: 0.895\n",
      "Accuracy test: 0.891\n",
      "Parameters:  {'n_estimators': 90, 'criterion': 'gini', 'max_features': 'log2'}\n",
      "Score of validation:  0.8952214402469124\n"
     ]
    },
    {
     "name": "stderr",
     "output_type": "stream",
     "text": [
      "\r",
      "Treinamento:  23%|██▎       | 28/120 [02:44<15:56, 10.40s/it]"
     ]
    },
    {
     "name": "stdout",
     "output_type": "stream",
     "text": [
      "Mean f1: 0.894\n",
      "Accuracy test: 0.892\n",
      "Parameters:  {'n_estimators': 90, 'criterion': 'entropy', 'max_features': 'sqrt'}\n",
      "Score of validation:  0.894413001115721\n"
     ]
    },
    {
     "name": "stderr",
     "output_type": "stream",
     "text": [
      "\r",
      "Treinamento:  24%|██▍       | 29/120 [02:55<16:10, 10.66s/it]"
     ]
    },
    {
     "name": "stdout",
     "output_type": "stream",
     "text": [
      "Mean f1: 0.894\n",
      "Accuracy test: 0.892\n",
      "Parameters:  {'n_estimators': 90, 'criterion': 'entropy', 'max_features': 'auto'}\n",
      "Score of validation:  0.894413001115721\n"
     ]
    },
    {
     "name": "stderr",
     "output_type": "stream",
     "text": [
      "\r",
      "Treinamento:  25%|██▌       | 30/120 [03:06<16:02, 10.69s/it]"
     ]
    },
    {
     "name": "stdout",
     "output_type": "stream",
     "text": [
      "Mean f1: 0.894\n",
      "Accuracy test: 0.892\n",
      "Parameters:  {'n_estimators': 90, 'criterion': 'entropy', 'max_features': 'log2'}\n",
      "Score of validation:  0.8944129427621194\n"
     ]
    },
    {
     "name": "stderr",
     "output_type": "stream",
     "text": [
      "\r",
      "Treinamento:  26%|██▌       | 31/120 [03:19<16:56, 11.42s/it]"
     ]
    },
    {
     "name": "stdout",
     "output_type": "stream",
     "text": [
      "Mean f1: 0.895\n",
      "Accuracy test: 0.892\n",
      "Parameters:  {'n_estimators': 110, 'criterion': 'gini', 'max_features': 'sqrt'}\n",
      "Score of validation:  0.8945861445875535\n"
     ]
    },
    {
     "name": "stderr",
     "output_type": "stream",
     "text": [
      "\r",
      "Treinamento:  27%|██▋       | 32/120 [03:32<17:12, 11.73s/it]"
     ]
    },
    {
     "name": "stdout",
     "output_type": "stream",
     "text": [
      "Mean f1: 0.895\n",
      "Accuracy test: 0.892\n",
      "Parameters:  {'n_estimators': 110, 'criterion': 'gini', 'max_features': 'auto'}\n",
      "Score of validation:  0.8945861445875535\n"
     ]
    },
    {
     "name": "stderr",
     "output_type": "stream",
     "text": [
      "\r",
      "Treinamento:  28%|██▊       | 33/120 [03:43<16:53, 11.65s/it]"
     ]
    },
    {
     "name": "stdout",
     "output_type": "stream",
     "text": [
      "Mean f1: 0.895\n",
      "Accuracy test: 0.891\n",
      "Parameters:  {'n_estimators': 110, 'criterion': 'gini', 'max_features': 'log2'}\n",
      "Score of validation:  0.8952502502535881\n"
     ]
    },
    {
     "name": "stderr",
     "output_type": "stream",
     "text": [
      "\r",
      "Treinamento:  28%|██▊       | 34/120 [03:57<17:40, 12.33s/it]"
     ]
    },
    {
     "name": "stdout",
     "output_type": "stream",
     "text": [
      "Mean f1: 0.894\n",
      "Accuracy test: 0.891\n",
      "Parameters:  {'n_estimators': 110, 'criterion': 'entropy', 'max_features': 'sqrt'}\n",
      "Score of validation:  0.8944707128275888\n"
     ]
    },
    {
     "name": "stderr",
     "output_type": "stream",
     "text": [
      "\r",
      "Treinamento:  29%|██▉       | 35/120 [04:12<18:22, 12.97s/it]"
     ]
    },
    {
     "name": "stdout",
     "output_type": "stream",
     "text": [
      "Mean f1: 0.894\n",
      "Accuracy test: 0.891\n",
      "Parameters:  {'n_estimators': 110, 'criterion': 'entropy', 'max_features': 'auto'}\n",
      "Score of validation:  0.8944707128275888\n"
     ]
    },
    {
     "name": "stderr",
     "output_type": "stream",
     "text": [
      "\r",
      "Treinamento:  30%|███       | 36/120 [04:24<17:57, 12.83s/it]"
     ]
    },
    {
     "name": "stdout",
     "output_type": "stream",
     "text": [
      "Mean f1: 0.895\n",
      "Accuracy test: 0.892\n",
      "Parameters:  {'n_estimators': 110, 'criterion': 'entropy', 'max_features': 'log2'}\n",
      "Score of validation:  0.8947017180634071\n"
     ]
    },
    {
     "name": "stderr",
     "output_type": "stream",
     "text": [
      "\r",
      "Treinamento:  31%|███       | 37/120 [04:40<18:50, 13.62s/it]"
     ]
    },
    {
     "name": "stdout",
     "output_type": "stream",
     "text": [
      "Mean f1: 0.895\n",
      "Accuracy test: 0.893\n",
      "Parameters:  {'n_estimators': 130, 'criterion': 'gini', 'max_features': 'sqrt'}\n",
      "Score of validation:  0.8945861445875535\n"
     ]
    },
    {
     "name": "stderr",
     "output_type": "stream",
     "text": [
      "\r",
      "Treinamento:  32%|███▏      | 38/120 [04:55<19:17, 14.11s/it]"
     ]
    },
    {
     "name": "stdout",
     "output_type": "stream",
     "text": [
      "Mean f1: 0.895\n",
      "Accuracy test: 0.893\n",
      "Parameters:  {'n_estimators': 130, 'criterion': 'gini', 'max_features': 'auto'}\n",
      "Score of validation:  0.8945861445875535\n"
     ]
    },
    {
     "name": "stderr",
     "output_type": "stream",
     "text": [
      "\r",
      "Treinamento:  32%|███▎      | 39/120 [05:08<18:52, 13.98s/it]"
     ]
    },
    {
     "name": "stdout",
     "output_type": "stream",
     "text": [
      "Mean f1: 0.895\n",
      "Accuracy test: 0.891\n",
      "Parameters:  {'n_estimators': 130, 'criterion': 'gini', 'max_features': 'log2'}\n",
      "Score of validation:  0.8951347684762508\n"
     ]
    },
    {
     "name": "stderr",
     "output_type": "stream",
     "text": [
      "\r",
      "Treinamento:  33%|███▎      | 40/120 [05:25<19:41, 14.77s/it]"
     ]
    },
    {
     "name": "stdout",
     "output_type": "stream",
     "text": [
      "Mean f1: 0.895\n",
      "Accuracy test: 0.891\n",
      "Parameters:  {'n_estimators': 130, 'criterion': 'entropy', 'max_features': 'sqrt'}\n",
      "Score of validation:  0.8947883314804678\n"
     ]
    },
    {
     "name": "stderr",
     "output_type": "stream",
     "text": [
      "\r",
      "Treinamento:  34%|███▍      | 41/120 [05:41<20:02, 15.22s/it]"
     ]
    },
    {
     "name": "stdout",
     "output_type": "stream",
     "text": [
      "Mean f1: 0.895\n",
      "Accuracy test: 0.891\n",
      "Parameters:  {'n_estimators': 130, 'criterion': 'entropy', 'max_features': 'auto'}\n",
      "Score of validation:  0.8947883314804678\n"
     ]
    },
    {
     "name": "stderr",
     "output_type": "stream",
     "text": [
      "\r",
      "Treinamento:  35%|███▌      | 42/120 [05:57<19:57, 15.35s/it]"
     ]
    },
    {
     "name": "stdout",
     "output_type": "stream",
     "text": [
      "Mean f1: 0.895\n",
      "Accuracy test: 0.892\n",
      "Parameters:  {'n_estimators': 130, 'criterion': 'entropy', 'max_features': 'log2'}\n",
      "Score of validation:  0.8951925385417201\n"
     ]
    },
    {
     "name": "stderr",
     "output_type": "stream",
     "text": [
      "\r",
      "Treinamento:  36%|███▌      | 43/120 [06:15<20:43, 16.15s/it]"
     ]
    },
    {
     "name": "stdout",
     "output_type": "stream",
     "text": [
      "Mean f1: 0.895\n",
      "Accuracy test: 0.892\n",
      "Parameters:  {'n_estimators': 150, 'criterion': 'gini', 'max_features': 'sqrt'}\n",
      "Score of validation:  0.894586161260011\n"
     ]
    },
    {
     "name": "stderr",
     "output_type": "stream",
     "text": [
      "\r",
      "Treinamento:  37%|███▋      | 44/120 [06:33<21:02, 16.61s/it]"
     ]
    },
    {
     "name": "stdout",
     "output_type": "stream",
     "text": [
      "Mean f1: 0.895\n",
      "Accuracy test: 0.892\n",
      "Parameters:  {'n_estimators': 150, 'criterion': 'gini', 'max_features': 'auto'}\n",
      "Score of validation:  0.894586161260011\n"
     ]
    },
    {
     "name": "stderr",
     "output_type": "stream",
     "text": [
      "\r",
      "Treinamento:  38%|███▊      | 45/120 [06:48<20:25, 16.35s/it]"
     ]
    },
    {
     "name": "stdout",
     "output_type": "stream",
     "text": [
      "Mean f1: 0.895\n",
      "Accuracy test: 0.891\n",
      "Parameters:  {'n_estimators': 150, 'criterion': 'gini', 'max_features': 'log2'}\n",
      "Score of validation:  0.8951636618452141\n"
     ]
    },
    {
     "name": "stderr",
     "output_type": "stream",
     "text": [
      "\r",
      "Treinamento:  38%|███▊      | 46/120 [07:09<21:38, 17.55s/it]"
     ]
    },
    {
     "name": "stdout",
     "output_type": "stream",
     "text": [
      "Mean f1: 0.895\n",
      "Accuracy test: 0.891\n",
      "Parameters:  {'n_estimators': 150, 'criterion': 'entropy', 'max_features': 'sqrt'}\n",
      "Score of validation:  0.89490384660272\n"
     ]
    },
    {
     "name": "stderr",
     "output_type": "stream",
     "text": [
      "\r",
      "Treinamento:  39%|███▉      | 47/120 [07:27<21:38, 17.79s/it]"
     ]
    },
    {
     "name": "stdout",
     "output_type": "stream",
     "text": [
      "Mean f1: 0.895\n",
      "Accuracy test: 0.891\n",
      "Parameters:  {'n_estimators': 150, 'criterion': 'entropy', 'max_features': 'auto'}\n",
      "Score of validation:  0.89490384660272\n"
     ]
    },
    {
     "name": "stderr",
     "output_type": "stream",
     "text": [
      "\r",
      "Treinamento:  40%|████      | 48/120 [07:44<21:09, 17.63s/it]"
     ]
    },
    {
     "name": "stdout",
     "output_type": "stream",
     "text": [
      "Mean f1: 0.895\n",
      "Accuracy test: 0.892\n",
      "Parameters:  {'n_estimators': 150, 'criterion': 'entropy', 'max_features': 'log2'}\n",
      "Score of validation:  0.8948461015459369\n"
     ]
    },
    {
     "name": "stderr",
     "output_type": "stream",
     "text": [
      "\r",
      "Treinamento:  41%|████      | 49/120 [08:06<22:25, 18.95s/it]"
     ]
    },
    {
     "name": "stdout",
     "output_type": "stream",
     "text": [
      "Mean f1: 0.895\n",
      "Accuracy test: 0.892\n",
      "Parameters:  {'n_estimators': 170, 'criterion': 'gini', 'max_features': 'sqrt'}\n",
      "Score of validation:  0.8947594214390465\n"
     ]
    },
    {
     "name": "stderr",
     "output_type": "stream",
     "text": [
      "\r",
      "Treinamento:  42%|████▏     | 50/120 [08:31<24:04, 20.63s/it]"
     ]
    },
    {
     "name": "stdout",
     "output_type": "stream",
     "text": [
      "Mean f1: 0.895\n",
      "Accuracy test: 0.892\n",
      "Parameters:  {'n_estimators': 170, 'criterion': 'gini', 'max_features': 'auto'}\n",
      "Score of validation:  0.8947594214390465\n"
     ]
    },
    {
     "name": "stderr",
     "output_type": "stream",
     "text": [
      "\r",
      "Treinamento:  42%|████▎     | 51/120 [08:51<23:25, 20.37s/it]"
     ]
    },
    {
     "name": "stdout",
     "output_type": "stream",
     "text": [
      "Mean f1: 0.895\n",
      "Accuracy test: 0.891\n",
      "Parameters:  {'n_estimators': 170, 'criterion': 'gini', 'max_features': 'log2'}\n",
      "Score of validation:  0.8952213652208535\n"
     ]
    },
    {
     "name": "stderr",
     "output_type": "stream",
     "text": [
      "\r",
      "Treinamento:  43%|████▎     | 52/120 [09:16<24:51, 21.93s/it]"
     ]
    },
    {
     "name": "stdout",
     "output_type": "stream",
     "text": [
      "Mean f1: 0.895\n",
      "Accuracy test: 0.891\n",
      "Parameters:  {'n_estimators': 170, 'criterion': 'entropy', 'max_features': 'sqrt'}\n",
      "Score of validation:  0.8948460515285642\n"
     ]
    },
    {
     "name": "stderr",
     "output_type": "stream",
     "text": [
      "\r",
      "Treinamento:  44%|████▍     | 53/120 [09:42<25:53, 23.19s/it]"
     ]
    },
    {
     "name": "stdout",
     "output_type": "stream",
     "text": [
      "Mean f1: 0.895\n",
      "Accuracy test: 0.891\n",
      "Parameters:  {'n_estimators': 170, 'criterion': 'entropy', 'max_features': 'auto'}\n",
      "Score of validation:  0.8948460515285642\n"
     ]
    },
    {
     "name": "stderr",
     "output_type": "stream",
     "text": [
      "\r",
      "Treinamento:  45%|████▌     | 54/120 [10:04<25:07, 22.83s/it]"
     ]
    },
    {
     "name": "stdout",
     "output_type": "stream",
     "text": [
      "Mean f1: 0.895\n",
      "Accuracy test: 0.891\n",
      "Parameters:  {'n_estimators': 170, 'criterion': 'entropy', 'max_features': 'log2'}\n",
      "Score of validation:  0.8952214735918276\n"
     ]
    },
    {
     "name": "stderr",
     "output_type": "stream",
     "text": [
      "\r",
      "Treinamento:  46%|████▌     | 55/120 [10:27<24:40, 22.78s/it]"
     ]
    },
    {
     "name": "stdout",
     "output_type": "stream",
     "text": [
      "Mean f1: 0.895\n",
      "Accuracy test: 0.892\n",
      "Parameters:  {'n_estimators': 190, 'criterion': 'gini', 'max_features': 'sqrt'}\n",
      "Score of validation:  0.8946150629652033\n"
     ]
    },
    {
     "name": "stderr",
     "output_type": "stream",
     "text": [
      "\r",
      "Treinamento:  47%|████▋     | 56/120 [10:48<23:48, 22.31s/it]"
     ]
    },
    {
     "name": "stdout",
     "output_type": "stream",
     "text": [
      "Mean f1: 0.895\n",
      "Accuracy test: 0.892\n",
      "Parameters:  {'n_estimators': 190, 'criterion': 'gini', 'max_features': 'auto'}\n",
      "Score of validation:  0.8946150629652033\n"
     ]
    },
    {
     "name": "stderr",
     "output_type": "stream",
     "text": [
      "\r",
      "Treinamento:  48%|████▊     | 57/120 [11:08<22:35, 21.51s/it]"
     ]
    },
    {
     "name": "stdout",
     "output_type": "stream",
     "text": [
      "Mean f1: 0.896\n",
      "Accuracy test: 0.891\n",
      "Parameters:  {'n_estimators': 190, 'criterion': 'gini', 'max_features': 'log2'}\n",
      "Score of validation:  0.8955389338563595\n"
     ]
    },
    {
     "name": "stderr",
     "output_type": "stream",
     "text": [
      "\r",
      "Treinamento:  48%|████▊     | 58/120 [11:33<23:11, 22.44s/it]"
     ]
    },
    {
     "name": "stdout",
     "output_type": "stream",
     "text": [
      "Mean f1: 0.895\n",
      "Accuracy test: 0.891\n",
      "Parameters:  {'n_estimators': 190, 'criterion': 'entropy', 'max_features': 'sqrt'}\n",
      "Score of validation:  0.8950481884041057\n"
     ]
    },
    {
     "name": "stderr",
     "output_type": "stream",
     "text": [
      "\r",
      "Treinamento:  49%|████▉     | 59/120 [11:56<23:13, 22.84s/it]"
     ]
    },
    {
     "name": "stdout",
     "output_type": "stream",
     "text": [
      "Mean f1: 0.895\n",
      "Accuracy test: 0.891\n",
      "Parameters:  {'n_estimators': 190, 'criterion': 'entropy', 'max_features': 'auto'}\n",
      "Score of validation:  0.8950481884041057\n"
     ]
    },
    {
     "name": "stderr",
     "output_type": "stream",
     "text": [
      "\r",
      "Treinamento:  50%|█████     | 60/120 [12:19<22:43, 22.73s/it]"
     ]
    },
    {
     "name": "stdout",
     "output_type": "stream",
     "text": [
      "Mean f1: 0.895\n",
      "Accuracy test: 0.892\n",
      "Parameters:  {'n_estimators': 190, 'criterion': 'entropy', 'max_features': 'log2'}\n",
      "Score of validation:  0.8951059834782615\n"
     ]
    },
    {
     "name": "stderr",
     "output_type": "stream",
     "text": [
      "\r",
      "Treinamento:  51%|█████     | 61/120 [12:43<22:46, 23.16s/it]"
     ]
    },
    {
     "name": "stdout",
     "output_type": "stream",
     "text": [
      "Mean f1: 0.895\n",
      "Accuracy test: 0.892\n",
      "Parameters:  {'n_estimators': 210, 'criterion': 'gini', 'max_features': 'sqrt'}\n",
      "Score of validation:  0.8949037965853475\n"
     ]
    },
    {
     "name": "stderr",
     "output_type": "stream",
     "text": [
      "\r",
      "Treinamento:  52%|█████▏    | 62/120 [13:08<22:49, 23.61s/it]"
     ]
    },
    {
     "name": "stdout",
     "output_type": "stream",
     "text": [
      "Mean f1: 0.895\n",
      "Accuracy test: 0.892\n",
      "Parameters:  {'n_estimators': 210, 'criterion': 'gini', 'max_features': 'auto'}\n",
      "Score of validation:  0.8949037965853475\n"
     ]
    },
    {
     "name": "stderr",
     "output_type": "stream",
     "text": [
      "\r",
      "Treinamento:  52%|█████▎    | 63/120 [13:29<21:55, 23.07s/it]"
     ]
    },
    {
     "name": "stdout",
     "output_type": "stream",
     "text": [
      "Mean f1: 0.895\n",
      "Accuracy test: 0.892\n",
      "Parameters:  {'n_estimators': 210, 'criterion': 'gini', 'max_features': 'log2'}\n",
      "Score of validation:  0.8953079953103711\n"
     ]
    },
    {
     "name": "stderr",
     "output_type": "stream",
     "text": [
      "\r",
      "Treinamento:  53%|█████▎    | 64/120 [13:56<22:31, 24.14s/it]"
     ]
    },
    {
     "name": "stdout",
     "output_type": "stream",
     "text": [
      "Mean f1: 0.895\n",
      "Accuracy test: 0.891\n",
      "Parameters:  {'n_estimators': 210, 'criterion': 'entropy', 'max_features': 'sqrt'}\n",
      "Score of validation:  0.8952213985657685\n"
     ]
    },
    {
     "name": "stderr",
     "output_type": "stream",
     "text": [
      "\r",
      "Treinamento:  54%|█████▍    | 65/120 [14:22<22:39, 24.73s/it]"
     ]
    },
    {
     "name": "stdout",
     "output_type": "stream",
     "text": [
      "Mean f1: 0.895\n",
      "Accuracy test: 0.891\n",
      "Parameters:  {'n_estimators': 210, 'criterion': 'entropy', 'max_features': 'auto'}\n",
      "Score of validation:  0.8952213985657685\n"
     ]
    },
    {
     "name": "stderr",
     "output_type": "stream",
     "text": [
      "\r",
      "Treinamento:  55%|█████▌    | 66/120 [14:46<22:02, 24.49s/it]"
     ]
    },
    {
     "name": "stdout",
     "output_type": "stream",
     "text": [
      "Mean f1: 0.895\n",
      "Accuracy test: 0.892\n",
      "Parameters:  {'n_estimators': 210, 'criterion': 'entropy', 'max_features': 'log2'}\n",
      "Score of validation:  0.8945862446222987\n"
     ]
    },
    {
     "name": "stderr",
     "output_type": "stream",
     "text": [
      "\r",
      "Treinamento:  56%|█████▌    | 67/120 [15:12<22:03, 24.96s/it]"
     ]
    },
    {
     "name": "stdout",
     "output_type": "stream",
     "text": [
      "Mean f1: 0.895\n",
      "Accuracy test: 0.892\n",
      "Parameters:  {'n_estimators': 230, 'criterion': 'gini', 'max_features': 'sqrt'}\n",
      "Score of validation:  0.8947883314804675\n"
     ]
    },
    {
     "name": "stderr",
     "output_type": "stream",
     "text": [
      "\r",
      "Treinamento:  57%|█████▋    | 68/120 [15:39<22:05, 25.49s/it]"
     ]
    },
    {
     "name": "stdout",
     "output_type": "stream",
     "text": [
      "Mean f1: 0.895\n",
      "Accuracy test: 0.892\n",
      "Parameters:  {'n_estimators': 230, 'criterion': 'gini', 'max_features': 'auto'}\n",
      "Score of validation:  0.8947883314804675\n"
     ]
    },
    {
     "name": "stderr",
     "output_type": "stream",
     "text": [
      "\r",
      "Treinamento:  57%|█████▊    | 69/120 [16:03<21:15, 25.00s/it]"
     ]
    },
    {
     "name": "stdout",
     "output_type": "stream",
     "text": [
      "Mean f1: 0.895\n",
      "Accuracy test: 0.891\n",
      "Parameters:  {'n_estimators': 230, 'criterion': 'gini', 'max_features': 'log2'}\n",
      "Score of validation:  0.8953079619654559\n"
     ]
    },
    {
     "name": "stderr",
     "output_type": "stream",
     "text": [
      "\r",
      "Treinamento:  58%|█████▊    | 70/120 [16:32<21:46, 26.14s/it]"
     ]
    },
    {
     "name": "stdout",
     "output_type": "stream",
     "text": [
      "Mean f1: 0.895\n",
      "Accuracy test: 0.891\n",
      "Parameters:  {'n_estimators': 230, 'criterion': 'entropy', 'max_features': 'sqrt'}\n",
      "Score of validation:  0.8950770734368403\n"
     ]
    },
    {
     "name": "stderr",
     "output_type": "stream",
     "text": [
      "\r",
      "Treinamento:  59%|█████▉    | 71/120 [17:00<21:58, 26.91s/it]"
     ]
    },
    {
     "name": "stdout",
     "output_type": "stream",
     "text": [
      "Mean f1: 0.895\n",
      "Accuracy test: 0.891\n",
      "Parameters:  {'n_estimators': 230, 'criterion': 'entropy', 'max_features': 'auto'}\n",
      "Score of validation:  0.8950770734368403\n"
     ]
    },
    {
     "name": "stderr",
     "output_type": "stream",
     "text": [
      "\r",
      "Treinamento:  60%|██████    | 72/120 [17:26<21:18, 26.64s/it]"
     ]
    },
    {
     "name": "stdout",
     "output_type": "stream",
     "text": [
      "Mean f1: 0.895\n",
      "Accuracy test: 0.892\n",
      "Parameters:  {'n_estimators': 230, 'criterion': 'entropy', 'max_features': 'log2'}\n",
      "Score of validation:  0.8950193533887438\n"
     ]
    },
    {
     "name": "stderr",
     "output_type": "stream",
     "text": [
      "\r",
      "Treinamento:  61%|██████    | 73/120 [17:56<21:30, 27.45s/it]"
     ]
    },
    {
     "name": "stdout",
     "output_type": "stream",
     "text": [
      "Mean f1: 0.895\n",
      "Accuracy test: 0.893\n",
      "Parameters:  {'n_estimators': 250, 'criterion': 'gini', 'max_features': 'sqrt'}\n",
      "Score of validation:  0.8945862112773837\n"
     ]
    },
    {
     "name": "stderr",
     "output_type": "stream",
     "text": [
      "\r",
      "Treinamento:  62%|██████▏   | 74/120 [18:26<21:36, 28.18s/it]"
     ]
    },
    {
     "name": "stdout",
     "output_type": "stream",
     "text": [
      "Mean f1: 0.895\n",
      "Accuracy test: 0.893\n",
      "Parameters:  {'n_estimators': 250, 'criterion': 'gini', 'max_features': 'auto'}\n",
      "Score of validation:  0.8945862112773837\n"
     ]
    },
    {
     "name": "stderr",
     "output_type": "stream",
     "text": [
      "\r",
      "Treinamento:  62%|██████▎   | 75/120 [18:52<20:41, 27.60s/it]"
     ]
    },
    {
     "name": "stdout",
     "output_type": "stream",
     "text": [
      "Mean f1: 0.895\n",
      "Accuracy test: 0.892\n",
      "Parameters:  {'n_estimators': 250, 'criterion': 'gini', 'max_features': 'log2'}\n",
      "Score of validation:  0.8951924885243475\n"
     ]
    },
    {
     "name": "stderr",
     "output_type": "stream",
     "text": [
      "\r",
      "Treinamento:  63%|██████▎   | 76/120 [19:24<21:16, 29.01s/it]"
     ]
    },
    {
     "name": "stdout",
     "output_type": "stream",
     "text": [
      "Mean f1: 0.895\n",
      "Accuracy test: 0.891\n",
      "Parameters:  {'n_estimators': 250, 'criterion': 'entropy', 'max_features': 'sqrt'}\n",
      "Score of validation:  0.8951059251246599\n"
     ]
    },
    {
     "name": "stderr",
     "output_type": "stream",
     "text": [
      "\r",
      "Treinamento:  64%|██████▍   | 77/120 [19:56<21:19, 29.76s/it]"
     ]
    },
    {
     "name": "stdout",
     "output_type": "stream",
     "text": [
      "Mean f1: 0.895\n",
      "Accuracy test: 0.891\n",
      "Parameters:  {'n_estimators': 250, 'criterion': 'entropy', 'max_features': 'auto'}\n",
      "Score of validation:  0.8951059251246599\n"
     ]
    },
    {
     "name": "stderr",
     "output_type": "stream",
     "text": [
      "\r",
      "Treinamento:  65%|██████▌   | 78/120 [20:24<20:38, 29.49s/it]"
     ]
    },
    {
     "name": "stdout",
     "output_type": "stream",
     "text": [
      "Mean f1: 0.895\n",
      "Accuracy test: 0.891\n",
      "Parameters:  {'n_estimators': 250, 'criterion': 'entropy', 'max_features': 'log2'}\n",
      "Score of validation:  0.8950482134127921\n"
     ]
    },
    {
     "name": "stderr",
     "output_type": "stream",
     "text": [
      "\r",
      "Treinamento:  66%|██████▌   | 79/120 [20:57<20:48, 30.45s/it]"
     ]
    },
    {
     "name": "stdout",
     "output_type": "stream",
     "text": [
      "Mean f1: 0.895\n",
      "Accuracy test: 0.892\n",
      "Parameters:  {'n_estimators': 270, 'criterion': 'gini', 'max_features': 'sqrt'}\n",
      "Score of validation:  0.8947883564891537\n"
     ]
    },
    {
     "name": "stderr",
     "output_type": "stream",
     "text": [
      "\r",
      "Treinamento:  67%|██████▋   | 80/120 [21:30<20:52, 31.31s/it]"
     ]
    },
    {
     "name": "stdout",
     "output_type": "stream",
     "text": [
      "Mean f1: 0.895\n",
      "Accuracy test: 0.892\n",
      "Parameters:  {'n_estimators': 270, 'criterion': 'gini', 'max_features': 'auto'}\n",
      "Score of validation:  0.8947883564891537\n"
     ]
    },
    {
     "name": "stderr",
     "output_type": "stream",
     "text": [
      "\r",
      "Treinamento:  68%|██████▊   | 81/120 [22:02<20:25, 31.44s/it]"
     ]
    },
    {
     "name": "stdout",
     "output_type": "stream",
     "text": [
      "Mean f1: 0.895\n",
      "Accuracy test: 0.892\n",
      "Parameters:  {'n_estimators': 270, 'criterion': 'gini', 'max_features': 'log2'}\n",
      "Score of validation:  0.8950769650658661\n"
     ]
    },
    {
     "name": "stderr",
     "output_type": "stream",
     "text": [
      "\r",
      "Treinamento:  68%|██████▊   | 82/120 [22:37<20:36, 32.54s/it]"
     ]
    },
    {
     "name": "stdout",
     "output_type": "stream",
     "text": [
      "Mean f1: 0.895\n",
      "Accuracy test: 0.892\n",
      "Parameters:  {'n_estimators': 270, 'criterion': 'entropy', 'max_features': 'sqrt'}\n",
      "Score of validation:  0.895163636836528\n"
     ]
    },
    {
     "name": "stderr",
     "output_type": "stream",
     "text": [
      "\r",
      "Treinamento:  69%|██████▉   | 83/120 [23:11<20:18, 32.93s/it]"
     ]
    },
    {
     "name": "stdout",
     "output_type": "stream",
     "text": [
      "Mean f1: 0.895\n",
      "Accuracy test: 0.892\n",
      "Parameters:  {'n_estimators': 270, 'criterion': 'entropy', 'max_features': 'auto'}\n",
      "Score of validation:  0.895163636836528\n"
     ]
    },
    {
     "name": "stderr",
     "output_type": "stream",
     "text": [
      "\r",
      "Treinamento:  70%|███████   | 84/120 [23:42<19:20, 32.24s/it]"
     ]
    },
    {
     "name": "stdout",
     "output_type": "stream",
     "text": [
      "Mean f1: 0.895\n",
      "Accuracy test: 0.891\n",
      "Parameters:  {'n_estimators': 270, 'criterion': 'entropy', 'max_features': 'log2'}\n",
      "Score of validation:  0.8953947087621767\n"
     ]
    },
    {
     "name": "stderr",
     "output_type": "stream",
     "text": [
      "\r",
      "Treinamento:  71%|███████   | 85/120 [24:16<19:04, 32.69s/it]"
     ]
    },
    {
     "name": "stdout",
     "output_type": "stream",
     "text": [
      "Mean f1: 0.895\n",
      "Accuracy test: 0.893\n",
      "Parameters:  {'n_estimators': 290, 'criterion': 'gini', 'max_features': 'sqrt'}\n",
      "Score of validation:  0.894990468356009\n"
     ]
    },
    {
     "name": "stderr",
     "output_type": "stream",
     "text": [
      "\r",
      "Treinamento:  72%|███████▏  | 86/120 [24:48<18:31, 32.69s/it]"
     ]
    },
    {
     "name": "stdout",
     "output_type": "stream",
     "text": [
      "Mean f1: 0.895\n",
      "Accuracy test: 0.893\n",
      "Parameters:  {'n_estimators': 290, 'criterion': 'gini', 'max_features': 'auto'}\n",
      "Score of validation:  0.894990468356009\n"
     ]
    },
    {
     "name": "stderr",
     "output_type": "stream",
     "text": [
      "\r",
      "Treinamento:  72%|███████▎  | 87/120 [25:17<17:24, 31.64s/it]"
     ]
    },
    {
     "name": "stdout",
     "output_type": "stream",
     "text": [
      "Mean f1: 0.895\n",
      "Accuracy test: 0.891\n",
      "Parameters:  {'n_estimators': 290, 'criterion': 'gini', 'max_features': 'log2'}\n",
      "Score of validation:  0.8950769900745525\n"
     ]
    },
    {
     "name": "stderr",
     "output_type": "stream",
     "text": [
      "\r",
      "Treinamento:  73%|███████▎  | 88/120 [25:53<17:34, 32.95s/it]"
     ]
    },
    {
     "name": "stdout",
     "output_type": "stream",
     "text": [
      "Mean f1: 0.895\n",
      "Accuracy test: 0.891\n",
      "Parameters:  {'n_estimators': 290, 'criterion': 'entropy', 'max_features': 'sqrt'}\n",
      "Score of validation:  0.8951925218692626\n"
     ]
    },
    {
     "name": "stderr",
     "output_type": "stream",
     "text": [
      "\r",
      "Treinamento:  74%|███████▍  | 89/120 [26:29<17:22, 33.64s/it]"
     ]
    },
    {
     "name": "stdout",
     "output_type": "stream",
     "text": [
      "Mean f1: 0.895\n",
      "Accuracy test: 0.891\n",
      "Parameters:  {'n_estimators': 290, 'criterion': 'entropy', 'max_features': 'auto'}\n",
      "Score of validation:  0.8951925218692626\n"
     ]
    },
    {
     "name": "stderr",
     "output_type": "stream",
     "text": [
      "\r",
      "Treinamento:  75%|███████▌  | 90/120 [27:01<16:35, 33.17s/it]"
     ]
    },
    {
     "name": "stdout",
     "output_type": "stream",
     "text": [
      "Mean f1: 0.895\n",
      "Accuracy test: 0.891\n",
      "Parameters:  {'n_estimators': 290, 'criterion': 'entropy', 'max_features': 'log2'}\n",
      "Score of validation:  0.8951059751420326\n"
     ]
    },
    {
     "name": "stderr",
     "output_type": "stream",
     "text": [
      "\r",
      "Treinamento:  76%|███████▌  | 91/120 [27:36<16:20, 33.81s/it]"
     ]
    },
    {
     "name": "stdout",
     "output_type": "stream",
     "text": [
      "Mean f1: 0.895\n",
      "Accuracy test: 0.892\n",
      "Parameters:  {'n_estimators': 310, 'criterion': 'gini', 'max_features': 'sqrt'}\n",
      "Score of validation:  0.8947594714564191\n"
     ]
    },
    {
     "name": "stderr",
     "output_type": "stream",
     "text": [
      "\r",
      "Treinamento:  77%|███████▋  | 92/120 [28:11<15:55, 34.12s/it]"
     ]
    },
    {
     "name": "stdout",
     "output_type": "stream",
     "text": [
      "Mean f1: 0.895\n",
      "Accuracy test: 0.892\n",
      "Parameters:  {'n_estimators': 310, 'criterion': 'gini', 'max_features': 'auto'}\n",
      "Score of validation:  0.8947594714564191\n"
     ]
    },
    {
     "name": "stderr",
     "output_type": "stream",
     "text": [
      "\r",
      "Treinamento:  78%|███████▊  | 93/120 [28:42<14:58, 33.29s/it]"
     ]
    },
    {
     "name": "stdout",
     "output_type": "stream",
     "text": [
      "Mean f1: 0.895\n",
      "Accuracy test: 0.891\n",
      "Parameters:  {'n_estimators': 310, 'criterion': 'gini', 'max_features': 'log2'}\n",
      "Score of validation:  0.8952502419173592\n"
     ]
    },
    {
     "name": "stderr",
     "output_type": "stream",
     "text": [
      "\r",
      "Treinamento:  78%|███████▊  | 94/120 [29:20<15:04, 34.79s/it]"
     ]
    },
    {
     "name": "stdout",
     "output_type": "stream",
     "text": [
      "Mean f1: 0.895\n",
      "Accuracy test: 0.891\n",
      "Parameters:  {'n_estimators': 310, 'criterion': 'entropy', 'max_features': 'sqrt'}\n",
      "Score of validation:  0.8953080620002012\n"
     ]
    },
    {
     "name": "stderr",
     "output_type": "stream",
     "text": [
      "\r",
      "Treinamento:  79%|███████▉  | 95/120 [29:59<14:58, 35.93s/it]"
     ]
    },
    {
     "name": "stdout",
     "output_type": "stream",
     "text": [
      "Mean f1: 0.895\n",
      "Accuracy test: 0.891\n",
      "Parameters:  {'n_estimators': 310, 'criterion': 'entropy', 'max_features': 'auto'}\n",
      "Score of validation:  0.8953080620002012\n"
     ]
    },
    {
     "name": "stderr",
     "output_type": "stream",
     "text": [
      "\r",
      "Treinamento:  80%|████████  | 96/120 [30:33<14:08, 35.34s/it]"
     ]
    },
    {
     "name": "stdout",
     "output_type": "stream",
     "text": [
      "Mean f1: 0.895\n",
      "Accuracy test: 0.891\n",
      "Parameters:  {'n_estimators': 310, 'criterion': 'entropy', 'max_features': 'log2'}\n",
      "Score of validation:  0.8947883314804675\n"
     ]
    },
    {
     "name": "stderr",
     "output_type": "stream",
     "text": [
      "\r",
      "Treinamento:  81%|████████  | 97/120 [31:10<13:43, 35.80s/it]"
     ]
    },
    {
     "name": "stdout",
     "output_type": "stream",
     "text": [
      "Mean f1: 0.895\n",
      "Accuracy test: 0.893\n",
      "Parameters:  {'n_estimators': 330, 'criterion': 'gini', 'max_features': 'sqrt'}\n",
      "Score of validation:  0.894903813257805\n"
     ]
    },
    {
     "name": "stderr",
     "output_type": "stream",
     "text": [
      "\r",
      "Treinamento:  82%|████████▏ | 98/120 [31:47<13:13, 36.07s/it]"
     ]
    },
    {
     "name": "stdout",
     "output_type": "stream",
     "text": [
      "Mean f1: 0.895\n",
      "Accuracy test: 0.893\n",
      "Parameters:  {'n_estimators': 330, 'criterion': 'gini', 'max_features': 'auto'}\n",
      "Score of validation:  0.894903813257805\n"
     ]
    },
    {
     "name": "stderr",
     "output_type": "stream",
     "text": [
      "\r",
      "Treinamento:  82%|████████▎ | 99/120 [32:20<12:23, 35.40s/it]"
     ]
    },
    {
     "name": "stdout",
     "output_type": "stream",
     "text": [
      "Mean f1: 0.895\n",
      "Accuracy test: 0.891\n",
      "Parameters:  {'n_estimators': 330, 'criterion': 'gini', 'max_features': 'log2'}\n",
      "Score of validation:  0.8951636285002991\n"
     ]
    },
    {
     "name": "stderr",
     "output_type": "stream",
     "text": [
      "\r",
      "Treinamento:  83%|████████▎ | 100/120 [33:01<12:20, 37.01s/it]"
     ]
    },
    {
     "name": "stdout",
     "output_type": "stream",
     "text": [
      "Mean f1: 0.896\n",
      "Accuracy test: 0.892\n",
      "Parameters:  {'n_estimators': 330, 'criterion': 'entropy', 'max_features': 'sqrt'}\n",
      "Score of validation:  0.8956256306357074\n"
     ]
    },
    {
     "name": "stderr",
     "output_type": "stream",
     "text": [
      "\r",
      "Treinamento:  84%|████████▍ | 101/120 [33:42<12:02, 38.02s/it]"
     ]
    },
    {
     "name": "stdout",
     "output_type": "stream",
     "text": [
      "Mean f1: 0.896\n",
      "Accuracy test: 0.892\n",
      "Parameters:  {'n_estimators': 330, 'criterion': 'entropy', 'max_features': 'auto'}\n",
      "Score of validation:  0.8956256306357074\n"
     ]
    },
    {
     "name": "stderr",
     "output_type": "stream",
     "text": [
      "\r",
      "Treinamento:  85%|████████▌ | 102/120 [34:18<11:15, 37.53s/it]"
     ]
    },
    {
     "name": "stdout",
     "output_type": "stream",
     "text": [
      "Mean f1: 0.895\n",
      "Accuracy test: 0.891\n",
      "Parameters:  {'n_estimators': 330, 'criterion': 'entropy', 'max_features': 'log2'}\n",
      "Score of validation:  0.8948172331856599\n"
     ]
    },
    {
     "name": "stderr",
     "output_type": "stream",
     "text": [
      "\r",
      "Treinamento:  86%|████████▌ | 103/120 [34:57<10:46, 38.02s/it]"
     ]
    },
    {
     "name": "stdout",
     "output_type": "stream",
     "text": [
      "Mean f1: 0.895\n",
      "Accuracy test: 0.892\n",
      "Parameters:  {'n_estimators': 350, 'criterion': 'gini', 'max_features': 'sqrt'}\n",
      "Score of validation:  0.8947305947599133\n"
     ]
    },
    {
     "name": "stderr",
     "output_type": "stream",
     "text": [
      "\r",
      "Treinamento:  87%|████████▋ | 104/120 [35:37<10:14, 38.43s/it]"
     ]
    },
    {
     "name": "stdout",
     "output_type": "stream",
     "text": [
      "Mean f1: 0.895\n",
      "Accuracy test: 0.892\n",
      "Parameters:  {'n_estimators': 350, 'criterion': 'gini', 'max_features': 'auto'}\n",
      "Score of validation:  0.8947305947599133\n"
     ]
    },
    {
     "name": "stderr",
     "output_type": "stream",
     "text": [
      "\r",
      "Treinamento:  88%|████████▊ | 105/120 [36:12<09:21, 37.44s/it]"
     ]
    },
    {
     "name": "stdout",
     "output_type": "stream",
     "text": [
      "Mean f1: 0.895\n",
      "Accuracy test: 0.891\n",
      "Parameters:  {'n_estimators': 350, 'criterion': 'gini', 'max_features': 'log2'}\n",
      "Score of validation:  0.8951636535089854\n"
     ]
    },
    {
     "name": "stderr",
     "output_type": "stream",
     "text": [
      "\r",
      "Treinamento:  88%|████████▊ | 106/120 [36:55<09:08, 39.20s/it]"
     ]
    },
    {
     "name": "stdout",
     "output_type": "stream",
     "text": [
      "Mean f1: 0.895\n",
      "Accuracy test: 0.891\n",
      "Parameters:  {'n_estimators': 350, 'criterion': 'entropy', 'max_features': 'sqrt'}\n",
      "Score of validation:  0.8953946920897191\n"
     ]
    },
    {
     "name": "stderr",
     "output_type": "stream",
     "text": [
      "\r",
      "Treinamento:  89%|████████▉ | 107/120 [37:38<08:43, 40.25s/it]"
     ]
    },
    {
     "name": "stdout",
     "output_type": "stream",
     "text": [
      "Mean f1: 0.895\n",
      "Accuracy test: 0.891\n",
      "Parameters:  {'n_estimators': 350, 'criterion': 'entropy', 'max_features': 'auto'}\n",
      "Score of validation:  0.8953946920897191\n"
     ]
    },
    {
     "name": "stderr",
     "output_type": "stream",
     "text": [
      "\r",
      "Treinamento:  90%|█████████ | 108/120 [38:17<07:58, 39.91s/it]"
     ]
    },
    {
     "name": "stdout",
     "output_type": "stream",
     "text": [
      "Mean f1: 0.895\n",
      "Accuracy test: 0.891\n",
      "Parameters:  {'n_estimators': 350, 'criterion': 'entropy', 'max_features': 'log2'}\n",
      "Score of validation:  0.8949615666508167\n"
     ]
    },
    {
     "name": "stderr",
     "output_type": "stream",
     "text": [
      "\r",
      "Treinamento:  91%|█████████ | 109/120 [38:58<07:22, 40.27s/it]"
     ]
    },
    {
     "name": "stdout",
     "output_type": "stream",
     "text": [
      "Mean f1: 0.895\n",
      "Accuracy test: 0.892\n",
      "Parameters:  {'n_estimators': 370, 'criterion': 'gini', 'max_features': 'sqrt'}\n",
      "Score of validation:  0.894615071301432\n"
     ]
    },
    {
     "name": "stderr",
     "output_type": "stream",
     "text": [
      "\r",
      "Treinamento:  92%|█████████▏| 110/120 [39:40<06:47, 40.71s/it]"
     ]
    },
    {
     "name": "stdout",
     "output_type": "stream",
     "text": [
      "Mean f1: 0.895\n",
      "Accuracy test: 0.892\n",
      "Parameters:  {'n_estimators': 370, 'criterion': 'gini', 'max_features': 'auto'}\n",
      "Score of validation:  0.894615071301432\n"
     ]
    },
    {
     "name": "stderr",
     "output_type": "stream",
     "text": [
      "\r",
      "Treinamento:  92%|█████████▎| 111/120 [40:17<05:57, 39.69s/it]"
     ]
    },
    {
     "name": "stdout",
     "output_type": "stream",
     "text": [
      "Mean f1: 0.895\n",
      "Accuracy test: 0.891\n",
      "Parameters:  {'n_estimators': 370, 'criterion': 'gini', 'max_features': 'log2'}\n",
      "Score of validation:  0.8953079953103711\n"
     ]
    },
    {
     "name": "stderr",
     "output_type": "stream",
     "text": [
      "\r",
      "Treinamento:  93%|█████████▎| 112/120 [41:03<05:31, 41.50s/it]"
     ]
    },
    {
     "name": "stdout",
     "output_type": "stream",
     "text": [
      "Mean f1: 0.895\n",
      "Accuracy test: 0.892\n",
      "Parameters:  {'n_estimators': 370, 'criterion': 'entropy', 'max_features': 'sqrt'}\n",
      "Score of validation:  0.8951925968953216\n"
     ]
    },
    {
     "name": "stderr",
     "output_type": "stream",
     "text": [
      "\r",
      "Treinamento:  94%|█████████▍| 113/120 [41:48<04:58, 42.60s/it]"
     ]
    },
    {
     "name": "stdout",
     "output_type": "stream",
     "text": [
      "Mean f1: 0.895\n",
      "Accuracy test: 0.892\n",
      "Parameters:  {'n_estimators': 370, 'criterion': 'entropy', 'max_features': 'auto'}\n",
      "Score of validation:  0.8951925968953216\n"
     ]
    },
    {
     "name": "stderr",
     "output_type": "stream",
     "text": [
      "\r",
      "Treinamento:  95%|█████████▌| 114/120 [42:29<04:12, 42.09s/it]"
     ]
    },
    {
     "name": "stdout",
     "output_type": "stream",
     "text": [
      "Mean f1: 0.895\n",
      "Accuracy test: 0.891\n",
      "Parameters:  {'n_estimators': 370, 'criterion': 'entropy', 'max_features': 'log2'}\n",
      "Score of validation:  0.8948749699062141\n"
     ]
    },
    {
     "name": "stderr",
     "output_type": "stream",
     "text": [
      "\r",
      "Treinamento:  96%|█████████▌| 115/120 [43:13<03:33, 42.67s/it]"
     ]
    },
    {
     "name": "stdout",
     "output_type": "stream",
     "text": [
      "Mean f1: 0.895\n",
      "Accuracy test: 0.892\n",
      "Parameters:  {'n_estimators': 390, 'criterion': 'gini', 'max_features': 'sqrt'}\n",
      "Score of validation:  0.8946439813428532\n"
     ]
    },
    {
     "name": "stderr",
     "output_type": "stream",
     "text": [
      "\r",
      "Treinamento:  97%|█████████▋| 116/120 [43:57<02:52, 43.04s/it]"
     ]
    },
    {
     "name": "stdout",
     "output_type": "stream",
     "text": [
      "Mean f1: 0.895\n",
      "Accuracy test: 0.892\n",
      "Parameters:  {'n_estimators': 390, 'criterion': 'gini', 'max_features': 'auto'}\n",
      "Score of validation:  0.8946439813428532\n"
     ]
    },
    {
     "name": "stderr",
     "output_type": "stream",
     "text": [
      "\r",
      "Treinamento:  98%|█████████▊| 117/120 [44:36<02:05, 41.98s/it]"
     ]
    },
    {
     "name": "stdout",
     "output_type": "stream",
     "text": [
      "Mean f1: 0.895\n",
      "Accuracy test: 0.891\n",
      "Parameters:  {'n_estimators': 390, 'criterion': 'gini', 'max_features': 'log2'}\n",
      "Score of validation:  0.89522139022954\n"
     ]
    },
    {
     "name": "stderr",
     "output_type": "stream",
     "text": [
      "\r",
      "Treinamento:  98%|█████████▊| 118/120 [45:25<01:28, 44.02s/it]"
     ]
    },
    {
     "name": "stdout",
     "output_type": "stream",
     "text": [
      "Mean f1: 0.895\n",
      "Accuracy test: 0.891\n",
      "Parameters:  {'n_estimators': 390, 'criterion': 'entropy', 'max_features': 'sqrt'}\n",
      "Score of validation:  0.8951348518385386\n"
     ]
    },
    {
     "name": "stderr",
     "output_type": "stream",
     "text": [
      "\r",
      "Treinamento:  99%|█████████▉| 119/120 [48:00<01:17, 77.23s/it]"
     ]
    },
    {
     "name": "stdout",
     "output_type": "stream",
     "text": [
      "Mean f1: 0.895\n",
      "Accuracy test: 0.891\n",
      "Parameters:  {'n_estimators': 390, 'criterion': 'entropy', 'max_features': 'auto'}\n",
      "Score of validation:  0.8951348518385386\n"
     ]
    },
    {
     "name": "stderr",
     "output_type": "stream",
     "text": [
      "Treinamento: 100%|██████████| 120/120 [48:36<00:00, 24.30s/it]"
     ]
    },
    {
     "name": "stdout",
     "output_type": "stream",
     "text": [
      "Mean f1: 0.895\n",
      "Accuracy test: 0.890\n",
      "Parameters:  {'n_estimators': 390, 'criterion': 'entropy', 'max_features': 'log2'}\n",
      "Score of validation:  0.8950770651006117\n",
      "------------------------------\n",
      "Best parameters:  {'n_estimators': 330, 'criterion': 'entropy', 'max_features': 'sqrt'}\n",
      "Best validation score:  0.8956256306357074\n",
      "Best validation score:  0.8916734033953112\n"
     ]
    },
    {
     "name": "stderr",
     "output_type": "stream",
     "text": [
      "\n"
     ]
    }
   ],
   "source": [
    "scores_test, best_score_test, scores_valid, best_score_valid, params, best_params = search_cross_valid(search_space, X_train, y_train)"
   ]
  },
  {
   "cell_type": "code",
   "execution_count": 13,
   "id": "a86d529a",
   "metadata": {},
   "outputs": [
    {
     "data": {
      "image/png": "[encoded data removed]",
      "text/plain": [
       "<Figure size 432x288 with 1 Axes>"
      ]
     },
     "metadata": {
      "needs_background": "light"
     },
     "output_type": "display_data"
    }
   ],
   "source": [
    "plt.boxplot([scores_test, scores_valid], labels=['test', 'valid'], showmeans=True)\n",
    "plt.show()"
   ]
  },
  {
   "cell_type": "code",
   "execution_count": 14,
   "id": "d5640337",
   "metadata": {},
   "outputs": [
    {
     "name": "stdout",
     "output_type": "stream",
     "text": [
      "Test\n",
      "Mean:  0.8913760249451438   ----  Standard deviation:  0.0010079667638178678\n",
      "-------------------------\n",
      "Validation\n",
      "Mean:  0.8945578245427245   ----  Standard deviation:  0.001099249255435669\n"
     ]
    }
   ],
   "source": [
    "print(\"Test\")\n",
    "print('Mean: ', np.mean(scores_test), '  ----  Standard deviation: ', np.std(scores_test))\n",
    "print('-------------------------')\n",
    "print('Validation')\n",
    "print('Mean: ', np.mean(scores_valid), '  ----  Standard deviation: ', np.std(scores_valid))"
   ]
  },
  {
   "cell_type": "markdown",
   "id": "71b1b5f9",
   "metadata": {},
   "source": [
    "The mean of the results is 0.89, but in the data this is because the data is unbalanced and for the majority class the model is very correct, but for the minority class it is very wrong."
   ]
  },
  {
   "cell_type": "markdown",
   "id": "13e4cd37",
   "metadata": {},
   "source": [
    "### Saving models results"
   ]
  },
  {
   "cell_type": "code",
   "execution_count": 15,
   "id": "8db5ac96",
   "metadata": {},
   "outputs": [
    {
     "data": {
      "text/html": [
       "<div>\n",
       "<style scoped>\n",
       "    .dataframe tbody tr th:only-of-type {\n",
       "        vertical-align: middle;\n",
       "    }\n",
       "\n",
       "    .dataframe tbody tr th {\n",
       "        vertical-align: top;\n",
       "    }\n",
       "\n",
       "    .dataframe thead th {\n",
       "        text-align: right;\n",
       "    }\n",
       "</style>\n",
       "<table border=\"1\" class=\"dataframe\">\n",
       "  <thead>\n",
       "    <tr style=\"text-align: right;\">\n",
       "      <th></th>\n",
       "      <th>model</th>\n",
       "      <th>parameters</th>\n",
       "      <th>valid_score</th>\n",
       "    </tr>\n",
       "  </thead>\n",
       "  <tbody>\n",
       "    <tr>\n",
       "      <th>0</th>\n",
       "      <td>Random Forest</td>\n",
       "      <td>{'n_estimators': 10, 'criterion': 'gini', 'max...</td>\n",
       "      <td>0.889822</td>\n",
       "    </tr>\n",
       "    <tr>\n",
       "      <th>1</th>\n",
       "      <td>Random Forest</td>\n",
       "      <td>{'n_estimators': 10, 'criterion': 'gini', 'max...</td>\n",
       "      <td>0.889822</td>\n",
       "    </tr>\n",
       "    <tr>\n",
       "      <th>2</th>\n",
       "      <td>Random Forest</td>\n",
       "      <td>{'n_estimators': 10, 'criterion': 'gini', 'max...</td>\n",
       "      <td>0.890573</td>\n",
       "    </tr>\n",
       "    <tr>\n",
       "      <th>3</th>\n",
       "      <td>Random Forest</td>\n",
       "      <td>{'n_estimators': 10, 'criterion': 'entropy', '...</td>\n",
       "      <td>0.890429</td>\n",
       "    </tr>\n",
       "    <tr>\n",
       "      <th>4</th>\n",
       "      <td>Random Forest</td>\n",
       "      <td>{'n_estimators': 10, 'criterion': 'entropy', '...</td>\n",
       "      <td>0.890429</td>\n",
       "    </tr>\n",
       "    <tr>\n",
       "      <th>...</th>\n",
       "      <td>...</td>\n",
       "      <td>...</td>\n",
       "      <td>...</td>\n",
       "    </tr>\n",
       "    <tr>\n",
       "      <th>115</th>\n",
       "      <td>Random Forest</td>\n",
       "      <td>{'n_estimators': 390, 'criterion': 'gini', 'ma...</td>\n",
       "      <td>0.894644</td>\n",
       "    </tr>\n",
       "    <tr>\n",
       "      <th>116</th>\n",
       "      <td>Random Forest</td>\n",
       "      <td>{'n_estimators': 390, 'criterion': 'gini', 'ma...</td>\n",
       "      <td>0.895221</td>\n",
       "    </tr>\n",
       "    <tr>\n",
       "      <th>117</th>\n",
       "      <td>Random Forest</td>\n",
       "      <td>{'n_estimators': 390, 'criterion': 'entropy', ...</td>\n",
       "      <td>0.895135</td>\n",
       "    </tr>\n",
       "    <tr>\n",
       "      <th>118</th>\n",
       "      <td>Random Forest</td>\n",
       "      <td>{'n_estimators': 390, 'criterion': 'entropy', ...</td>\n",
       "      <td>0.895135</td>\n",
       "    </tr>\n",
       "    <tr>\n",
       "      <th>119</th>\n",
       "      <td>Random Forest</td>\n",
       "      <td>{'n_estimators': 390, 'criterion': 'entropy', ...</td>\n",
       "      <td>0.895077</td>\n",
       "    </tr>\n",
       "  </tbody>\n",
       "</table>\n",
       "<p>120 rows × 3 columns</p>\n",
       "</div>"
      ],
      "text/plain": [
       "             model                                         parameters  \\\n",
       "0    Random Forest  {'n_estimators': 10, 'criterion': 'gini', 'max...   \n",
       "1    Random Forest  {'n_estimators': 10, 'criterion': 'gini', 'max...   \n",
       "2    Random Forest  {'n_estimators': 10, 'criterion': 'gini', 'max...   \n",
       "3    Random Forest  {'n_estimators': 10, 'criterion': 'entropy', '...   \n",
       "4    Random Forest  {'n_estimators': 10, 'criterion': 'entropy', '...   \n",
       "..             ...                                                ...   \n",
       "115  Random Forest  {'n_estimators': 390, 'criterion': 'gini', 'ma...   \n",
       "116  Random Forest  {'n_estimators': 390, 'criterion': 'gini', 'ma...   \n",
       "117  Random Forest  {'n_estimators': 390, 'criterion': 'entropy', ...   \n",
       "118  Random Forest  {'n_estimators': 390, 'criterion': 'entropy', ...   \n",
       "119  Random Forest  {'n_estimators': 390, 'criterion': 'entropy', ...   \n",
       "\n",
       "     valid_score  \n",
       "0       0.889822  \n",
       "1       0.889822  \n",
       "2       0.890573  \n",
       "3       0.890429  \n",
       "4       0.890429  \n",
       "..           ...  \n",
       "115     0.894644  \n",
       "116     0.895221  \n",
       "117     0.895135  \n",
       "118     0.895135  \n",
       "119     0.895077  \n",
       "\n",
       "[120 rows x 3 columns]"
      ]
     },
     "execution_count": 15,
     "metadata": {},
     "output_type": "execute_result"
    }
   ],
   "source": [
    "results_rf = pd.DataFrame({'model': 'Random Forest', 'parameters': params, 'valid_score': scores_valid})\n",
    "\n",
    "results_rf"
   ]
  },
  {
   "cell_type": "code",
   "execution_count": 40,
   "id": "a1136b85",
   "metadata": {},
   "outputs": [],
   "source": [
    "results_rf_bests = results_rf.sort_values(by=['valid_score'], ascending=False).iloc[:10]"
   ]
  },
  {
   "cell_type": "code",
   "execution_count": 41,
   "id": "9e93b54e",
   "metadata": {},
   "outputs": [
    {
     "data": {
      "text/html": [
       "<div>\n",
       "<style scoped>\n",
       "    .dataframe tbody tr th:only-of-type {\n",
       "        vertical-align: middle;\n",
       "    }\n",
       "\n",
       "    .dataframe tbody tr th {\n",
       "        vertical-align: top;\n",
       "    }\n",
       "\n",
       "    .dataframe thead th {\n",
       "        text-align: right;\n",
       "    }\n",
       "</style>\n",
       "<table border=\"1\" class=\"dataframe\">\n",
       "  <thead>\n",
       "    <tr style=\"text-align: right;\">\n",
       "      <th></th>\n",
       "      <th>model</th>\n",
       "      <th>parameters</th>\n",
       "      <th>valid_score</th>\n",
       "    </tr>\n",
       "  </thead>\n",
       "  <tbody>\n",
       "    <tr>\n",
       "      <th>99</th>\n",
       "      <td>Random Forest</td>\n",
       "      <td>{'n_estimators': 330, 'criterion': 'entropy', ...</td>\n",
       "      <td>0.895626</td>\n",
       "    </tr>\n",
       "    <tr>\n",
       "      <th>100</th>\n",
       "      <td>Random Forest</td>\n",
       "      <td>{'n_estimators': 330, 'criterion': 'entropy', ...</td>\n",
       "      <td>0.895626</td>\n",
       "    </tr>\n",
       "    <tr>\n",
       "      <th>56</th>\n",
       "      <td>Random Forest</td>\n",
       "      <td>{'n_estimators': 190, 'criterion': 'gini', 'ma...</td>\n",
       "      <td>0.895539</td>\n",
       "    </tr>\n",
       "    <tr>\n",
       "      <th>83</th>\n",
       "      <td>Random Forest</td>\n",
       "      <td>{'n_estimators': 270, 'criterion': 'entropy', ...</td>\n",
       "      <td>0.895395</td>\n",
       "    </tr>\n",
       "    <tr>\n",
       "      <th>106</th>\n",
       "      <td>Random Forest</td>\n",
       "      <td>{'n_estimators': 350, 'criterion': 'entropy', ...</td>\n",
       "      <td>0.895395</td>\n",
       "    </tr>\n",
       "    <tr>\n",
       "      <th>105</th>\n",
       "      <td>Random Forest</td>\n",
       "      <td>{'n_estimators': 350, 'criterion': 'entropy', ...</td>\n",
       "      <td>0.895395</td>\n",
       "    </tr>\n",
       "    <tr>\n",
       "      <th>93</th>\n",
       "      <td>Random Forest</td>\n",
       "      <td>{'n_estimators': 310, 'criterion': 'entropy', ...</td>\n",
       "      <td>0.895308</td>\n",
       "    </tr>\n",
       "    <tr>\n",
       "      <th>94</th>\n",
       "      <td>Random Forest</td>\n",
       "      <td>{'n_estimators': 310, 'criterion': 'entropy', ...</td>\n",
       "      <td>0.895308</td>\n",
       "    </tr>\n",
       "    <tr>\n",
       "      <th>62</th>\n",
       "      <td>Random Forest</td>\n",
       "      <td>{'n_estimators': 210, 'criterion': 'gini', 'ma...</td>\n",
       "      <td>0.895308</td>\n",
       "    </tr>\n",
       "    <tr>\n",
       "      <th>110</th>\n",
       "      <td>Random Forest</td>\n",
       "      <td>{'n_estimators': 370, 'criterion': 'gini', 'ma...</td>\n",
       "      <td>0.895308</td>\n",
       "    </tr>\n",
       "  </tbody>\n",
       "</table>\n",
       "</div>"
      ],
      "text/plain": [
       "             model                                         parameters  \\\n",
       "99   Random Forest  {'n_estimators': 330, 'criterion': 'entropy', ...   \n",
       "100  Random Forest  {'n_estimators': 330, 'criterion': 'entropy', ...   \n",
       "56   Random Forest  {'n_estimators': 190, 'criterion': 'gini', 'ma...   \n",
       "83   Random Forest  {'n_estimators': 270, 'criterion': 'entropy', ...   \n",
       "106  Random Forest  {'n_estimators': 350, 'criterion': 'entropy', ...   \n",
       "105  Random Forest  {'n_estimators': 350, 'criterion': 'entropy', ...   \n",
       "93   Random Forest  {'n_estimators': 310, 'criterion': 'entropy', ...   \n",
       "94   Random Forest  {'n_estimators': 310, 'criterion': 'entropy', ...   \n",
       "62   Random Forest  {'n_estimators': 210, 'criterion': 'gini', 'ma...   \n",
       "110  Random Forest  {'n_estimators': 370, 'criterion': 'gini', 'ma...   \n",
       "\n",
       "     valid_score  \n",
       "99      0.895626  \n",
       "100     0.895626  \n",
       "56      0.895539  \n",
       "83      0.895395  \n",
       "106     0.895395  \n",
       "105     0.895395  \n",
       "93      0.895308  \n",
       "94      0.895308  \n",
       "62      0.895308  \n",
       "110     0.895308  "
      ]
     },
     "execution_count": 41,
     "metadata": {},
     "output_type": "execute_result"
    }
   ],
   "source": [
    "results_rf_bests"
   ]
  },
  {
   "cell_type": "code",
   "execution_count": 42,
   "id": "d0e7afb0",
   "metadata": {},
   "outputs": [],
   "source": [
    "results_rf_bests.to_csv(\"../models/random_forest_results.csv\", index=False)"
   ]
  },
  {
   "cell_type": "markdown",
   "id": "a88447ea",
   "metadata": {},
   "source": [
    "## Instantiating model with best parameters\n",
    "\n",
    "The best parameter set was {'n_estimators': 1, 'criterion': 'gini', 'max_features': 'auto'}."
   ]
  },
  {
   "cell_type": "code",
   "execution_count": 18,
   "id": "38b1b1e3",
   "metadata": {},
   "outputs": [
    {
     "data": {
      "text/plain": [
       "{'n_estimators': 330, 'criterion': 'entropy', 'max_features': 'sqrt'}"
      ]
     },
     "execution_count": 18,
     "metadata": {},
     "output_type": "execute_result"
    }
   ],
   "source": [
    "best_params"
   ]
  },
  {
   "cell_type": "code",
   "execution_count": 19,
   "id": "cb25b7dc",
   "metadata": {},
   "outputs": [],
   "source": [
    "model_best = RandomForestClassifier(**best_params, random_state=SEED)"
   ]
  },
  {
   "cell_type": "markdown",
   "id": "ea587bde",
   "metadata": {},
   "source": [
    "## Training Model"
   ]
  },
  {
   "cell_type": "code",
   "execution_count": 20,
   "id": "59385a72",
   "metadata": {},
   "outputs": [
    {
     "data": {
      "text/plain": [
       "RandomForestClassifier(criterion='entropy', max_features='sqrt',\n",
       "                       n_estimators=330, random_state=42)"
      ]
     },
     "execution_count": 20,
     "metadata": {},
     "output_type": "execute_result"
    }
   ],
   "source": [
    "model_best.fit(X_train, y_train)"
   ]
  },
  {
   "cell_type": "markdown",
   "id": "c49f7866",
   "metadata": {},
   "source": [
    "## Model testing with unbalanced data"
   ]
  },
  {
   "cell_type": "code",
   "execution_count": 21,
   "id": "3b4e0dc4",
   "metadata": {},
   "outputs": [
    {
     "name": "stdout",
     "output_type": "stream",
     "text": [
      "              precision    recall  f1-score   support\n",
      "\n",
      "           0       0.90      0.98      0.94      7652\n",
      "           1       0.60      0.21      0.31      1007\n",
      "\n",
      "    accuracy                           0.89      8659\n",
      "   macro avg       0.75      0.59      0.62      8659\n",
      "weighted avg       0.87      0.89      0.87      8659\n",
      "\n"
     ]
    }
   ],
   "source": [
    "print(classification_report(y_test, model_best.predict(X_test)))"
   ]
  },
  {
   "cell_type": "markdown",
   "id": "4a4e68a3",
   "metadata": {},
   "source": [
    "The model's accuracy was 0,89. It is worth mentioning that the database was unbalanced and that the model performance improved after we balanced."
   ]
  },
  {
   "cell_type": "code",
   "execution_count": 22,
   "id": "6d355f2e",
   "metadata": {},
   "outputs": [
    {
     "data": {
      "text/plain": [
       "<sklearn.metrics._plot.confusion_matrix.ConfusionMatrixDisplay at 0x2c2010a5d90>"
      ]
     },
     "execution_count": 22,
     "metadata": {},
     "output_type": "execute_result"
    },
    {
     "data": {
      "image/png": "[encoded data removed]",
      "text/plain": [
       "<Figure size 432x288 with 2 Axes>"
      ]
     },
     "metadata": {
      "needs_background": "light"
     },
     "output_type": "display_data"
    }
   ],
   "source": [
    "ConfusionMatrixDisplay.from_estimator(model_best, X_test, y_test, cmap='Blues', values_format='d')"
   ]
  },
  {
   "cell_type": "markdown",
   "id": "8f93e2b7",
   "metadata": {},
   "source": [
    "In the confusion matrix, we observed that 798 were predictions of class 0, but actually of class 1. While only 209 records were predicted as of class 0 and class 1. This higher number of hits of class 0 is justified by the fact of having more records of that class and the model can learn more about the behavior of the data of that class."
   ]
  },
  {
   "cell_type": "markdown",
   "id": "417c6f9a",
   "metadata": {},
   "source": [
    "# Balanced Data"
   ]
  },
  {
   "cell_type": "markdown",
   "id": "1498180b",
   "metadata": {},
   "source": [
    "## Over Sampling Method"
   ]
  },
  {
   "cell_type": "code",
   "execution_count": 23,
   "id": "ee82e439",
   "metadata": {},
   "outputs": [],
   "source": [
    "X_train_oversample, y_train_oversample = RandomOverSampler(random_state=42).fit_resample(X_train, y_train)"
   ]
  },
  {
   "cell_type": "code",
   "execution_count": 24,
   "id": "6cf9de64",
   "metadata": {},
   "outputs": [
    {
     "data": {
      "text/plain": [
       "0.5"
      ]
     },
     "execution_count": 24,
     "metadata": {},
     "output_type": "execute_result"
    }
   ],
   "source": [
    "y_train_oversample.mean()"
   ]
  },
  {
   "cell_type": "code",
   "execution_count": 25,
   "id": "2c7733d1",
   "metadata": {},
   "outputs": [],
   "source": [
    "model_best_balanced = RandomForestClassifier(**best_params, random_state=SEED)"
   ]
  },
  {
   "cell_type": "code",
   "execution_count": 26,
   "id": "d835936c",
   "metadata": {},
   "outputs": [
    {
     "data": {
      "text/plain": [
       "RandomForestClassifier(criterion='entropy', max_features='sqrt',\n",
       "                       n_estimators=330, random_state=42)"
      ]
     },
     "execution_count": 26,
     "metadata": {},
     "output_type": "execute_result"
    }
   ],
   "source": [
    "model_best_balanced.fit(X_train_oversample, y_train_oversample)"
   ]
  },
  {
   "cell_type": "code",
   "execution_count": 27,
   "id": "61fb5534",
   "metadata": {},
   "outputs": [
    {
     "name": "stdout",
     "output_type": "stream",
     "text": [
      "              precision    recall  f1-score   support\n",
      "\n",
      "           0       0.91      0.96      0.94      7652\n",
      "           1       0.52      0.30      0.38      1007\n",
      "\n",
      "    accuracy                           0.89      8659\n",
      "   macro avg       0.71      0.63      0.66      8659\n",
      "weighted avg       0.87      0.89      0.87      8659\n",
      "\n"
     ]
    }
   ],
   "source": [
    "print(classification_report(y_test, model_best_balanced.predict(X_test)))"
   ]
  },
  {
   "cell_type": "code",
   "execution_count": 28,
   "id": "bd0f9d6c",
   "metadata": {},
   "outputs": [
    {
     "data": {
      "text/plain": [
       "<sklearn.metrics._plot.confusion_matrix.ConfusionMatrixDisplay at 0x2c200fe6af0>"
      ]
     },
     "execution_count": 28,
     "metadata": {},
     "output_type": "execute_result"
    },
    {
     "data": {
      "image/png": "[encoded data removed]",
      "text/plain": [
       "<Figure size 432x288 with 2 Axes>"
      ]
     },
     "metadata": {
      "needs_background": "light"
     },
     "output_type": "display_data"
    }
   ],
   "source": [
    "ConfusionMatrixDisplay.from_estimator(model_best_balanced, X_test, y_test, cmap='Blues', values_format='d')"
   ]
  },
  {
   "cell_type": "markdown",
   "id": "f763caa8",
   "metadata": {},
   "source": [
    "In the confusion matrix, we observed that 705 were predictions of class 0, but actually of class 1. While only 302 records were predicted as of class 0 and class 1."
   ]
  },
  {
   "cell_type": "markdown",
   "id": "d34ae4c8",
   "metadata": {},
   "source": [
    "## Under Sampling Method"
   ]
  },
  {
   "cell_type": "code",
   "execution_count": 29,
   "id": "9cb76916",
   "metadata": {},
   "outputs": [
    {
     "data": {
      "text/plain": [
       "RandomForestClassifier(criterion='entropy', max_features='sqrt',\n",
       "                       n_estimators=330, random_state=42)"
      ]
     },
     "execution_count": 29,
     "metadata": {},
     "output_type": "execute_result"
    }
   ],
   "source": [
    "from imblearn.under_sampling import RepeatedEditedNearestNeighbours \n",
    "\n",
    "X_train_upsample, y_train_upsample = RepeatedEditedNearestNeighbours().fit_resample(X_train, y_train)\n",
    "model_best_balanced = RandomForestClassifier(**best_params, random_state=SEED)\n",
    "model_best_balanced.fit(X_train_upsample, y_train_upsample)"
   ]
  },
  {
   "cell_type": "code",
   "execution_count": 30,
   "id": "14b5a550",
   "metadata": {},
   "outputs": [
    {
     "name": "stdout",
     "output_type": "stream",
     "text": [
      "              precision    recall  f1-score   support\n",
      "\n",
      "           0       0.92      0.94      0.93      7652\n",
      "           1       0.46      0.42      0.44      1007\n",
      "\n",
      "    accuracy                           0.88      8659\n",
      "   macro avg       0.69      0.68      0.68      8659\n",
      "weighted avg       0.87      0.88      0.87      8659\n",
      "\n"
     ]
    }
   ],
   "source": [
    "print(classification_report(y_test, model_best_balanced.predict(X_test)))"
   ]
  },
  {
   "cell_type": "code",
   "execution_count": 31,
   "id": "48fa0401",
   "metadata": {},
   "outputs": [
    {
     "data": {
      "text/plain": [
       "<sklearn.metrics._plot.confusion_matrix.ConfusionMatrixDisplay at 0x2c20130cf10>"
      ]
     },
     "execution_count": 31,
     "metadata": {},
     "output_type": "execute_result"
    },
    {
     "data": {
      "image/png": "[encoded data removed]",
      "text/plain": [
       "<Figure size 432x288 with 2 Axes>"
      ]
     },
     "metadata": {
      "needs_background": "light"
     },
     "output_type": "display_data"
    }
   ],
   "source": [
    "ConfusionMatrixDisplay.from_estimator(model_best_balanced, X_test, y_test, cmap='Blues', values_format='d')"
   ]
  },
  {
   "cell_type": "markdown",
   "id": "c830a241",
   "metadata": {},
   "source": [
    "In the confusion matrix, we observed that 587 were predictions of class 0, but actually of class 1. While only 420 records were predicted as of class 0 and class 1."
   ]
  },
  {
   "cell_type": "markdown",
   "id": "a107f178",
   "metadata": {},
   "source": [
    "# Standardization data"
   ]
  },
  {
   "cell_type": "markdown",
   "id": "8b1a5d28",
   "metadata": {},
   "source": [
    "## Train and test"
   ]
  },
  {
   "cell_type": "code",
   "execution_count": 32,
   "id": "364783f0",
   "metadata": {},
   "outputs": [],
   "source": [
    "scaler = MinMaxScaler()\n",
    "scaler.fit(X_train_upsample)\n",
    "\n",
    "X_train_scaled = scaler.transform(X_train_upsample)\n",
    "X_test_scaled = scaler.transform(X_test)"
   ]
  },
  {
   "cell_type": "code",
   "execution_count": 33,
   "id": "3c4268e6",
   "metadata": {},
   "outputs": [],
   "source": [
    "model_scaled = RandomForestClassifier(**best_params, random_state=SEED)"
   ]
  },
  {
   "cell_type": "code",
   "execution_count": 34,
   "id": "746eb0b2",
   "metadata": {},
   "outputs": [
    {
     "data": {
      "text/plain": [
       "RandomForestClassifier(criterion='entropy', max_features='sqrt',\n",
       "                       n_estimators=330, random_state=42)"
      ]
     },
     "execution_count": 34,
     "metadata": {},
     "output_type": "execute_result"
    }
   ],
   "source": [
    "model_scaled.fit(X_train_scaled, y_train_upsample)"
   ]
  },
  {
   "cell_type": "code",
   "execution_count": 35,
   "id": "9477e4b6",
   "metadata": {},
   "outputs": [
    {
     "name": "stdout",
     "output_type": "stream",
     "text": [
      "              precision    recall  f1-score   support\n",
      "\n",
      "           0       0.92      0.94      0.93      7652\n",
      "           1       0.46      0.42      0.44      1007\n",
      "\n",
      "    accuracy                           0.88      8659\n",
      "   macro avg       0.69      0.68      0.68      8659\n",
      "weighted avg       0.87      0.88      0.87      8659\n",
      "\n"
     ]
    }
   ],
   "source": [
    "print(classification_report(y_test, model_scaled.predict(X_test_scaled)))"
   ]
  },
  {
   "cell_type": "code",
   "execution_count": 36,
   "id": "97afcc2a",
   "metadata": {},
   "outputs": [
    {
     "data": {
      "text/plain": [
       "<sklearn.metrics._plot.confusion_matrix.ConfusionMatrixDisplay at 0x2c201352eb0>"
      ]
     },
     "execution_count": 36,
     "metadata": {},
     "output_type": "execute_result"
    },
    {
     "data": {
      "image/png": "[encoded data removed]",
      "text/plain": [
       "<Figure size 432x288 with 2 Axes>"
      ]
     },
     "metadata": {
      "needs_background": "light"
     },
     "output_type": "display_data"
    }
   ],
   "source": [
    "ConfusionMatrixDisplay.from_estimator(model_scaled, X_test_scaled, y_test, cmap='Blues', values_format='d')"
   ]
  },
  {
   "cell_type": "markdown",
   "id": "c0111f92",
   "metadata": {},
   "source": [
    "The results were not changed using the standardization."
   ]
  },
  {
   "cell_type": "markdown",
   "id": "4c19f0c2",
   "metadata": {},
   "source": [
    "# Feature Importances\n",
    "Reference: https://scikit-learn.org/stable/auto_examples/ensemble/plot_forest_importances.html#sphx-glr-auto-examples-ensemble-plot-forest-importances-py"
   ]
  },
  {
   "cell_type": "code",
   "execution_count": 37,
   "id": "af185a5c",
   "metadata": {},
   "outputs": [
    {
     "data": {
      "image/png": "[encoded data removed]",
      "text/plain": [
       "<Figure size 720x504 with 1 Axes>"
      ]
     },
     "metadata": {
      "needs_background": "light"
     },
     "output_type": "display_data"
    }
   ],
   "source": [
    "feature_names = list(df.columns)\n",
    "feature_names.remove('y')\n",
    "feature_names.remove('duration')\n",
    "\n",
    "importances = model_best_balanced.feature_importances_\n",
    "std = np.std([tree.feature_importances_ for tree in model_best_balanced.estimators_], axis=0)\n",
    "\n",
    "forest_importances = pd.Series(importances, index=feature_names)\n",
    "\n",
    "fig, ax = plt.subplots(figsize=(10, 7))\n",
    "forest_importances.plot.bar(yerr=std, ax=ax)\n",
    "ax.set_title(\"Feature importances using Bank Marketing Dataset\")\n",
    "ax.set_ylabel(\"Mean decrease in impurity\")\n",
    "fig.tight_layout()"
   ]
  },
  {
   "cell_type": "markdown",
   "id": "f323d2a6",
   "metadata": {},
   "source": [
    "The five most important columns for the model are balance, age, day, campaign and pdays, respectively."
   ]
  },
  {
   "cell_type": "markdown",
   "id": "2f104f48",
   "metadata": {},
   "source": [
    "# Exporting model\n",
    "\n",
    "Reference: https://scikit-learn.org/stable/modules/model_persistence.html"
   ]
  },
  {
   "cell_type": "code",
   "execution_count": 38,
   "id": "83a06686",
   "metadata": {},
   "outputs": [
    {
     "data": {
      "text/plain": [
       "['../models/random_forest.joblib']"
      ]
     },
     "execution_count": 38,
     "metadata": {},
     "output_type": "execute_result"
    }
   ],
   "source": [
    "dump(model_scaled, '../models/random_forest.joblib') "
   ]
  }
 ],
 "metadata": {
  "kernelspec": {
   "display_name": "Python 3 (ipykernel)",
   "language": "python",
   "name": "python3"
  },
  "language_info": {
   "codemirror_mode": {
    "name": "ipython",
    "version": 3
   },
   "file_extension": ".py",
   "mimetype": "text/x-python",
   "name": "python",
   "nbconvert_exporter": "python",
   "pygments_lexer": "ipython3",
   "version": "3.9.7"
  }
 },
 "nbformat": 4,
 "nbformat_minor": 5
}
