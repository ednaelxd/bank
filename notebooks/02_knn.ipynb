{
 "cells": [
  {
   "cell_type": "markdown",
   "id": "d5ed0c07",
   "metadata": {},
   "source": [
    "# Initialization\n",
    "\n",
    "- Load Data (pre-processed)\n",
    "- separete data in X and y, the, do the train/test/split\n",
    "\n",
    "# Runing models\n",
    "\n",
    "- Run model\n",
    "- Execution of the Fine Tuning\n",
    "- Repeat de process for the KNN and Bayes"
   ]
  },
  {
   "cell_type": "code",
   "execution_count": 35,
   "id": "9b00f0be",
   "metadata": {},
   "outputs": [],
   "source": [
    "import pandas as pd \n",
    "import numpy as np\n",
    "from sklearn.datasets import make_classification\n",
    "from sklearn.model_selection import train_test_split \n",
    "from sklearn.neighbors import KNeighborsClassifier \n",
    "from sklearn.metrics import f1_score\n",
    "from sklearn.metrics import classification_report\n",
    "from utils import train_and_search, plot_results, handle_param_names, show_value_counts, plot_grid, plot_cf_matrix"
   ]
  },
  {
   "cell_type": "code",
   "execution_count": 5,
   "id": "238b4455",
   "metadata": {},
   "outputs": [],
   "source": [
    "bank = pd.read_csv('../dataset/bank-preprocessed.csv')"
   ]
  },
  {
   "cell_type": "code",
   "execution_count": 62,
   "id": "e5ecca55",
   "metadata": {},
   "outputs": [],
   "source": [
    "X = bank.drop('y', axis=1)\n",
    "y = bank['y']"
   ]
  },
  {
   "cell_type": "code",
   "execution_count": 7,
   "id": "ba79a9fd",
   "metadata": {},
   "outputs": [
    {
     "data": {
      "text/plain": [
       "0    38257\n",
       "1     5037\n",
       "Name: y, dtype: int64"
      ]
     },
     "execution_count": 7,
     "metadata": {},
     "output_type": "execute_result"
    }
   ],
   "source": [
    "bank['y'].value_counts()"
   ]
  },
  {
   "cell_type": "markdown",
   "id": "b05e3a9e",
   "metadata": {},
   "source": [
    "Separating the data"
   ]
  },
  {
   "cell_type": "code",
   "execution_count": 63,
   "id": "1c3f6207",
   "metadata": {},
   "outputs": [],
   "source": [
    "SEED = 42\n",
    "X_train, X_test, y_train, y_test = train_test_split(X, y, test_size = 0.20, random_state = SEED, stratify=y)"
   ]
  },
  {
   "cell_type": "markdown",
   "id": "44aa4339",
   "metadata": {},
   "source": [
    "Defining model and parameters"
   ]
  },
  {
   "cell_type": "code",
   "execution_count": 10,
   "id": "20c1c406",
   "metadata": {},
   "outputs": [],
   "source": [
    "model = KNeighborsClassifier()"
   ]
  },
  {
   "cell_type": "code",
   "execution_count": 12,
   "id": "51fa29a3",
   "metadata": {},
   "outputs": [],
   "source": [
    "from itertools import product\n",
    "alth = ['auto', 'ball_tree', 'kd_tree', 'brute']\n",
    "wg = ['uniform','distance']\n",
    "metric = ['euclidean','manhattan']\n",
    "\n",
    "search_space = tuple(product(alth,wg,metric))"
   ]
  },
  {
   "cell_type": "code",
   "execution_count": 22,
   "id": "7fe52917",
   "metadata": {},
   "outputs": [],
   "source": [
    "from tqdm import tqdm \n",
    "from sklearn.model_selection import KFold, StratifiedKFold, RepeatedStratifiedKFold, cross_val_score\n",
    "from imblearn.pipeline import Pipeline\n",
    "\n",
    "def search_cross_valid(search_space, X_train, y_train, SEED=42):\n",
    "    scores_valid, params = [], []\n",
    "\n",
    "    for alth, wg, metric in tqdm(search_space, desc=\"Training: \"):\n",
    "        model = KNeighborsClassifier(algorithm=alth, weights=wg, metric=metric)\n",
    "\n",
    "        cv = StratifiedKFold(n_splits=10, random_state=SEED, shuffle=True)\n",
    "\n",
    "        steps = [('model', model)]\n",
    "        pipeline = Pipeline(steps=steps)\n",
    "\n",
    "        scores = cross_val_score(pipeline, X_train, y_train, scoring='f1_micro', cv=cv, n_jobs=-1)\n",
    "        print('Mean f1: %.3f' % np.mean(scores))\n",
    "\n",
    "        parm = dict(algorithm=alth, weights=wg, metric=metric)\n",
    "\n",
    "        print(\"Parameters: \", parm)\n",
    "        print(\"Score of validation: \", np.mean(scores))\n",
    "\n",
    "        scores_valid.append(np.mean(scores))\n",
    "        params.append(parm)\n",
    "\n",
    "    scores_train = []\n",
    "    scores_train.append(0)\n",
    "    zipped_results = zip(scores_train, scores_valid, params)\n",
    "    best_result =  max(zipped_results, key = lambda res: res[1])\n",
    "    best_scores_train, best_score_valid, best_params = best_result\n",
    "\n",
    "    print('------------------------------')\n",
    "    print(\"Melhores parâmetros: \", best_params)\n",
    "    print(\"Melhor score de validação: \", best_score_valid)\n",
    "    \n",
    "    return scores_valid, best_score_valid, params, best_params"
   ]
  },
  {
   "cell_type": "code",
   "execution_count": 23,
   "id": "fa051f1d",
   "metadata": {
    "scrolled": false
   },
   "outputs": [
    {
     "name": "stderr",
     "output_type": "stream",
     "text": [
      "Training:   6%|████▌                                                                    | 1/16 [00:43<10:56, 43.79s/it]"
     ]
    },
    {
     "name": "stdout",
     "output_type": "stream",
     "text": [
      "Mean f1: 0.882\n",
      "Parameters:  {'algorithm': 'auto', 'weights': 'uniform', 'metric': 'euclidean'}\n",
      "Score of validation:  0.882228752453352\n"
     ]
    },
    {
     "name": "stderr",
     "output_type": "stream",
     "text": [
      "\r",
      "Training:  12%|█████████▏                                                               | 2/16 [01:12<08:11, 35.09s/it]"
     ]
    },
    {
     "name": "stdout",
     "output_type": "stream",
     "text": [
      "Mean f1: 0.885\n",
      "Parameters:  {'algorithm': 'auto', 'weights': 'uniform', 'metric': 'manhattan'}\n",
      "Score of validation:  0.8854047055677338\n"
     ]
    },
    {
     "name": "stderr",
     "output_type": "stream",
     "text": [
      "\r",
      "Training:  19%|█████████████▋                                                           | 3/16 [02:00<08:51, 40.88s/it]"
     ]
    },
    {
     "name": "stdout",
     "output_type": "stream",
     "text": [
      "Mean f1: 0.883\n",
      "Parameters:  {'algorithm': 'auto', 'weights': 'distance', 'metric': 'euclidean'}\n",
      "Score of validation:  0.8826908046061333\n"
     ]
    },
    {
     "name": "stderr",
     "output_type": "stream",
     "text": [
      "\r",
      "Training:  25%|██████████████████▎                                                      | 4/16 [02:29<07:12, 36.03s/it]"
     ]
    },
    {
     "name": "stdout",
     "output_type": "stream",
     "text": [
      "Mean f1: 0.885\n",
      "Parameters:  {'algorithm': 'auto', 'weights': 'distance', 'metric': 'manhattan'}\n",
      "Score of validation:  0.8848562484036122\n"
     ]
    },
    {
     "name": "stderr",
     "output_type": "stream",
     "text": [
      "\r",
      "Training:  31%|██████████████████████▊                                                  | 5/16 [02:33<04:31, 24.70s/it]"
     ]
    },
    {
     "name": "stdout",
     "output_type": "stream",
     "text": [
      "Mean f1: 0.882\n",
      "Parameters:  {'algorithm': 'ball_tree', 'weights': 'uniform', 'metric': 'euclidean'}\n",
      "Score of validation:  0.882228752453352\n"
     ]
    },
    {
     "name": "stderr",
     "output_type": "stream",
     "text": [
      "\r",
      "Training:  38%|███████████████████████████▍                                             | 6/16 [02:37<02:54, 17.47s/it]"
     ]
    },
    {
     "name": "stdout",
     "output_type": "stream",
     "text": [
      "Mean f1: 0.886\n",
      "Parameters:  {'algorithm': 'ball_tree', 'weights': 'uniform', 'metric': 'manhattan'}\n",
      "Score of validation:  0.8858089459739016\n"
     ]
    },
    {
     "name": "stderr",
     "output_type": "stream",
     "text": [
      "\r",
      "Training:  44%|███████████████████████████████▉                                         | 7/16 [02:41<01:58, 13.19s/it]"
     ]
    },
    {
     "name": "stdout",
     "output_type": "stream",
     "text": [
      "Mean f1: 0.883\n",
      "Parameters:  {'algorithm': 'ball_tree', 'weights': 'distance', 'metric': 'euclidean'}\n",
      "Score of validation:  0.8826908046061333\n"
     ]
    },
    {
     "name": "stderr",
     "output_type": "stream",
     "text": [
      "\r",
      "Training:  50%|████████████████████████████████████▌                                    | 8/16 [02:44<01:20, 10.05s/it]"
     ]
    },
    {
     "name": "stdout",
     "output_type": "stream",
     "text": [
      "Mean f1: 0.885\n",
      "Parameters:  {'algorithm': 'ball_tree', 'weights': 'distance', 'metric': 'manhattan'}\n",
      "Score of validation:  0.8852027270805394\n"
     ]
    },
    {
     "name": "stderr",
     "output_type": "stream",
     "text": [
      "\r",
      "Training:  56%|█████████████████████████████████████████                                | 9/16 [02:46<00:51,  7.35s/it]"
     ]
    },
    {
     "name": "stdout",
     "output_type": "stream",
     "text": [
      "Mean f1: 0.882\n",
      "Parameters:  {'algorithm': 'kd_tree', 'weights': 'uniform', 'metric': 'euclidean'}\n",
      "Score of validation:  0.8822287441171233\n"
     ]
    },
    {
     "name": "stderr",
     "output_type": "stream",
     "text": [
      "\r",
      "Training:  62%|█████████████████████████████████████████████                           | 10/16 [02:48<00:34,  5.70s/it]"
     ]
    },
    {
     "name": "stdout",
     "output_type": "stream",
     "text": [
      "Mean f1: 0.886\n",
      "Parameters:  {'algorithm': 'kd_tree', 'weights': 'uniform', 'metric': 'manhattan'}\n",
      "Score of validation:  0.8859533294564311\n"
     ]
    },
    {
     "name": "stderr",
     "output_type": "stream",
     "text": [
      "\r",
      "Training:  69%|█████████████████████████████████████████████████▌                      | 11/16 [02:49<00:22,  4.43s/it]"
     ]
    },
    {
     "name": "stdout",
     "output_type": "stream",
     "text": [
      "Mean f1: 0.883\n",
      "Parameters:  {'algorithm': 'kd_tree', 'weights': 'distance', 'metric': 'euclidean'}\n",
      "Score of validation:  0.8826907962699044\n"
     ]
    },
    {
     "name": "stderr",
     "output_type": "stream",
     "text": [
      "\r",
      "Training:  75%|██████████████████████████████████████████████████████                  | 12/16 [02:51<00:14,  3.58s/it]"
     ]
    },
    {
     "name": "stdout",
     "output_type": "stream",
     "text": [
      "Mean f1: 0.885\n",
      "Parameters:  {'algorithm': 'kd_tree', 'weights': 'distance', 'metric': 'manhattan'}\n",
      "Score of validation:  0.8852893571700571\n"
     ]
    },
    {
     "name": "stderr",
     "output_type": "stream",
     "text": [
      "\r",
      "Training:  81%|██████████████████████████████████████████████████████████▌             | 13/16 [03:19<00:32, 10.90s/it]"
     ]
    },
    {
     "name": "stdout",
     "output_type": "stream",
     "text": [
      "Mean f1: 0.882\n",
      "Parameters:  {'algorithm': 'brute', 'weights': 'uniform', 'metric': 'euclidean'}\n",
      "Score of validation:  0.882228752453352\n"
     ]
    },
    {
     "name": "stderr",
     "output_type": "stream",
     "text": [
      "\r",
      "Training:  88%|███████████████████████████████████████████████████████████████         | 14/16 [03:47<00:32, 16.27s/it]"
     ]
    },
    {
     "name": "stdout",
     "output_type": "stream",
     "text": [
      "Mean f1: 0.885\n",
      "Parameters:  {'algorithm': 'brute', 'weights': 'uniform', 'metric': 'manhattan'}\n",
      "Score of validation:  0.8854047055677338\n"
     ]
    },
    {
     "name": "stderr",
     "output_type": "stream",
     "text": [
      "\r",
      "Training:  94%|███████████████████████████████████████████████████████████████████▌    | 15/16 [04:28<00:23, 23.51s/it]"
     ]
    },
    {
     "name": "stdout",
     "output_type": "stream",
     "text": [
      "Mean f1: 0.883\n",
      "Parameters:  {'algorithm': 'brute', 'weights': 'distance', 'metric': 'euclidean'}\n",
      "Score of validation:  0.8826908046061333\n"
     ]
    },
    {
     "name": "stderr",
     "output_type": "stream",
     "text": [
      "Training: 100%|████████████████████████████████████████████████████████████████████████| 16/16 [04:57<00:00, 18.58s/it]"
     ]
    },
    {
     "name": "stdout",
     "output_type": "stream",
     "text": [
      "Mean f1: 0.885\n",
      "Parameters:  {'algorithm': 'brute', 'weights': 'distance', 'metric': 'manhattan'}\n",
      "Score of validation:  0.8848562484036122\n",
      "------------------------------\n",
      "Melhores parâmetros:  {'algorithm': 'auto', 'weights': 'uniform', 'metric': 'euclidean'}\n",
      "Melhor score de validação:  0.882228752453352\n"
     ]
    },
    {
     "name": "stderr",
     "output_type": "stream",
     "text": [
      "\n"
     ]
    }
   ],
   "source": [
    "scores_valid, best_score_valid, params, best_params = search_cross_valid(search_space, X_train, y_train)"
   ]
  },
  {
   "cell_type": "code",
   "execution_count": 68,
   "id": "9c340b44",
   "metadata": {},
   "outputs": [
    {
     "data": {
      "text/html": [
       "<div>\n",
       "<style scoped>\n",
       "    .dataframe tbody tr th:only-of-type {\n",
       "        vertical-align: middle;\n",
       "    }\n",
       "\n",
       "    .dataframe tbody tr th {\n",
       "        vertical-align: top;\n",
       "    }\n",
       "\n",
       "    .dataframe thead th {\n",
       "        text-align: right;\n",
       "    }\n",
       "</style>\n",
       "<table border=\"1\" class=\"dataframe\">\n",
       "  <thead>\n",
       "    <tr style=\"text-align: right;\">\n",
       "      <th></th>\n",
       "      <th>model</th>\n",
       "      <th>parameters</th>\n",
       "      <th>mean_test_score</th>\n",
       "    </tr>\n",
       "  </thead>\n",
       "  <tbody>\n",
       "    <tr>\n",
       "      <th>0</th>\n",
       "      <td>KNN</td>\n",
       "      <td>{'algorithm': 'auto', 'weights': 'uniform', 'metric': 'euclidean'}</td>\n",
       "      <td>0.882229</td>\n",
       "    </tr>\n",
       "    <tr>\n",
       "      <th>1</th>\n",
       "      <td>KNN</td>\n",
       "      <td>{'algorithm': 'auto', 'weights': 'uniform', 'metric': 'manhattan'}</td>\n",
       "      <td>0.885405</td>\n",
       "    </tr>\n",
       "    <tr>\n",
       "      <th>2</th>\n",
       "      <td>KNN</td>\n",
       "      <td>{'algorithm': 'auto', 'weights': 'distance', 'metric': 'euclidean'}</td>\n",
       "      <td>0.882691</td>\n",
       "    </tr>\n",
       "    <tr>\n",
       "      <th>3</th>\n",
       "      <td>KNN</td>\n",
       "      <td>{'algorithm': 'auto', 'weights': 'distance', 'metric': 'manhattan'}</td>\n",
       "      <td>0.884856</td>\n",
       "    </tr>\n",
       "    <tr>\n",
       "      <th>4</th>\n",
       "      <td>KNN</td>\n",
       "      <td>{'algorithm': 'ball_tree', 'weights': 'uniform', 'metric': 'euclidean'}</td>\n",
       "      <td>0.882229</td>\n",
       "    </tr>\n",
       "    <tr>\n",
       "      <th>5</th>\n",
       "      <td>KNN</td>\n",
       "      <td>{'algorithm': 'ball_tree', 'weights': 'uniform', 'metric': 'manhattan'}</td>\n",
       "      <td>0.885809</td>\n",
       "    </tr>\n",
       "    <tr>\n",
       "      <th>6</th>\n",
       "      <td>KNN</td>\n",
       "      <td>{'algorithm': 'ball_tree', 'weights': 'distance', 'metric': 'euclidean'}</td>\n",
       "      <td>0.882691</td>\n",
       "    </tr>\n",
       "    <tr>\n",
       "      <th>7</th>\n",
       "      <td>KNN</td>\n",
       "      <td>{'algorithm': 'ball_tree', 'weights': 'distance', 'metric': 'manhattan'}</td>\n",
       "      <td>0.885203</td>\n",
       "    </tr>\n",
       "    <tr>\n",
       "      <th>8</th>\n",
       "      <td>KNN</td>\n",
       "      <td>{'algorithm': 'kd_tree', 'weights': 'uniform', 'metric': 'euclidean'}</td>\n",
       "      <td>0.882229</td>\n",
       "    </tr>\n",
       "    <tr>\n",
       "      <th>9</th>\n",
       "      <td>KNN</td>\n",
       "      <td>{'algorithm': 'kd_tree', 'weights': 'uniform', 'metric': 'manhattan'}</td>\n",
       "      <td>0.885953</td>\n",
       "    </tr>\n",
       "    <tr>\n",
       "      <th>10</th>\n",
       "      <td>KNN</td>\n",
       "      <td>{'algorithm': 'kd_tree', 'weights': 'distance', 'metric': 'euclidean'}</td>\n",
       "      <td>0.882691</td>\n",
       "    </tr>\n",
       "    <tr>\n",
       "      <th>11</th>\n",
       "      <td>KNN</td>\n",
       "      <td>{'algorithm': 'kd_tree', 'weights': 'distance', 'metric': 'manhattan'}</td>\n",
       "      <td>0.885289</td>\n",
       "    </tr>\n",
       "    <tr>\n",
       "      <th>12</th>\n",
       "      <td>KNN</td>\n",
       "      <td>{'algorithm': 'brute', 'weights': 'uniform', 'metric': 'euclidean'}</td>\n",
       "      <td>0.882229</td>\n",
       "    </tr>\n",
       "    <tr>\n",
       "      <th>13</th>\n",
       "      <td>KNN</td>\n",
       "      <td>{'algorithm': 'brute', 'weights': 'uniform', 'metric': 'manhattan'}</td>\n",
       "      <td>0.885405</td>\n",
       "    </tr>\n",
       "    <tr>\n",
       "      <th>14</th>\n",
       "      <td>KNN</td>\n",
       "      <td>{'algorithm': 'brute', 'weights': 'distance', 'metric': 'euclidean'}</td>\n",
       "      <td>0.882691</td>\n",
       "    </tr>\n",
       "    <tr>\n",
       "      <th>15</th>\n",
       "      <td>KNN</td>\n",
       "      <td>{'algorithm': 'brute', 'weights': 'distance', 'metric': 'manhattan'}</td>\n",
       "      <td>0.884856</td>\n",
       "    </tr>\n",
       "  </tbody>\n",
       "</table>\n",
       "</div>"
      ],
      "text/plain": [
       "   model  \\\n",
       "0    KNN   \n",
       "1    KNN   \n",
       "2    KNN   \n",
       "3    KNN   \n",
       "4    KNN   \n",
       "5    KNN   \n",
       "6    KNN   \n",
       "7    KNN   \n",
       "8    KNN   \n",
       "9    KNN   \n",
       "10   KNN   \n",
       "11   KNN   \n",
       "12   KNN   \n",
       "13   KNN   \n",
       "14   KNN   \n",
       "15   KNN   \n",
       "\n",
       "                                                                  parameters  \\\n",
       "0         {'algorithm': 'auto', 'weights': 'uniform', 'metric': 'euclidean'}   \n",
       "1         {'algorithm': 'auto', 'weights': 'uniform', 'metric': 'manhattan'}   \n",
       "2        {'algorithm': 'auto', 'weights': 'distance', 'metric': 'euclidean'}   \n",
       "3        {'algorithm': 'auto', 'weights': 'distance', 'metric': 'manhattan'}   \n",
       "4    {'algorithm': 'ball_tree', 'weights': 'uniform', 'metric': 'euclidean'}   \n",
       "5    {'algorithm': 'ball_tree', 'weights': 'uniform', 'metric': 'manhattan'}   \n",
       "6   {'algorithm': 'ball_tree', 'weights': 'distance', 'metric': 'euclidean'}   \n",
       "7   {'algorithm': 'ball_tree', 'weights': 'distance', 'metric': 'manhattan'}   \n",
       "8      {'algorithm': 'kd_tree', 'weights': 'uniform', 'metric': 'euclidean'}   \n",
       "9      {'algorithm': 'kd_tree', 'weights': 'uniform', 'metric': 'manhattan'}   \n",
       "10    {'algorithm': 'kd_tree', 'weights': 'distance', 'metric': 'euclidean'}   \n",
       "11    {'algorithm': 'kd_tree', 'weights': 'distance', 'metric': 'manhattan'}   \n",
       "12       {'algorithm': 'brute', 'weights': 'uniform', 'metric': 'euclidean'}   \n",
       "13       {'algorithm': 'brute', 'weights': 'uniform', 'metric': 'manhattan'}   \n",
       "14      {'algorithm': 'brute', 'weights': 'distance', 'metric': 'euclidean'}   \n",
       "15      {'algorithm': 'brute', 'weights': 'distance', 'metric': 'manhattan'}   \n",
       "\n",
       "    mean_test_score  \n",
       "0          0.882229  \n",
       "1          0.885405  \n",
       "2          0.882691  \n",
       "3          0.884856  \n",
       "4          0.882229  \n",
       "5          0.885809  \n",
       "6          0.882691  \n",
       "7          0.885203  \n",
       "8          0.882229  \n",
       "9          0.885953  \n",
       "10         0.882691  \n",
       "11         0.885289  \n",
       "12         0.882229  \n",
       "13         0.885405  \n",
       "14         0.882691  \n",
       "15         0.884856  "
      ]
     },
     "execution_count": 68,
     "metadata": {},
     "output_type": "execute_result"
    }
   ],
   "source": [
    "results_knn = pd.DataFrame({'model': 'KNN', 'parameters': params, 'mean_test_score': scores_valid})\n",
    "\n",
    "results_knn"
   ]
  },
  {
   "cell_type": "markdown",
   "id": "d12140ac",
   "metadata": {},
   "source": [
    "### Now that we have the best composition of parameters, we are going to retrain de model with those"
   ]
  },
  {
   "cell_type": "code",
   "execution_count": 29,
   "id": "8a9f0293",
   "metadata": {},
   "outputs": [],
   "source": [
    "model_best = KNeighborsClassifier(**best_params)"
   ]
  },
  {
   "cell_type": "code",
   "execution_count": 30,
   "id": "20d9e3d7",
   "metadata": {},
   "outputs": [
    {
     "data": {
      "text/plain": [
       "KNeighborsClassifier(metric='euclidean')"
      ]
     },
     "execution_count": 30,
     "metadata": {},
     "output_type": "execute_result"
    }
   ],
   "source": [
    "model_best.fit(X_train, y_train)"
   ]
  },
  {
   "cell_type": "code",
   "execution_count": 37,
   "id": "b71d2746",
   "metadata": {
    "scrolled": false
   },
   "outputs": [
    {
     "name": "stdout",
     "output_type": "stream",
     "text": [
      "0.8774685298533318\n"
     ]
    },
    {
     "data": {
      "image/png": "[encoded data removed]",
      "text/plain": [
       "<Figure size 360x360 with 2 Axes>"
      ]
     },
     "metadata": {
      "needs_background": "light"
     },
     "output_type": "display_data"
    },
    {
     "name": "stdout",
     "output_type": "stream",
     "text": [
      "              precision    recall  f1-score   support\n",
      "\n",
      "           0       0.91      0.96      0.93      7652\n",
      "           1       0.45      0.26      0.33      1007\n",
      "\n",
      "    accuracy                           0.88      8659\n",
      "   macro avg       0.68      0.61      0.63      8659\n",
      "weighted avg       0.86      0.88      0.86      8659\n",
      "\n"
     ]
    }
   ],
   "source": [
    "y_pred = model_best.predict(X_test)\n",
    "\n",
    "print(f1_score(y_test, y_pred, average='micro'))\n",
    "plot_cf_matrix(y_test, y_pred)\n",
    "print(classification_report(y_test,y_pred))"
   ]
  },
  {
   "cell_type": "markdown",
   "id": "6c3de2c3",
   "metadata": {},
   "source": [
    "### Impressions about the results\n",
    "\n",
    "Exploring the results, we easely can see that the model has accuracy problems we it tryes to predict the value 1, from y. It happens because the dataset is unbalanced. For the next section, we are going  to solve this, by applying balancing technics."
   ]
  },
  {
   "cell_type": "markdown",
   "id": "966c9729",
   "metadata": {},
   "source": [
    "## Using balanced dataset - SMOTET method"
   ]
  },
  {
   "cell_type": "code",
   "execution_count": 38,
   "id": "919bbdf0",
   "metadata": {},
   "outputs": [],
   "source": [
    "from imblearn.combine import SMOTEENN, SMOTETomek\n",
    "from imblearn.under_sampling import NearMiss"
   ]
  },
  {
   "cell_type": "code",
   "execution_count": 39,
   "id": "8a888760",
   "metadata": {},
   "outputs": [],
   "source": [
    "X_train_upsample, y_train_upsample = SMOTETomek(random_state=42).fit_resample(X_train, y_train)"
   ]
  },
  {
   "cell_type": "code",
   "execution_count": 43,
   "id": "2e0b71a2",
   "metadata": {},
   "outputs": [
    {
     "name": "stdout",
     "output_type": "stream",
     "text": [
      "(34635, 45) \n",
      " 0    30605\n",
      "1     4030\n",
      "Name: y, dtype: int64 \n",
      " 0    29853\n",
      "1    29853\n",
      "Name: y, dtype: int64\n"
     ]
    }
   ],
   "source": [
    "print(X_train.shape,\"\\n\",y_train.value_counts(),\"\\n\",y_train_upsample.value_counts())"
   ]
  },
  {
   "cell_type": "code",
   "execution_count": 45,
   "id": "e59e6a68",
   "metadata": {},
   "outputs": [
    {
     "data": {
      "text/plain": [
       "KNeighborsClassifier(metric='euclidean')"
      ]
     },
     "execution_count": 45,
     "metadata": {},
     "output_type": "execute_result"
    }
   ],
   "source": [
    "model_best_bal = KNeighborsClassifier(**best_params)\n",
    "model_best_bal.fit(X_train_upsample,y_train_upsample)"
   ]
  },
  {
   "cell_type": "code",
   "execution_count": 47,
   "id": "e4e37ba7",
   "metadata": {
    "scrolled": false
   },
   "outputs": [
    {
     "name": "stdout",
     "output_type": "stream",
     "text": [
      "0.7681025522577665\n"
     ]
    },
    {
     "data": {
      "image/png": "[encoded data removed]",
      "text/plain": [
       "<Figure size 360x360 with 2 Axes>"
      ]
     },
     "metadata": {
      "needs_background": "light"
     },
     "output_type": "display_data"
    },
    {
     "name": "stdout",
     "output_type": "stream",
     "text": [
      "              precision    recall  f1-score   support\n",
      "\n",
      "           0       0.94      0.78      0.86      7652\n",
      "           1       0.28      0.64      0.39      1007\n",
      "\n",
      "    accuracy                           0.77      8659\n",
      "   macro avg       0.61      0.71      0.62      8659\n",
      "weighted avg       0.87      0.77      0.80      8659\n",
      "\n"
     ]
    }
   ],
   "source": [
    "# for the test set\n",
    "y_pred_bal = model_best_bal.predict(X_test)\n",
    "\n",
    "print(f1_score(y_test, y_pred_bal, average='micro'))\n",
    "plot_cf_matrix(y_test, y_pred_bal)\n",
    "print(classification_report(y_test, y_pred_bal))"
   ]
  },
  {
   "cell_type": "markdown",
   "id": "2396906b",
   "metadata": {},
   "source": [
    "Even with the application of the `SMOTET` to solve the balance issues, the model get worst after this changes. Even the training time get way bigger."
   ]
  },
  {
   "cell_type": "markdown",
   "id": "5fc295cc",
   "metadata": {},
   "source": [
    "## Using balanced dataset - Under Sampling Method"
   ]
  },
  {
   "cell_type": "code",
   "execution_count": 48,
   "id": "d57dc784",
   "metadata": {},
   "outputs": [
    {
     "data": {
      "text/plain": [
       "KNeighborsClassifier(metric='euclidean')"
      ]
     },
     "execution_count": 48,
     "metadata": {},
     "output_type": "execute_result"
    }
   ],
   "source": [
    "from imblearn.under_sampling import RepeatedEditedNearestNeighbours \n",
    "\n",
    "X_train_upsample2, y_train_upsample2 = RepeatedEditedNearestNeighbours().fit_resample(X_train, y_train)\n",
    "model_best_balanced2 = KNeighborsClassifier(**best_params)\n",
    "model_best_balanced2.fit(X_train_upsample2, y_train_upsample2)"
   ]
  },
  {
   "cell_type": "code",
   "execution_count": 49,
   "id": "1a0f99f9",
   "metadata": {
    "scrolled": false
   },
   "outputs": [
    {
     "name": "stdout",
     "output_type": "stream",
     "text": [
      "0.8365862108788543\n"
     ]
    },
    {
     "data": {
      "image/png": "[encoded data removed]",
      "text/plain": [
       "<Figure size 360x360 with 2 Axes>"
      ]
     },
     "metadata": {
      "needs_background": "light"
     },
     "output_type": "display_data"
    },
    {
     "name": "stdout",
     "output_type": "stream",
     "text": [
      "              precision    recall  f1-score   support\n",
      "\n",
      "           0       0.95      0.86      0.90      7652\n",
      "           1       0.38      0.63      0.47      1007\n",
      "\n",
      "    accuracy                           0.84      8659\n",
      "   macro avg       0.66      0.74      0.69      8659\n",
      "weighted avg       0.88      0.84      0.85      8659\n",
      "\n"
     ]
    }
   ],
   "source": [
    "y_pred_bal2 = model_best_balanced2.predict(X_test)\n",
    "\n",
    "print(f1_score(y_test, y_pred_bal2, average='micro'))\n",
    "plot_cf_matrix(y_test, y_pred_bal2)\n",
    "print(classification_report(y_test, y_pred_bal2))"
   ]
  },
  {
   "cell_type": "markdown",
   "id": "7e47cb8d",
   "metadata": {},
   "source": [
    "## Using balanced dataset - RandomOverSampler method"
   ]
  },
  {
   "cell_type": "code",
   "execution_count": 53,
   "id": "0600cb05",
   "metadata": {},
   "outputs": [
    {
     "data": {
      "text/plain": [
       "KNeighborsClassifier(metric='euclidean')"
      ]
     },
     "execution_count": 53,
     "metadata": {},
     "output_type": "execute_result"
    }
   ],
   "source": [
    "from imblearn.over_sampling import RandomOverSampler\n",
    "\n",
    "ros = RandomOverSampler(random_state=SEED)\n",
    "X_train_resampled, y_train_resampled = ros.fit_resample(X_train, y_train)\n",
    "model_best_balanced22 = KNeighborsClassifier(**best_params)\n",
    "model_best_balanced22.fit(X_train_resampled, y_train_resampled)"
   ]
  },
  {
   "cell_type": "code",
   "execution_count": 54,
   "id": "06c535a0",
   "metadata": {},
   "outputs": [
    {
     "name": "stdout",
     "output_type": "stream",
     "text": [
      "0.786349462986488\n"
     ]
    },
    {
     "data": {
      "image/png": "[encoded data removed]",
      "text/plain": [
       "<Figure size 360x360 with 2 Axes>"
      ]
     },
     "metadata": {
      "needs_background": "light"
     },
     "output_type": "display_data"
    },
    {
     "name": "stdout",
     "output_type": "stream",
     "text": [
      "              precision    recall  f1-score   support\n",
      "\n",
      "           0       0.94      0.81      0.87      7652\n",
      "           1       0.30      0.61      0.40      1007\n",
      "\n",
      "    accuracy                           0.79      8659\n",
      "   macro avg       0.62      0.71      0.63      8659\n",
      "weighted avg       0.87      0.79      0.82      8659\n",
      "\n"
     ]
    }
   ],
   "source": [
    "y_pred_bal22 = model_best_balanced22.predict(X_test)\n",
    "\n",
    "print(f1_score(y_test, y_pred_bal22, average='micro'))\n",
    "plot_cf_matrix(y_test, y_pred_bal22)\n",
    "print(classification_report(y_test, y_pred_bal22))"
   ]
  },
  {
   "cell_type": "markdown",
   "id": "5192ac6c",
   "metadata": {},
   "source": [
    "## Training  the best built model without the features 'balance' and 'duration'"
   ]
  },
  {
   "cell_type": "code",
   "execution_count": 64,
   "id": "7cdc2c3e",
   "metadata": {},
   "outputs": [],
   "source": [
    "#X_train.drop(['balance'],axis=1,inplace=True)\n",
    "#X_test.drop(['balance'],axis=1,inplace=True)\n",
    "\n",
    "X_train.drop(['duration'],axis=1,inplace=True)\n",
    "X_test.drop(['duration'],axis=1,inplace=True)"
   ]
  },
  {
   "cell_type": "code",
   "execution_count": 65,
   "id": "0642b876",
   "metadata": {},
   "outputs": [
    {
     "data": {
      "text/plain": [
       "KNeighborsClassifier(metric='euclidean')"
      ]
     },
     "execution_count": 65,
     "metadata": {},
     "output_type": "execute_result"
    }
   ],
   "source": [
    "model_best.fit(X_train, y_train)"
   ]
  },
  {
   "cell_type": "code",
   "execution_count": 66,
   "id": "db928fb8",
   "metadata": {
    "scrolled": false
   },
   "outputs": [
    {
     "name": "stdout",
     "output_type": "stream",
     "text": [
      "0.8726180852292412\n"
     ]
    },
    {
     "data": {
      "image/png": "[encoded data removed]",
      "text/plain": [
       "<Figure size 360x360 with 2 Axes>"
      ]
     },
     "metadata": {
      "needs_background": "light"
     },
     "output_type": "display_data"
    },
    {
     "name": "stdout",
     "output_type": "stream",
     "text": [
      "              precision    recall  f1-score   support\n",
      "\n",
      "           0       0.89      0.98      0.93      7652\n",
      "           1       0.33      0.09      0.14      1007\n",
      "\n",
      "    accuracy                           0.87      8659\n",
      "   macro avg       0.61      0.53      0.54      8659\n",
      "weighted avg       0.83      0.87      0.84      8659\n",
      "\n"
     ]
    }
   ],
   "source": [
    "y_pred = model_best.predict(X_test)\n",
    "\n",
    "print(f1_score(y_test, y_pred, average='micro'))\n",
    "plot_cf_matrix(y_test, y_pred)\n",
    "print(classification_report(y_test,y_pred))"
   ]
  },
  {
   "cell_type": "markdown",
   "id": "2f50d99d",
   "metadata": {},
   "source": [
    "# Saving best model"
   ]
  },
  {
   "cell_type": "code",
   "execution_count": 69,
   "id": "9320c152",
   "metadata": {},
   "outputs": [
    {
     "data": {
      "text/html": [
       "<div>\n",
       "<style scoped>\n",
       "    .dataframe tbody tr th:only-of-type {\n",
       "        vertical-align: middle;\n",
       "    }\n",
       "\n",
       "    .dataframe tbody tr th {\n",
       "        vertical-align: top;\n",
       "    }\n",
       "\n",
       "    .dataframe thead th {\n",
       "        text-align: right;\n",
       "    }\n",
       "</style>\n",
       "<table border=\"1\" class=\"dataframe\">\n",
       "  <thead>\n",
       "    <tr style=\"text-align: right;\">\n",
       "      <th></th>\n",
       "      <th>model</th>\n",
       "      <th>parameters</th>\n",
       "      <th>mean_test_score</th>\n",
       "    </tr>\n",
       "  </thead>\n",
       "  <tbody>\n",
       "    <tr>\n",
       "      <th>0</th>\n",
       "      <td>KNN</td>\n",
       "      <td>{'algorithm': 'auto', 'weights': 'uniform', 'metric': 'euclidean'}</td>\n",
       "      <td>0.882229</td>\n",
       "    </tr>\n",
       "    <tr>\n",
       "      <th>1</th>\n",
       "      <td>KNN</td>\n",
       "      <td>{'algorithm': 'auto', 'weights': 'uniform', 'metric': 'manhattan'}</td>\n",
       "      <td>0.885405</td>\n",
       "    </tr>\n",
       "    <tr>\n",
       "      <th>2</th>\n",
       "      <td>KNN</td>\n",
       "      <td>{'algorithm': 'auto', 'weights': 'distance', 'metric': 'euclidean'}</td>\n",
       "      <td>0.882691</td>\n",
       "    </tr>\n",
       "    <tr>\n",
       "      <th>3</th>\n",
       "      <td>KNN</td>\n",
       "      <td>{'algorithm': 'auto', 'weights': 'distance', 'metric': 'manhattan'}</td>\n",
       "      <td>0.884856</td>\n",
       "    </tr>\n",
       "    <tr>\n",
       "      <th>4</th>\n",
       "      <td>KNN</td>\n",
       "      <td>{'algorithm': 'ball_tree', 'weights': 'uniform', 'metric': 'euclidean'}</td>\n",
       "      <td>0.882229</td>\n",
       "    </tr>\n",
       "    <tr>\n",
       "      <th>5</th>\n",
       "      <td>KNN</td>\n",
       "      <td>{'algorithm': 'ball_tree', 'weights': 'uniform', 'metric': 'manhattan'}</td>\n",
       "      <td>0.885809</td>\n",
       "    </tr>\n",
       "    <tr>\n",
       "      <th>6</th>\n",
       "      <td>KNN</td>\n",
       "      <td>{'algorithm': 'ball_tree', 'weights': 'distance', 'metric': 'euclidean'}</td>\n",
       "      <td>0.882691</td>\n",
       "    </tr>\n",
       "    <tr>\n",
       "      <th>7</th>\n",
       "      <td>KNN</td>\n",
       "      <td>{'algorithm': 'ball_tree', 'weights': 'distance', 'metric': 'manhattan'}</td>\n",
       "      <td>0.885203</td>\n",
       "    </tr>\n",
       "    <tr>\n",
       "      <th>8</th>\n",
       "      <td>KNN</td>\n",
       "      <td>{'algorithm': 'kd_tree', 'weights': 'uniform', 'metric': 'euclidean'}</td>\n",
       "      <td>0.882229</td>\n",
       "    </tr>\n",
       "    <tr>\n",
       "      <th>9</th>\n",
       "      <td>KNN</td>\n",
       "      <td>{'algorithm': 'kd_tree', 'weights': 'uniform', 'metric': 'manhattan'}</td>\n",
       "      <td>0.885953</td>\n",
       "    </tr>\n",
       "    <tr>\n",
       "      <th>10</th>\n",
       "      <td>KNN</td>\n",
       "      <td>{'algorithm': 'kd_tree', 'weights': 'distance', 'metric': 'euclidean'}</td>\n",
       "      <td>0.882691</td>\n",
       "    </tr>\n",
       "    <tr>\n",
       "      <th>11</th>\n",
       "      <td>KNN</td>\n",
       "      <td>{'algorithm': 'kd_tree', 'weights': 'distance', 'metric': 'manhattan'}</td>\n",
       "      <td>0.885289</td>\n",
       "    </tr>\n",
       "    <tr>\n",
       "      <th>12</th>\n",
       "      <td>KNN</td>\n",
       "      <td>{'algorithm': 'brute', 'weights': 'uniform', 'metric': 'euclidean'}</td>\n",
       "      <td>0.882229</td>\n",
       "    </tr>\n",
       "    <tr>\n",
       "      <th>13</th>\n",
       "      <td>KNN</td>\n",
       "      <td>{'algorithm': 'brute', 'weights': 'uniform', 'metric': 'manhattan'}</td>\n",
       "      <td>0.885405</td>\n",
       "    </tr>\n",
       "    <tr>\n",
       "      <th>14</th>\n",
       "      <td>KNN</td>\n",
       "      <td>{'algorithm': 'brute', 'weights': 'distance', 'metric': 'euclidean'}</td>\n",
       "      <td>0.882691</td>\n",
       "    </tr>\n",
       "    <tr>\n",
       "      <th>15</th>\n",
       "      <td>KNN</td>\n",
       "      <td>{'algorithm': 'brute', 'weights': 'distance', 'metric': 'manhattan'}</td>\n",
       "      <td>0.884856</td>\n",
       "    </tr>\n",
       "  </tbody>\n",
       "</table>\n",
       "</div>"
      ],
      "text/plain": [
       "   model  \\\n",
       "0    KNN   \n",
       "1    KNN   \n",
       "2    KNN   \n",
       "3    KNN   \n",
       "4    KNN   \n",
       "5    KNN   \n",
       "6    KNN   \n",
       "7    KNN   \n",
       "8    KNN   \n",
       "9    KNN   \n",
       "10   KNN   \n",
       "11   KNN   \n",
       "12   KNN   \n",
       "13   KNN   \n",
       "14   KNN   \n",
       "15   KNN   \n",
       "\n",
       "                                                                  parameters  \\\n",
       "0         {'algorithm': 'auto', 'weights': 'uniform', 'metric': 'euclidean'}   \n",
       "1         {'algorithm': 'auto', 'weights': 'uniform', 'metric': 'manhattan'}   \n",
       "2        {'algorithm': 'auto', 'weights': 'distance', 'metric': 'euclidean'}   \n",
       "3        {'algorithm': 'auto', 'weights': 'distance', 'metric': 'manhattan'}   \n",
       "4    {'algorithm': 'ball_tree', 'weights': 'uniform', 'metric': 'euclidean'}   \n",
       "5    {'algorithm': 'ball_tree', 'weights': 'uniform', 'metric': 'manhattan'}   \n",
       "6   {'algorithm': 'ball_tree', 'weights': 'distance', 'metric': 'euclidean'}   \n",
       "7   {'algorithm': 'ball_tree', 'weights': 'distance', 'metric': 'manhattan'}   \n",
       "8      {'algorithm': 'kd_tree', 'weights': 'uniform', 'metric': 'euclidean'}   \n",
       "9      {'algorithm': 'kd_tree', 'weights': 'uniform', 'metric': 'manhattan'}   \n",
       "10    {'algorithm': 'kd_tree', 'weights': 'distance', 'metric': 'euclidean'}   \n",
       "11    {'algorithm': 'kd_tree', 'weights': 'distance', 'metric': 'manhattan'}   \n",
       "12       {'algorithm': 'brute', 'weights': 'uniform', 'metric': 'euclidean'}   \n",
       "13       {'algorithm': 'brute', 'weights': 'uniform', 'metric': 'manhattan'}   \n",
       "14      {'algorithm': 'brute', 'weights': 'distance', 'metric': 'euclidean'}   \n",
       "15      {'algorithm': 'brute', 'weights': 'distance', 'metric': 'manhattan'}   \n",
       "\n",
       "    mean_test_score  \n",
       "0          0.882229  \n",
       "1          0.885405  \n",
       "2          0.882691  \n",
       "3          0.884856  \n",
       "4          0.882229  \n",
       "5          0.885809  \n",
       "6          0.882691  \n",
       "7          0.885203  \n",
       "8          0.882229  \n",
       "9          0.885953  \n",
       "10         0.882691  \n",
       "11         0.885289  \n",
       "12         0.882229  \n",
       "13         0.885405  \n",
       "14         0.882691  \n",
       "15         0.884856  "
      ]
     },
     "execution_count": 69,
     "metadata": {},
     "output_type": "execute_result"
    }
   ],
   "source": [
    "results_knn"
   ]
  },
  {
   "cell_type": "code",
   "execution_count": 78,
   "id": "6ecdb659",
   "metadata": {},
   "outputs": [],
   "source": [
    "df_results = pd.read_csv(\"../models/results_models.csv\")"
   ]
  },
  {
   "cell_type": "code",
   "execution_count": 71,
   "id": "59bed227",
   "metadata": {},
   "outputs": [],
   "source": [
    "df_results = pd.concat([results_knn, df_results], ignore_index=True)"
   ]
  },
  {
   "cell_type": "code",
   "execution_count": 72,
   "id": "516ef0ad",
   "metadata": {},
   "outputs": [],
   "source": [
    "df_results.to_csv(\"../models/results_models.csv\", index=False)"
   ]
  },
  {
   "cell_type": "markdown",
   "id": "93102a51",
   "metadata": {},
   "source": [
    "# Exporting model"
   ]
  },
  {
   "cell_type": "code",
   "execution_count": 73,
   "id": "89d2162d",
   "metadata": {},
   "outputs": [
    {
     "data": {
      "text/plain": [
       "['../models/knn.joblib']"
      ]
     },
     "execution_count": 73,
     "metadata": {},
     "output_type": "execute_result"
    }
   ],
   "source": [
    "from joblib import dump, load\n",
    "dump(model_best, '../models/knn.joblib') "
   ]
  },
  {
   "cell_type": "code",
   "execution_count": null,
   "id": "af56807a",
   "metadata": {},
   "outputs": [],
   "source": []
  }
 ],
 "metadata": {
  "kernelspec": {
   "display_name": "Python 3 (ipykernel)",
   "language": "python",
   "name": "python3"
  },
  "language_info": {
   "codemirror_mode": {
    "name": "ipython",
    "version": 3
   },
   "file_extension": ".py",
   "mimetype": "text/x-python",
   "name": "python",
   "nbconvert_exporter": "python",
   "pygments_lexer": "ipython3",
   "version": "3.9.7"
  }
 },
 "nbformat": 4,
 "nbformat_minor": 5
}
